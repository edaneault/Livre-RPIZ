{
 "cells": [
  {
   "cell_type": "markdown",
   "id": "a6a9fca8-9755-469c-9853-569a15c2b2d1",
   "metadata": {},
   "source": [
    "## Basic handshake"
   ]
  },
  {
   "cell_type": "code",
   "execution_count": 8,
   "id": "cbf70086-b7c9-4567-9cf8-de8ab7104c22",
   "metadata": {},
   "outputs": [
    {
     "data": {
      "text/plain": [
       "b'OK'"
      ]
     },
     "execution_count": 8,
     "metadata": {},
     "output_type": "execute_result"
    }
   ],
   "source": [
    "import serial\n",
    "\n",
    "sp = serial.Serial(\"/dev/serial0\")\n",
    "\n",
    "sp.baudrate = 115200\n",
    "\n",
    "handshake = b'\\xA5\\x00\\x09\\x00\\xCC\\x33\\xC3\\x3C\\xAC'\n",
    "\n",
    "sp.write(handshake)\n",
    "\n",
    "sp.read(2)"
   ]
  },
  {
   "cell_type": "markdown",
   "id": "06576553-4684-4126-9cb0-911ffc70925d",
   "metadata": {
    "jp-MarkdownHeadingCollapsed": true
   },
   "source": [
    "## Command format"
   ]
  },
  {
   "cell_type": "markdown",
   "id": "638e5b1d-541b-413c-887d-6c9dc7c3d25e",
   "metadata": {},
   "source": [
    "Content (Hex) | Description  | Size (bytes)\n",
    "--------------|--------------|-----\n",
    "  A5          | Frame Header | 1\n",
    "  XX XX       | Frame length | 2\n",
    "  XX          | Command      | 1\n",
    "  XX ...      | Data         | 0-1024\n",
    "  CC 33 C3 3C | Frame Footer | 4\n",
    "  XX          | Parity       | 1"
   ]
  },
  {
   "cell_type": "markdown",
   "id": "eda81955-682f-4cd1-a52a-6707d0b25deb",
   "metadata": {},
   "source": [
    "Parity = XOR reste de la trame"
   ]
  },
  {
   "cell_type": "markdown",
   "id": "f2267ead-f6c9-48e6-a2bd-e4dc3b7619d0",
   "metadata": {
    "jp-MarkdownHeadingCollapsed": true
   },
   "source": [
    "## Hex en python"
   ]
  },
  {
   "cell_type": "code",
   "execution_count": 6,
   "id": "2cbf8aec-e829-4899-93d1-5c1beb6935d2",
   "metadata": {},
   "outputs": [
    {
     "data": {
      "text/plain": [
       "'0x5f'"
      ]
     },
     "execution_count": 6,
     "metadata": {},
     "output_type": "execute_result"
    }
   ],
   "source": [
    "hex(95)"
   ]
  },
  {
   "cell_type": "code",
   "execution_count": 7,
   "id": "550ab674-842f-4041-8a03-35130bfdeb72",
   "metadata": {},
   "outputs": [
    {
     "data": {
      "text/plain": [
       "str"
      ]
     },
     "execution_count": 7,
     "metadata": {},
     "output_type": "execute_result"
    }
   ],
   "source": [
    "type(hex(95))"
   ]
  },
  {
   "cell_type": "code",
   "execution_count": 8,
   "id": "82d2d514-dee2-40e6-938e-ba7a43009dcf",
   "metadata": {},
   "outputs": [
    {
     "data": {
      "text/plain": [
       "4"
      ]
     },
     "execution_count": 8,
     "metadata": {},
     "output_type": "execute_result"
    }
   ],
   "source": [
    "len(\"allo\")"
   ]
  },
  {
   "cell_type": "code",
   "execution_count": 23,
   "id": "bfa799b9-f689-43ae-b217-b9aa32a5b302",
   "metadata": {},
   "outputs": [
    {
     "data": {
      "text/plain": [
       "4"
      ]
     },
     "execution_count": 23,
     "metadata": {},
     "output_type": "execute_result"
    }
   ],
   "source": [
    "len(hex(95))"
   ]
  },
  {
   "cell_type": "code",
   "execution_count": 24,
   "id": "2b4d60b3-6f0c-41fe-b0a1-f36d4051b9f4",
   "metadata": {},
   "outputs": [
    {
     "data": {
      "text/plain": [
       "bytes"
      ]
     },
     "execution_count": 24,
     "metadata": {},
     "output_type": "execute_result"
    }
   ],
   "source": [
    "bytes"
   ]
  },
  {
   "cell_type": "code",
   "execution_count": 25,
   "id": "b966bef4-6f38-47f4-b7e3-c26ec4a1dd38",
   "metadata": {},
   "outputs": [
    {
     "data": {
      "text/plain": [
       "type"
      ]
     },
     "execution_count": 25,
     "metadata": {},
     "output_type": "execute_result"
    }
   ],
   "source": [
    "type(bytes)"
   ]
  },
  {
   "cell_type": "code",
   "execution_count": 26,
   "id": "4dbbca00-c5e2-42ff-bf13-4fd0fe74f3eb",
   "metadata": {},
   "outputs": [
    {
     "data": {
      "text/plain": [
       "b'_'"
      ]
     },
     "execution_count": 26,
     "metadata": {},
     "output_type": "execute_result"
    }
   ],
   "source": [
    "(95).to_bytes()"
   ]
  },
  {
   "cell_type": "markdown",
   "id": "73ebf2e3-d5df-4608-9bbe-36e8bf9c0eca",
   "metadata": {},
   "source": [
    "Le dernier retour ressemble a quelqu'un qui me fait un petit thumb up dolle"
   ]
  },
  {
   "cell_type": "code",
   "execution_count": 27,
   "id": "82f348af-ff82-49a0-9774-8d48d72fc464",
   "metadata": {},
   "outputs": [
    {
     "data": {
      "text/plain": [
       "b'\\x00\\x00\\x00\\x00\\x00\\x00\\x00\\x00\\x00\\x00\\x00\\x00\\x00\\x00\\x00\\x00\\x00\\x00\\x00\\x00\\x00\\x00\\x00\\x00\\x00\\x00\\x00\\x00\\x00\\x00\\x00\\x00\\x00\\x00\\x00\\x00\\x00\\x00\\x00\\x00\\x00\\x00\\x00\\x00\\x00\\x00\\x00\\x00\\x00\\x00\\x00\\x00\\x00\\x00\\x00\\x00\\x00\\x00\\x00\\x00\\x00\\x00\\x00\\x00\\x00\\x00\\x00\\x00\\x00\\x00\\x00\\x00\\x00\\x00\\x00\\x00\\x00\\x00\\x00\\x00\\x00\\x00\\x00\\x00\\x00\\x00\\x00\\x00\\x00\\x00\\x00\\x00\\x00\\x00\\x00'"
      ]
     },
     "execution_count": 27,
     "metadata": {},
     "output_type": "execute_result"
    }
   ],
   "source": [
    "bytes(95)"
   ]
  },
  {
   "cell_type": "code",
   "execution_count": 28,
   "id": "d1cdb4c2-471a-4832-ad9f-45cbe4383d51",
   "metadata": {},
   "outputs": [
    {
     "data": {
      "text/plain": [
       "b'_\\x00\\x0b'"
      ]
     },
     "execution_count": 28,
     "metadata": {},
     "output_type": "execute_result"
    }
   ],
   "source": [
    "bytes([95, 00, 11])"
   ]
  },
  {
   "cell_type": "code",
   "execution_count": 29,
   "id": "872dd100-917f-4c45-b0f7-cc6c8babfcbb",
   "metadata": {},
   "outputs": [
    {
     "data": {
      "text/plain": [
       "b'\\x95'"
      ]
     },
     "execution_count": 29,
     "metadata": {},
     "output_type": "execute_result"
    }
   ],
   "source": [
    "b'\\x95'"
   ]
  },
  {
   "cell_type": "code",
   "execution_count": 30,
   "id": "07b8ac4a-5782-4182-8b66-838480d319e4",
   "metadata": {},
   "outputs": [
    {
     "data": {
      "text/plain": [
       "165"
      ]
     },
     "execution_count": 30,
     "metadata": {},
     "output_type": "execute_result"
    }
   ],
   "source": [
    "int(\"A5\", 16)"
   ]
  },
  {
   "cell_type": "code",
   "execution_count": 31,
   "id": "e98fbe6f-4fcf-45b3-bea7-c35e9c5d333a",
   "metadata": {},
   "outputs": [
    {
     "data": {
      "text/plain": [
       "255"
      ]
     },
     "execution_count": 31,
     "metadata": {},
     "output_type": "execute_result"
    }
   ],
   "source": [
    "int(\"FF\", 16)"
   ]
  },
  {
   "cell_type": "code",
   "execution_count": 32,
   "id": "45676d46-41df-44ea-b696-7aef48e088f7",
   "metadata": {},
   "outputs": [
    {
     "data": {
      "text/plain": [
       "'0xa5'"
      ]
     },
     "execution_count": 32,
     "metadata": {},
     "output_type": "execute_result"
    }
   ],
   "source": [
    "hex(int(\"A5\", 16))"
   ]
  },
  {
   "cell_type": "code",
   "execution_count": 33,
   "id": "d15636f5-727d-4766-aebf-cd9b6dc0d9b7",
   "metadata": {},
   "outputs": [
    {
     "data": {
      "text/plain": [
       "b'\\xa5'"
      ]
     },
     "execution_count": 33,
     "metadata": {},
     "output_type": "execute_result"
    }
   ],
   "source": [
    "bytes([165])"
   ]
  },
  {
   "cell_type": "code",
   "execution_count": 34,
   "id": "bea8a04e-224f-4300-a2d1-46ba1037ac5d",
   "metadata": {},
   "outputs": [
    {
     "data": {
      "text/plain": [
       "165"
      ]
     },
     "execution_count": 34,
     "metadata": {},
     "output_type": "execute_result"
    }
   ],
   "source": [
    "0xA5"
   ]
  },
  {
   "cell_type": "code",
   "execution_count": 35,
   "id": "bb6098df-a304-4734-b0cb-14a018eaba06",
   "metadata": {},
   "outputs": [
    {
     "data": {
      "text/plain": [
       "b'\\xa5'"
      ]
     },
     "execution_count": 35,
     "metadata": {},
     "output_type": "execute_result"
    }
   ],
   "source": [
    "bytes([0xA5])"
   ]
  },
  {
   "cell_type": "markdown",
   "id": "d6dfd60d-c167-4a8c-bada-6120df78712e",
   "metadata": {
    "jp-MarkdownHeadingCollapsed": true
   },
   "source": [
    "## Commandes"
   ]
  },
  {
   "cell_type": "markdown",
   "id": "07684683-fe35-4fb3-b0cf-67e0eaf3e7b8",
   "metadata": {},
   "source": [
    "Code | Short Description     | Info                                        | Parameter\n",
    "-----|-----------------------|---------------------------------------------|---------\n",
    "0x00 | Handshake             | Module replies \"OK\"                         | -\n",
    "0x01 | Set Baudrate          |                                             | Dword: Baud rate                                                                                                           \n",
    "0x02 | Get current Baudrate  |                                             | -                                                                                                                                      \n",
    "0x06 | Get storage area      | 0 = Nand, 1 = SD                            | -                                                                                                                                      \n",
    "0x07 | Set storage area      | 0 = Nand, 1 = SD                            | Byte: Storage area\n",
    "0x08 | Enter sleep           |                                             | -                                                                                                                                      \n",
    "0x0A | Refresh               |                                             | -                                                                                                                                      \n",
    "0x0C | Get orientation       | 0 = 0deg, 1 = 90deg, 2 = 180deg, 3 = 270deg | -                                                                                                                                      \n",
    "0x0D | Set orientation       | 0 = 0deg, 1 = 90deg, 2 = 180deg, 3 = 270deg | Byte: Display orientation                                                                                                           \n",
    "0x0E | Import font library   |                                             | -                                                                                                                                      \n",
    "0x0F | Import image          | Unclear - check doc                         | -                                                                                                                                      \n",
    "0x10 | Set drawing color     |                                             | Byte0: foreground color  Byte1: background color                                                                                          \n",
    "0x11 | Get drawing color     |                                             | -                                                                                                                                      \n",
    "0x1C | Get English font size | 1 = 32 dots, 2 = 48 dots, 3 = 64 dots       | -                                                                                                                                      \n",
    "0x1D | Get font size         | 1 = 32 dots, 2 = 48 dots, 3 = 64 dots       | -                                                                                                                                      \n",
    "0x1E | Set English font size | 1 = 32 dots, 2 = 48 dots, 3 = 64 dots       | Byte0: Set the English font size                                                                                                          \n",
    "0x1F | Set font size         | 1 = 32 dots, 2 = 48 dots, 3 = 64 dots       | Byte0: Set the font size                                                                                                                  \n",
    "0x20 | Display point         |                                             | Short0: coordinate x   Short1: coordinate y                                                                                                \n",
    "0x22 | Draw line             |                                             | Short0: coordinate x0  Short1: coordinate y0  Short2: coordinate x1  Short3: coordinate y1                                                \n",
    "0x24 | Fill rectangle        |                                             | Short0: coordinate x0  Short1: coordinate y0  Short2: coordinate x1  Short3: coordinate y1                                                \n",
    "0x25 | Draw rectangle        |                                             | Short0: coordinate x0  Short1: coordinate y0  Short2: coordinate x1  Short3: coordinate y1                                                \n",
    "0x26 | Draw circle           |                                             | Short0: coordinate x0  Short1: coordinate y0  Short2: r radius                                                                            \n",
    "0x27 | Fill circle           |                                             | Short0: coordinate x0  Short1: coordinate y0  Short2: r radius                                                                            \n",
    "0x28 | Draw triangle         |                                             | Short0: coordinate x0  Short1: coordinate y0  Short2: coordinate x1  Short3: coordinate y1  Short4: coordinate x2  Short5: coordinate y2  \n",
    "0x29 | Fill triangle         |                                             | Short0: coordinate x0  Short1: coordinate y0  Short2: coordinate x1  Short3: coordinate y1  Short4: coordinate x2  Short5: coordinate y2  \n",
    "0x2E | Clear                 | Clears to BG color                          | -                                                                                                                                      \n",
    "0x30 | Draw text             | Max string length = 1024 - 4                | Short0: coordinate x   Short1: coordinate y   String: text\n",
    "0x70 | Display image         | Supports BMP and JPG                        | Short0: coordinate x0  Short1: coordinate y0  String: .BMP file name                                                                      \n",
    "0x40 | Send file to SD card  | Starts process - see doc                    | String: file name                                                                                                                         \n",
    "0x50 | Nand Flash full erase |                                             | -\n",
    "\n",
    "Short = 2 bytes, Dword = 4 bytes, String = null-terminated\n"
   ]
  },
  {
   "cell_type": "markdown",
   "id": "0ff63e9e-37d2-4a59-8ccc-cb7b7485a476",
   "metadata": {
    "jp-MarkdownHeadingCollapsed": true
   },
   "source": [
    "## Test pour implémenter"
   ]
  },
  {
   "cell_type": "code",
   "execution_count": 36,
   "id": "6cc8c7b5-2902-44a7-acd5-3cc7ae8c28f1",
   "metadata": {},
   "outputs": [
    {
     "data": {
      "text/plain": [
       "'Testicule'"
      ]
     },
     "execution_count": 36,
     "metadata": {},
     "output_type": "execute_result"
    }
   ],
   "source": [
    "# f string\n",
    "f\"Test{'icule'}\""
   ]
  },
  {
   "cell_type": "code",
   "execution_count": 37,
   "id": "05f16cb2-8a0a-44e6-9843-0713258845bd",
   "metadata": {},
   "outputs": [
    {
     "data": {
      "text/plain": [
       "'Test #2'"
      ]
     },
     "execution_count": 37,
     "metadata": {},
     "output_type": "execute_result"
    }
   ],
   "source": [
    "x = 2\n",
    "f\"Test #{x}\""
   ]
  },
  {
   "cell_type": "code",
   "execution_count": 38,
   "id": "dc30fd2c-a057-4cff-aa2d-87f718a4c16c",
   "metadata": {},
   "outputs": [
    {
     "name": "stdout",
     "output_type": "stream",
     "text": [
      "Oui a\n"
     ]
    }
   ],
   "source": [
    "# Liste existe et pas vide?\n",
    "a = [1, 2, 3]\n",
    "b = []\n",
    "\n",
    "if a:\n",
    "    print(\"Oui a\")\n",
    "\n",
    "if b:\n",
    "    print(\"Oui b\")"
   ]
  },
  {
   "cell_type": "code",
   "execution_count": 39,
   "id": "7556e823-1cd8-4d54-bc4c-467db4ad11b9",
   "metadata": {},
   "outputs": [
    {
     "name": "stdout",
     "output_type": "stream",
     "text": [
      "baba\n",
      "baba\n",
      "baba\n"
     ]
    }
   ],
   "source": [
    "# Itérer liste vide?\n",
    "for elem in a:\n",
    "    print(\"baba\")\n",
    "\n",
    "for elem in b:\n",
    "    print(\"bubu\")"
   ]
  },
  {
   "cell_type": "code",
   "execution_count": 40,
   "id": "87311189-2fd2-41ca-93f5-373b6a9db68d",
   "metadata": {},
   "outputs": [],
   "source": [
    "x = bytes(10)\n",
    "# x[0] = 5 Échec"
   ]
  },
  {
   "cell_type": "code",
   "execution_count": 41,
   "id": "7f5b3dfa-68d6-4c88-9ef1-13a80cbb4c4b",
   "metadata": {},
   "outputs": [
    {
     "data": {
      "text/plain": [
       "bytearray(b'\\x05\\x00\\x00\\x00\\x00\\x00\\x00\\x00\\x00\\x00')"
      ]
     },
     "execution_count": 41,
     "metadata": {},
     "output_type": "execute_result"
    }
   ],
   "source": [
    "x = bytearray(10)\n",
    "x[0] = 5\n",
    "x"
   ]
  },
  {
   "cell_type": "code",
   "execution_count": 42,
   "id": "694ed78d-3b12-45c5-91e4-925b0c38aa9c",
   "metadata": {},
   "outputs": [
    {
     "data": {
      "text/plain": [
       "bytearray(b'\\xa5\\x00\\x00\\x00\\x00\\x00\\x00\\x00\\x00\\x00')"
      ]
     },
     "execution_count": 42,
     "metadata": {},
     "output_type": "execute_result"
    }
   ],
   "source": [
    "x[0] = int(\"A5\", 16)\n",
    "x"
   ]
  },
  {
   "cell_type": "code",
   "execution_count": 43,
   "id": "90d2d18f-ac55-4223-a9a4-bc37d2acca83",
   "metadata": {},
   "outputs": [
    {
     "data": {
      "text/plain": [
       "10"
      ]
     },
     "execution_count": 43,
     "metadata": {},
     "output_type": "execute_result"
    }
   ],
   "source": [
    "len(x)"
   ]
  },
  {
   "cell_type": "code",
   "execution_count": 44,
   "id": "f526f59d-956e-4ca7-8f3c-74a3ecf3f0a6",
   "metadata": {},
   "outputs": [
    {
     "data": {
      "text/plain": [
       "bytearray(b'\\x12\\x00\\x00')"
      ]
     },
     "execution_count": 44,
     "metadata": {},
     "output_type": "execute_result"
    }
   ],
   "source": [
    "a = 0x12\n",
    "b = 0x34\n",
    "c = 0x5F\n",
    "\n",
    "array = bytearray(3)\n",
    "array[0] = a\n",
    "array"
   ]
  },
  {
   "cell_type": "code",
   "execution_count": 45,
   "id": "5bb3c226-2832-4b68-8697-354390be3064",
   "metadata": {},
   "outputs": [],
   "source": [
    "# bytes([0x1234]) Plante - doit être entre 0 et 256"
   ]
  },
  {
   "cell_type": "code",
   "execution_count": 46,
   "id": "7675977b-4fca-4888-9b80-3fbc97917723",
   "metadata": {},
   "outputs": [
    {
     "data": {
      "text/plain": [
       "52"
      ]
     },
     "execution_count": 46,
     "metadata": {},
     "output_type": "execute_result"
    }
   ],
   "source": [
    "0x1234 & 0x00FF"
   ]
  },
  {
   "cell_type": "code",
   "execution_count": 47,
   "id": "c7a09997-485e-4a2a-b1e1-298136ae3d1a",
   "metadata": {},
   "outputs": [
    {
     "data": {
      "text/plain": [
       "4608"
      ]
     },
     "execution_count": 47,
     "metadata": {},
     "output_type": "execute_result"
    }
   ],
   "source": [
    "0x1234 & 0xFF00"
   ]
  },
  {
   "cell_type": "code",
   "execution_count": 48,
   "id": "2933033f-8b7f-458d-b3c0-9b9ef40b83f6",
   "metadata": {},
   "outputs": [
    {
     "data": {
      "text/plain": [
       "18"
      ]
     },
     "execution_count": 48,
     "metadata": {},
     "output_type": "execute_result"
    }
   ],
   "source": [
    "(0x1234 & 0xFF00) >> 8"
   ]
  },
  {
   "cell_type": "code",
   "execution_count": 49,
   "id": "a9d062db-eb12-45f2-824b-f3bc837c1bdf",
   "metadata": {},
   "outputs": [
    {
     "data": {
      "text/plain": [
       "18"
      ]
     },
     "execution_count": 49,
     "metadata": {},
     "output_type": "execute_result"
    }
   ],
   "source": [
    "0x1234 >> 8"
   ]
  },
  {
   "cell_type": "code",
   "execution_count": 50,
   "id": "15695654-fc6a-4ac5-819e-3a3ec5bb5120",
   "metadata": {},
   "outputs": [
    {
     "data": {
      "text/plain": [
       "bytearray(b'\\x00\\x00\\x00\\x00\\x00\\x01\\x02\\x03\\x04\\x05\\x00\\x00\\x00\\x00\\x00\\x00\\x00\\x00\\x00\\x00')"
      ]
     },
     "execution_count": 50,
     "metadata": {},
     "output_type": "execute_result"
    }
   ],
   "source": [
    "testarray = bytearray(20)\n",
    "insertion = bytes([1, 2, 3, 4, 5])\n",
    "testarray[5:10] = insertion\n",
    "testarray"
   ]
  },
  {
   "cell_type": "code",
   "execution_count": 51,
   "id": "32ecf044-0766-443b-87c7-a964462090d4",
   "metadata": {},
   "outputs": [],
   "source": [
    "import struct"
   ]
  },
  {
   "cell_type": "code",
   "execution_count": 53,
   "id": "a6ed23fc-3d48-411f-996e-b0b80c1517e8",
   "metadata": {
    "scrolled": true
   },
   "outputs": [
    {
     "name": "stdout",
     "output_type": "stream",
     "text": [
      "Help on module struct:\n",
      "\n",
      "NAME\n",
      "    struct\n",
      "\n",
      "MODULE REFERENCE\n",
      "    https://docs.python.org/3.11/library/struct.html\n",
      "    \n",
      "    The following documentation is automatically generated from the Python\n",
      "    source files.  It may be incomplete, incorrect or include features that\n",
      "    are considered implementation detail and may vary between Python\n",
      "    implementations.  When in doubt, consult the module reference at the\n",
      "    location listed above.\n",
      "\n",
      "DESCRIPTION\n",
      "    Functions to convert between Python values and C structs.\n",
      "    Python bytes objects are used to hold the data representing the C struct\n",
      "    and also as format strings (explained below) to describe the layout of data\n",
      "    in the C struct.\n",
      "    \n",
      "    The optional first format char indicates byte order, size and alignment:\n",
      "      @: native order, size & alignment (default)\n",
      "      =: native order, std. size & alignment\n",
      "      <: little-endian, std. size & alignment\n",
      "      >: big-endian, std. size & alignment\n",
      "      !: same as >\n",
      "    \n",
      "    The remaining chars indicate types of args and must match exactly;\n",
      "    these can be preceded by a decimal repeat count:\n",
      "      x: pad byte (no data); c:char; b:signed byte; B:unsigned byte;\n",
      "      ?: _Bool (requires C99; if not available, char is used instead)\n",
      "      h:short; H:unsigned short; i:int; I:unsigned int;\n",
      "      l:long; L:unsigned long; f:float; d:double; e:half-float.\n",
      "    Special cases (preceding decimal count indicates length):\n",
      "      s:string (array of char); p: pascal string (with count byte).\n",
      "    Special cases (only available in native format):\n",
      "      n:ssize_t; N:size_t;\n",
      "      P:an integer type that is wide enough to hold a pointer.\n",
      "    Special case (not in native mode unless 'long long' in platform C):\n",
      "      q:long long; Q:unsigned long long\n",
      "    Whitespace between formats is ignored.\n",
      "    \n",
      "    The variable struct.error is an exception raised on errors.\n",
      "\n",
      "CLASSES\n",
      "    builtins.Exception(builtins.BaseException)\n",
      "        error\n",
      "    builtins.object\n",
      "        _struct.Struct\n",
      "    \n",
      "    class Struct(builtins.object)\n",
      "     |  Struct(fmt) --> compiled struct object\n",
      "     |  \n",
      "     |  Methods defined here:\n",
      "     |  \n",
      "     |  __delattr__(self, name, /)\n",
      "     |      Implement delattr(self, name).\n",
      "     |  \n",
      "     |  __getattribute__(self, name, /)\n",
      "     |      Return getattr(self, name).\n",
      "     |  \n",
      "     |  __init__(self, /, *args, **kwargs)\n",
      "     |      Initialize self.  See help(type(self)) for accurate signature.\n",
      "     |  \n",
      "     |  __setattr__(self, name, value, /)\n",
      "     |      Implement setattr(self, name, value).\n",
      "     |  \n",
      "     |  __sizeof__(...)\n",
      "     |      S.__sizeof__() -> size of S in memory, in bytes\n",
      "     |  \n",
      "     |  iter_unpack(self, buffer, /)\n",
      "     |      Return an iterator yielding tuples.\n",
      "     |      \n",
      "     |      Tuples are unpacked from the given bytes source, like a repeated\n",
      "     |      invocation of unpack_from().\n",
      "     |      \n",
      "     |      Requires that the bytes length be a multiple of the struct size.\n",
      "     |  \n",
      "     |  pack(...)\n",
      "     |      S.pack(v1, v2, ...) -> bytes\n",
      "     |      \n",
      "     |      Return a bytes object containing values v1, v2, ... packed according\n",
      "     |      to the format string S.format.  See help(struct) for more on format\n",
      "     |      strings.\n",
      "     |  \n",
      "     |  pack_into(...)\n",
      "     |      S.pack_into(buffer, offset, v1, v2, ...)\n",
      "     |      \n",
      "     |      Pack the values v1, v2, ... according to the format string S.format\n",
      "     |      and write the packed bytes into the writable buffer buf starting at\n",
      "     |      offset.  Note that the offset is a required argument.  See\n",
      "     |      help(struct) for more on format strings.\n",
      "     |  \n",
      "     |  unpack(self, buffer, /)\n",
      "     |      Return a tuple containing unpacked values.\n",
      "     |      \n",
      "     |      Unpack according to the format string Struct.format. The buffer's size\n",
      "     |      in bytes must be Struct.size.\n",
      "     |      \n",
      "     |      See help(struct) for more on format strings.\n",
      "     |  \n",
      "     |  unpack_from(self, /, buffer, offset=0)\n",
      "     |      Return a tuple containing unpacked values.\n",
      "     |      \n",
      "     |      Values are unpacked according to the format string Struct.format.\n",
      "     |      \n",
      "     |      The buffer's size in bytes, starting at position offset, must be\n",
      "     |      at least Struct.size.\n",
      "     |      \n",
      "     |      See help(struct) for more on format strings.\n",
      "     |  \n",
      "     |  ----------------------------------------------------------------------\n",
      "     |  Static methods defined here:\n",
      "     |  \n",
      "     |  __new__(*args, **kwargs) from builtins.type\n",
      "     |      Create and return a new object.  See help(type) for accurate signature.\n",
      "     |  \n",
      "     |  ----------------------------------------------------------------------\n",
      "     |  Data descriptors defined here:\n",
      "     |  \n",
      "     |  format\n",
      "     |      struct format string\n",
      "     |  \n",
      "     |  size\n",
      "     |      struct size in bytes\n",
      "    \n",
      "    class error(builtins.Exception)\n",
      "     |  Method resolution order:\n",
      "     |      error\n",
      "     |      builtins.Exception\n",
      "     |      builtins.BaseException\n",
      "     |      builtins.object\n",
      "     |  \n",
      "     |  Data descriptors defined here:\n",
      "     |  \n",
      "     |  __weakref__\n",
      "     |      list of weak references to the object (if defined)\n",
      "     |  \n",
      "     |  ----------------------------------------------------------------------\n",
      "     |  Methods inherited from builtins.Exception:\n",
      "     |  \n",
      "     |  __init__(self, /, *args, **kwargs)\n",
      "     |      Initialize self.  See help(type(self)) for accurate signature.\n",
      "     |  \n",
      "     |  ----------------------------------------------------------------------\n",
      "     |  Static methods inherited from builtins.Exception:\n",
      "     |  \n",
      "     |  __new__(*args, **kwargs) from builtins.type\n",
      "     |      Create and return a new object.  See help(type) for accurate signature.\n",
      "     |  \n",
      "     |  ----------------------------------------------------------------------\n",
      "     |  Methods inherited from builtins.BaseException:\n",
      "     |  \n",
      "     |  __delattr__(self, name, /)\n",
      "     |      Implement delattr(self, name).\n",
      "     |  \n",
      "     |  __getattribute__(self, name, /)\n",
      "     |      Return getattr(self, name).\n",
      "     |  \n",
      "     |  __reduce__(...)\n",
      "     |      Helper for pickle.\n",
      "     |  \n",
      "     |  __repr__(self, /)\n",
      "     |      Return repr(self).\n",
      "     |  \n",
      "     |  __setattr__(self, name, value, /)\n",
      "     |      Implement setattr(self, name, value).\n",
      "     |  \n",
      "     |  __setstate__(...)\n",
      "     |  \n",
      "     |  __str__(self, /)\n",
      "     |      Return str(self).\n",
      "     |  \n",
      "     |  add_note(...)\n",
      "     |      Exception.add_note(note) --\n",
      "     |      add a note to the exception\n",
      "     |  \n",
      "     |  with_traceback(...)\n",
      "     |      Exception.with_traceback(tb) --\n",
      "     |      set self.__traceback__ to tb and return self.\n",
      "     |  \n",
      "     |  ----------------------------------------------------------------------\n",
      "     |  Data descriptors inherited from builtins.BaseException:\n",
      "     |  \n",
      "     |  __cause__\n",
      "     |      exception cause\n",
      "     |  \n",
      "     |  __context__\n",
      "     |      exception context\n",
      "     |  \n",
      "     |  __dict__\n",
      "     |  \n",
      "     |  __suppress_context__\n",
      "     |  \n",
      "     |  __traceback__\n",
      "     |  \n",
      "     |  args\n",
      "\n",
      "FUNCTIONS\n",
      "    calcsize(format, /)\n",
      "        Return size in bytes of the struct described by the format string.\n",
      "    \n",
      "    iter_unpack(format, buffer, /)\n",
      "        Return an iterator yielding tuples unpacked from the given bytes.\n",
      "        \n",
      "        The bytes are unpacked according to the format string, like\n",
      "        a repeated invocation of unpack_from().\n",
      "        \n",
      "        Requires that the bytes length be a multiple of the format struct size.\n",
      "    \n",
      "    pack(...)\n",
      "        pack(format, v1, v2, ...) -> bytes\n",
      "        \n",
      "        Return a bytes object containing the values v1, v2, ... packed according\n",
      "        to the format string.  See help(struct) for more on format strings.\n",
      "    \n",
      "    pack_into(...)\n",
      "        pack_into(format, buffer, offset, v1, v2, ...)\n",
      "        \n",
      "        Pack the values v1, v2, ... according to the format string and write\n",
      "        the packed bytes into the writable buffer buf starting at offset.  Note\n",
      "        that the offset is a required argument.  See help(struct) for more\n",
      "        on format strings.\n",
      "    \n",
      "    unpack(format, buffer, /)\n",
      "        Return a tuple containing values unpacked according to the format string.\n",
      "        \n",
      "        The buffer's size in bytes must be calcsize(format).\n",
      "        \n",
      "        See help(struct) for more on format strings.\n",
      "    \n",
      "    unpack_from(format, /, buffer, offset=0)\n",
      "        Return a tuple containing values unpacked according to the format string.\n",
      "        \n",
      "        The buffer's size, minus offset, must be at least calcsize(format).\n",
      "        \n",
      "        See help(struct) for more on format strings.\n",
      "\n",
      "DATA\n",
      "    __all__ = ['calcsize', 'pack', 'pack_into', 'unpack', 'unpack_from', '...\n",
      "\n",
      "FILE\n",
      "    /usr/lib/python3.11/struct.py\n",
      "\n",
      "\n"
     ]
    }
   ],
   "source": [
    "help(struct)"
   ]
  },
  {
   "cell_type": "code",
   "execution_count": 54,
   "id": "6a8ca93e-daef-42e9-8c12-5e19afadceeb",
   "metadata": {},
   "outputs": [
    {
     "data": {
      "text/plain": [
       "b'\\x12\\xef'"
      ]
     },
     "execution_count": 54,
     "metadata": {},
     "output_type": "execute_result"
    }
   ],
   "source": [
    "#c:char; b:signed byte; B:unsigned byte;\n",
    "#?: _Bool (requires C99; if not available, char is used instead)\n",
    "#h:short; H:unsigned short; i:int; I:unsigned int;\n",
    "#l:long; L:unsigned long; f:float; d:double; e:half-float.\n",
    "\n",
    "t = 0x12EF\n",
    "struct.pack('>H', t)"
   ]
  },
  {
   "cell_type": "code",
   "execution_count": 55,
   "id": "df43548b-4d6b-4512-9ced-4c1c4da65c3d",
   "metadata": {},
   "outputs": [
    {
     "data": {
      "text/plain": [
       "b'\\xef\\x12'"
      ]
     },
     "execution_count": 55,
     "metadata": {},
     "output_type": "execute_result"
    }
   ],
   "source": [
    "t = 0x12EF\n",
    "struct.pack('H', t)"
   ]
  },
  {
   "cell_type": "code",
   "execution_count": 56,
   "id": "c24d40e6-57f8-487f-bbd9-275db3c98d8c",
   "metadata": {},
   "outputs": [
    {
     "data": {
      "text/plain": [
       "b'\\xef\\x12'"
      ]
     },
     "execution_count": 56,
     "metadata": {},
     "output_type": "execute_result"
    }
   ],
   "source": [
    "t = 0x12EF\n",
    "struct.pack('<H', t)"
   ]
  },
  {
   "cell_type": "code",
   "execution_count": 57,
   "id": "a5a357c4-f808-4cbb-8d59-826956e5a280",
   "metadata": {},
   "outputs": [
    {
     "data": {
      "text/plain": [
       "True"
      ]
     },
     "execution_count": 57,
     "metadata": {},
     "output_type": "execute_result"
    }
   ],
   "source": [
    "footer = 0xCC33C33C\n",
    "packed = struct.pack('>I', footer)\n",
    "\n",
    "test = bytearray(4)\n",
    "test[0] = 0xCC\n",
    "test[1] = 0x33\n",
    "test[2] = 0xC3\n",
    "test[3] = 0x3C\n",
    "\n",
    "test == packed"
   ]
  },
  {
   "cell_type": "code",
   "execution_count": 58,
   "id": "32de3da9-2799-4a54-8a0e-ff448ce6f790",
   "metadata": {},
   "outputs": [
    {
     "data": {
      "text/plain": [
       "bytearray(b'\\x05')"
      ]
     },
     "execution_count": 58,
     "metadata": {},
     "output_type": "execute_result"
    }
   ],
   "source": [
    "x = bytearray()\n",
    "x.append(5)\n",
    "x"
   ]
  },
  {
   "cell_type": "code",
   "execution_count": 59,
   "id": "78248ee2-ada3-423b-9312-3b1aeffa3f10",
   "metadata": {},
   "outputs": [
    {
     "data": {
      "text/plain": [
       "bytearray(b'\\x05\\xcc3\\xc3<')"
      ]
     },
     "execution_count": 59,
     "metadata": {},
     "output_type": "execute_result"
    }
   ],
   "source": [
    "x += bytearray(struct.pack('>I', footer))\n",
    "x"
   ]
  },
  {
   "cell_type": "code",
   "execution_count": 60,
   "id": "d9bfaf38-dd6d-49c2-88ae-01e555597ee3",
   "metadata": {},
   "outputs": [],
   "source": [
    "def command(code, params):\n",
    "    header = 0xA5\n",
    "    footer = 0xCC33C33C\n",
    "     \n",
    "    param_len = 0\n",
    "    for param in params:\n",
    "        param_len = param_len + len(param)\n",
    "            \n",
    "    # header, length, cmd, parameter, footer, xor\n",
    "    frame_len  = 1 + 2 + 1 + param_len + 4 + 1\n",
    "\n",
    "    frame = bytearray()\n",
    "    frame.append(header)\n",
    "    frame += bytearray(struct.pack('>H', frame_len))\n",
    "    frame.append(code)\n",
    "    for param in params:\n",
    "        frame += param \n",
    "    frame += bytearray(struct.pack('>I', footer))\n",
    "    xor = 0\n",
    "    for byte in frame:\n",
    "        xor = xor ^ byte\n",
    "    frame.append(xor)\n",
    "\n",
    "    return frame"
   ]
  },
  {
   "cell_type": "code",
   "execution_count": null,
   "id": "6fc1ac81-0167-4831-b478-82e1c16af53a",
   "metadata": {},
   "outputs": [],
   "source": [
    "command(0x00, [])"
   ]
  },
  {
   "cell_type": "code",
   "execution_count": null,
   "id": "0b6c0f76-63fb-4cb3-a7f6-53181ce3a86d",
   "metadata": {},
   "outputs": [],
   "source": [
    "sp.write(command(0x00, []))\n",
    "\n",
    "sp.read(2)"
   ]
  },
  {
   "cell_type": "code",
   "execution_count": null,
   "id": "da3129c5-bf52-4edc-a1d2-34ed0b3b748a",
   "metadata": {},
   "outputs": [],
   "source": [
    "sp.write(command(0x0A, []))\n",
    "sp.read(2)"
   ]
  },
  {
   "cell_type": "code",
   "execution_count": null,
   "id": "75835004-495e-44e0-ab1a-0c9fa6af1322",
   "metadata": {},
   "outputs": [],
   "source": [
    "sp.write(command(0x02, []))\n",
    "sp.read(6)"
   ]
  },
  {
   "cell_type": "code",
   "execution_count": null,
   "id": "cf1896e7-ec3b-450f-961e-9269f810aa95",
   "metadata": {},
   "outputs": [],
   "source": [
    "sp.write(command(0x0C, []))\n",
    "sp.read(1)"
   ]
  },
  {
   "cell_type": "code",
   "execution_count": null,
   "id": "83ab42c2-b796-48a0-b1fd-a98563224483",
   "metadata": {},
   "outputs": [],
   "source": [
    "x1 = bytes([0, 0x0A])\n",
    "y1 = bytes([0, 0x0A])\n",
    "x2 = bytes([0, 0xFF])\n",
    "y2 = bytes([0, 0xFF])\n",
    "\n",
    "print(x1.hex())\n",
    "print(y1.hex())\n",
    "print(x2.hex())\n",
    "print(y2.hex())\n",
    "\n",
    "print(command(0x24, [x1, y1, x2, y2]).hex())"
   ]
  },
  {
   "cell_type": "code",
   "execution_count": 384,
   "id": "edf5a090-ee2c-4de8-8ecc-e3c55f49b799",
   "metadata": {},
   "outputs": [
    {
     "ename": "NameError",
     "evalue": "name 'command' is not defined",
     "output_type": "error",
     "traceback": [
      "\u001b[0;31m---------------------------------------------------------------------------\u001b[0m",
      "\u001b[0;31mNameError\u001b[0m                                 Traceback (most recent call last)",
      "Cell \u001b[0;32mIn[384], line 6\u001b[0m\n\u001b[1;32m      3\u001b[0m x2 \u001b[38;5;241m=\u001b[39m \u001b[38;5;28mbytes\u001b[39m([\u001b[38;5;241m0\u001b[39m, \u001b[38;5;241m0xFF\u001b[39m])\n\u001b[1;32m      4\u001b[0m y2 \u001b[38;5;241m=\u001b[39m \u001b[38;5;28mbytes\u001b[39m([\u001b[38;5;241m0\u001b[39m, \u001b[38;5;241m0xFF\u001b[39m])\n\u001b[0;32m----> 6\u001b[0m sp\u001b[38;5;241m.\u001b[39mwrite(\u001b[43mcommand\u001b[49m(\u001b[38;5;241m0x24\u001b[39m, [x1, y1, x2, y2]))\n",
      "\u001b[0;31mNameError\u001b[0m: name 'command' is not defined"
     ]
    }
   ],
   "source": [
    "x1 = bytes([0, 0x0A])\n",
    "y1 = bytes([0, 0x0A])\n",
    "x2 = bytes([0, 0xFF])\n",
    "y2 = bytes([0, 0xFF])\n",
    "\n",
    "sp.write(command(0x24, [x1, y1, x2, y2]))"
   ]
  },
  {
   "cell_type": "code",
   "execution_count": null,
   "id": "d5aba0a1-baf5-4ec1-b9f5-2344d307006a",
   "metadata": {},
   "outputs": [],
   "source": [
    "sp.read()"
   ]
  },
  {
   "cell_type": "code",
   "execution_count": null,
   "id": "e68e6e00-a306-487d-a536-5826cf20105b",
   "metadata": {},
   "outputs": [],
   "source": [
    "t = b'Allo mon ptit coco'"
   ]
  },
  {
   "cell_type": "code",
   "execution_count": null,
   "id": "0e0e53fb-4498-453c-8e05-4e54bec4a772",
   "metadata": {},
   "outputs": [],
   "source": [
    "len(t)"
   ]
  },
  {
   "cell_type": "code",
   "execution_count": null,
   "id": "5369b4e5-aa38-4774-92f0-0b98789fd665",
   "metadata": {},
   "outputs": [],
   "source": [
    "t[17]"
   ]
  },
  {
   "cell_type": "code",
   "execution_count": null,
   "id": "260d902b-e339-44db-bf64-5589721db786",
   "metadata": {},
   "outputs": [],
   "source": [
    "t = b'Allo mon ptit coco' + b'\\x00'"
   ]
  },
  {
   "cell_type": "code",
   "execution_count": null,
   "id": "c8fc8124-6ad6-4cb3-ba35-bb1f85a512b5",
   "metadata": {},
   "outputs": [],
   "source": [
    "len(t)"
   ]
  },
  {
   "cell_type": "code",
   "execution_count": null,
   "id": "7ab61126-775b-41a2-83f1-4f8d3c1d1bf4",
   "metadata": {},
   "outputs": [],
   "source": [
    "t[18]"
   ]
  },
  {
   "cell_type": "raw",
   "id": "7473481e-bf98-43ee-bfb9-6c44b797e673",
   "metadata": {},
   "source": [
    "0x00, shakeHand, []\n",
    "0x01, setBaudrate, [\"word\"]\n",
    "0x02, getBaudrate, []\n",
    "0x06, getStorageArea, []\n",
    "0x07, setStorageArea, [\"byte\"]\n",
    "0x08, sleep, []\n",
    "0x0A, refresh, []\n",
    "0x0C, getOrientation, []\n",
    "0x0D, setOrientation, [\"byte\"]\n",
    "0x0E, importFontLibrary, []\n",
    "0x0F, importImage, []\n",
    "0x10, setColor, [\"byte\", \"byte\"]\n",
    "0x11, getColor, []\n",
    "0x1C, getEnglishFontSize, []\n",
    "0x1D, getFontSize, []\n",
    "0x1E, setEnglishFontSize, [\"byte\"]\n",
    "0x1F, setFontSize, [\"byte\"]\n",
    "0x20, drawPoint, [\"short\", \"short\"]\n",
    "0x22, drawLine, [\"short\", \"short\", \"short\", \"short\"]\n",
    "0x24, fillRectangle, [\"short\", \"short\", \"short\", \"short\"]\n",
    "0x25, drawRectangle, [\"short\", \"short\", \"short\", \"short\"]\n",
    "0x26, drawCircle, [\"short\", \"short\", \"short\"]\n",
    "0x27, fillCircle, [\"short\", \"short\", \"short\"]\n",
    "0x28, drawTriangle, [\"short\", \"short\", \"short\", \"short\", \"short\", \"short\"]\n",
    "0x29, fillTriangle, [\"short\", \"short\", \"short\", \"short\", \"short\", \"short\"]\n",
    "0x2E, clear, []\n",
    "0x30, drawText, [\"short\" \"short\" \"string\"]\n",
    "0x70, displayImage, [\"short\" \"short\" \"string\"]\n",
    "0x40, sendtoSD, [\"string\"]\n",
    "0x50, nandFullErase, []"
   ]
  },
  {
   "cell_type": "code",
   "execution_count": null,
   "id": "666121fe-3a0a-4142-bd95-4bff09a618b0",
   "metadata": {},
   "outputs": [],
   "source": [
    "sp.write(command(0x0A, []))\n",
    "sp.read(2)"
   ]
  },
  {
   "cell_type": "code",
   "execution_count": null,
   "id": "c37ea7c0-126d-4eb2-9230-94ce145301c0",
   "metadata": {},
   "outputs": [],
   "source": [
    "sp.reset_input_buffer()"
   ]
  },
  {
   "cell_type": "code",
   "execution_count": null,
   "id": "ce2d41d8-b6f4-4953-b896-c126a18d011c",
   "metadata": {},
   "outputs": [],
   "source": [
    "sp.write(command(0x30, [bytes([0x01, 0x05]), bytes([0x01, 0x05]), b'Allo mon ptit coco' + b'\\x00']))"
   ]
  },
  {
   "cell_type": "code",
   "execution_count": null,
   "id": "d2c0b899-8db8-43cc-bef0-62ccf53b6494",
   "metadata": {},
   "outputs": [],
   "source": [
    "sp.write(command(0x0A, []))\n",
    "sp.read(2)"
   ]
  },
  {
   "cell_type": "markdown",
   "id": "cb059e8f-f9bb-4d1f-b4e7-c077b6480da7",
   "metadata": {
    "jp-MarkdownHeadingCollapsed": true
   },
   "source": [
    "## Build frame"
   ]
  },
  {
   "cell_type": "code",
   "execution_count": 9,
   "id": "2243a36f-874a-40ae-9321-7d68a4a72df4",
   "metadata": {},
   "outputs": [],
   "source": [
    "import struct\n",
    "\n",
    "def buildFrame(code, params=[]):\n",
    "    header = 0xA5\n",
    "    footer = 0xCC33C33C\n",
    "     \n",
    "    param_len = 0\n",
    "    for param in params:\n",
    "        param_len = param_len + len(param)\n",
    "            \n",
    "    # header, length, cmd, parameter, footer, xor\n",
    "    frame_len  = 1 + 2 + 1 + param_len + 4 + 1\n",
    "\n",
    "    frame = bytearray()\n",
    "    frame.append(header)\n",
    "    frame += bytearray(struct.pack('>H', frame_len))\n",
    "    frame.append(code)\n",
    "    for param in params:\n",
    "        frame += param \n",
    "    frame += bytearray(struct.pack('>I', footer))\n",
    "    xor = 0\n",
    "    for byte in frame:\n",
    "        xor = xor ^ byte\n",
    "    frame.append(xor)\n",
    "\n",
    "    return frame"
   ]
  },
  {
   "cell_type": "markdown",
   "id": "d0bd74fe-f939-4dce-b03c-01cc58f79fe2",
   "metadata": {},
   "source": [
    "## Serial wrapper"
   ]
  },
  {
   "cell_type": "code",
   "execution_count": 10,
   "id": "6e967310-ed3b-4be2-933f-4f039bd72b9e",
   "metadata": {},
   "outputs": [],
   "source": [
    "import serial\n",
    "\n",
    "sp = serial.Serial(\"/dev/serial0\", baudrate = 115200, timeout=0.2)\n",
    "\n",
    "def writeToSerial(frame):\n",
    "    sp.write(frame)\n",
    "\n",
    "def transactOnSerial(frame):\n",
    "    sp.write(frame)\n",
    "    \n",
    "    reply = bytearray()\n",
    "    # Attendre longtemps pour premier octet\n",
    "    sp.timeout = 5\n",
    "    newByte = sp.read()\n",
    "\n",
    "    # Ne pas attendre longtemps pour le reste\n",
    "    sp.timeout = 0.2\n",
    "    while newByte != b'':\n",
    "        reply += newByte\n",
    "        newByte = sp.read()\n",
    "\n",
    "    return reply\n",
    "\n",
    "def readFromSerial(numberOfBytes=1):\n",
    "    return sp.read(numberOfBytes)\n",
    "\n",
    "def changeSerialBaudrate(baudrate):\n",
    "    sp.baudrate = baudrate\n",
    "\n",
    "def flushInputSerial():\n",
    "    sp.reset_input_buffer()"
   ]
  },
  {
   "cell_type": "markdown",
   "id": "dde4e446-9729-4ac8-a3ec-8951140b023f",
   "metadata": {},
   "source": [
    "## Tests"
   ]
  },
  {
   "cell_type": "code",
   "execution_count": 21,
   "id": "d1e5f7b4-e137-48bc-a7d4-89552c8acafe",
   "metadata": {},
   "outputs": [
    {
     "name": "stdout",
     "output_type": "stream",
     "text": [
      "0\n"
     ]
    }
   ],
   "source": [
    "sp.write(buildFrame(0x00, []))\n",
    "print(sp.in_waiting)"
   ]
  },
  {
   "cell_type": "code",
   "execution_count": null,
   "id": "8d101dbe-75a4-4e24-8287-b4bc7d4a1ae0",
   "metadata": {},
   "outputs": [],
   "source": [
    "x = 5\n",
    "# for y in x: # int not iterable\n",
    "#     print(\"he\")\n",
    "\n",
    "for y in range(x):\n",
    "    print(\"he\")"
   ]
  },
  {
   "cell_type": "code",
   "execution_count": 1,
   "id": "f782716f-58be-422e-b328-358ac22b4b9e",
   "metadata": {},
   "outputs": [],
   "source": [
    "def writeToSerial(frame):\n",
    "    sp.write(frame)"
   ]
  },
  {
   "cell_type": "code",
   "execution_count": null,
   "id": "21a7f092-6215-4cd5-89aa-fec950564b5a",
   "metadata": {},
   "outputs": [],
   "source": [
    "import time"
   ]
  },
  {
   "cell_type": "code",
   "execution_count": null,
   "id": "f82ed0fb-99e7-4905-bcd7-50f142b6d7cf",
   "metadata": {},
   "outputs": [],
   "source": [
    "transactOnSerial(buildFrame(0x00))"
   ]
  },
  {
   "cell_type": "code",
   "execution_count": null,
   "id": "812c4e59-dbb0-466f-ba83-0a54ebbac896",
   "metadata": {},
   "outputs": [],
   "source": [
    "bytearray(b'OK')"
   ]
  },
  {
   "cell_type": "code",
   "execution_count": null,
   "id": "13495083-946e-4169-b381-f7a2e0b7365e",
   "metadata": {},
   "outputs": [],
   "source": [
    "if 5 != 7 :\n",
    "    print(\"lel\")"
   ]
  },
  {
   "cell_type": "code",
   "execution_count": null,
   "id": "49226236-0023-40b1-8c0b-06b0cd5e9ac2",
   "metadata": {},
   "outputs": [],
   "source": [
    "flushInputSerial()"
   ]
  },
  {
   "cell_type": "code",
   "execution_count": null,
   "id": "8105e735-2c87-403c-82dd-0e4eeffcf2e7",
   "metadata": {},
   "outputs": [],
   "source": [
    "transactOnSerial(buildFrame(0x02))"
   ]
  },
  {
   "cell_type": "code",
   "execution_count": null,
   "id": "6ad9d2c4-72ee-4b20-903d-d3556e929ffa",
   "metadata": {},
   "outputs": [],
   "source": [
    "try:\n",
    "    struct.unpack('>I', bytearray(b'115200'))\n",
    "except Exception as e:\n",
    "    print(e)\n",
    "    print(\"La réponse est en ASCII, pas en word\")"
   ]
  },
  {
   "cell_type": "code",
   "execution_count": null,
   "id": "586b965b-d93a-4126-83ea-0d383662aa44",
   "metadata": {},
   "outputs": [],
   "source": [
    "x = bytearray(b'115200').decode(\"ASCII\")\n",
    "print(x)\n",
    "print(type(x))"
   ]
  },
  {
   "cell_type": "code",
   "execution_count": 50,
   "id": "e9bba154-4bc4-45cd-9f99-dc9c544a098d",
   "metadata": {},
   "outputs": [],
   "source": [
    "flushInputSerial()"
   ]
  },
  {
   "cell_type": "code",
   "execution_count": 318,
   "id": "0691edc9-b211-4097-94aa-51632fe5a4e1",
   "metadata": {},
   "outputs": [
    {
     "data": {
      "text/plain": [
       "0"
      ]
     },
     "execution_count": 318,
     "metadata": {},
     "output_type": "execute_result"
    }
   ],
   "source": [
    "sp.in_waiting"
   ]
  },
  {
   "cell_type": "code",
   "execution_count": null,
   "id": "9f69141e-5cc2-4a49-9f8c-344b632931b2",
   "metadata": {},
   "outputs": [],
   "source": [
    "sp.read()"
   ]
  },
  {
   "cell_type": "code",
   "execution_count": 130,
   "id": "9d44ef88-5819-4d51-b777-9a2dbc3d32df",
   "metadata": {},
   "outputs": [],
   "source": [
    "sp.baudrate = 9600"
   ]
  },
  {
   "cell_type": "code",
   "execution_count": 309,
   "id": "4cbf82ab-03ec-4a84-8595-28b19d5fddc9",
   "metadata": {},
   "outputs": [
    {
     "data": {
      "text/plain": [
       "0.1"
      ]
     },
     "execution_count": 309,
     "metadata": {},
     "output_type": "execute_result"
    }
   ],
   "source": [
    "sp.timeout"
   ]
  },
  {
   "cell_type": "code",
   "execution_count": 243,
   "id": "2a582594-dd50-459b-8215-de2973dd837e",
   "metadata": {},
   "outputs": [],
   "source": [
    "changeSerialBaudrate(9600)"
   ]
  },
  {
   "cell_type": "code",
   "execution_count": 18,
   "id": "445dbbbc-48e8-46eb-8ae4-203d59f0145f",
   "metadata": {},
   "outputs": [
    {
     "data": {
      "text/plain": [
       "115200"
      ]
     },
     "execution_count": 18,
     "metadata": {},
     "output_type": "execute_result"
    }
   ],
   "source": [
    "sp.baudrate"
   ]
  },
  {
   "cell_type": "code",
   "execution_count": 252,
   "id": "7080ea47-3eda-4ac8-968f-222c7d22b4ff",
   "metadata": {},
   "outputs": [
    {
     "data": {
      "text/plain": [
       "True"
      ]
     },
     "execution_count": 252,
     "metadata": {},
     "output_type": "execute_result"
    }
   ],
   "source": [
    "shakeHand()"
   ]
  },
  {
   "cell_type": "code",
   "execution_count": 11,
   "id": "787411b1-5e50-4ea8-888e-447b74f64606",
   "metadata": {},
   "outputs": [
    {
     "data": {
      "text/plain": [
       "'115200'"
      ]
     },
     "execution_count": 11,
     "metadata": {},
     "output_type": "execute_result"
    }
   ],
   "source": [
    "getBaudrate()"
   ]
  },
  {
   "cell_type": "code",
   "execution_count": 8,
   "id": "a1982cf8-ce3d-48e6-94fa-f400120da62a",
   "metadata": {},
   "outputs": [],
   "source": [
    "import time"
   ]
  },
  {
   "cell_type": "code",
   "execution_count": 253,
   "id": "73492877-07d4-46db-823b-77e0d98cbeff",
   "metadata": {},
   "outputs": [
    {
     "data": {
      "text/plain": [
       "True"
      ]
     },
     "execution_count": 253,
     "metadata": {},
     "output_type": "execute_result"
    }
   ],
   "source": [
    "br = 115200\n",
    "setBaudrate(br)\n",
    "changeSerialBaudrate(br)\n",
    "flushInputSerial()\n",
    "shakeHand()"
   ]
  },
  {
   "cell_type": "markdown",
   "id": "db03518c-36c8-4a64-b487-4d1653fd787d",
   "metadata": {},
   "source": [
    "Beaucoup de tests pour identifier que setBaudrate doit attendre avant qu'on change le serialbaudrate, sinon l'écran capote et refuse de changer."
   ]
  },
  {
   "cell_type": "code",
   "execution_count": 97,
   "id": "149ab03d-5a45-4e29-b865-3a4bb1a4c2c3",
   "metadata": {},
   "outputs": [
    {
     "data": {
      "text/plain": [
       "'NAND'"
      ]
     },
     "execution_count": 97,
     "metadata": {},
     "output_type": "execute_result"
    }
   ],
   "source": [
    "getStorageArea()"
   ]
  },
  {
   "cell_type": "code",
   "execution_count": 267,
   "id": "477de064-7a93-4af1-b7c7-0645d6cbb86b",
   "metadata": {},
   "outputs": [
    {
     "data": {
      "text/plain": [
       "False"
      ]
     },
     "execution_count": 267,
     "metadata": {},
     "output_type": "execute_result"
    }
   ],
   "source": [
    "bytearray(b'0') == b'0)"
   ]
  },
  {
   "cell_type": "code",
   "execution_count": 290,
   "id": "c4046884-f0f7-41c3-a606-fb70d18ffb27",
   "metadata": {},
   "outputs": [],
   "source": [
    "writeToSerial(buildFrame(0x07, [b'\\x01']))"
   ]
  },
  {
   "cell_type": "code",
   "execution_count": 308,
   "id": "d532c9e4-3ce1-45cf-b2b3-5fe1926f7cb5",
   "metadata": {},
   "outputs": [
    {
     "data": {
      "text/plain": [
       "4095"
      ]
     },
     "execution_count": 308,
     "metadata": {},
     "output_type": "execute_result"
    }
   ],
   "source": [
    "sp.in_waiting"
   ]
  },
  {
   "cell_type": "code",
   "execution_count": 292,
   "id": "2c6d2827-6235-4f86-8516-11845bc3066a",
   "metadata": {},
   "outputs": [
    {
     "data": {
      "text/plain": [
       "b'OK'"
      ]
     },
     "execution_count": 292,
     "metadata": {},
     "output_type": "execute_result"
    }
   ],
   "source": [
    "sp.read(2)"
   ]
  },
  {
   "cell_type": "code",
   "execution_count": 135,
   "id": "257ab01e-b19f-4154-ae57-874d1fb93d28",
   "metadata": {},
   "outputs": [
    {
     "data": {
      "text/plain": [
       "True"
      ]
     },
     "execution_count": 135,
     "metadata": {},
     "output_type": "execute_result"
    }
   ],
   "source": [
    "setStorageArea(\"SD\")"
   ]
  },
  {
   "cell_type": "code",
   "execution_count": 299,
   "id": "695a8735-ae3c-4a29-9241-5e188ca3aff9",
   "metadata": {},
   "outputs": [],
   "source": [
    "writeToSerial(buildFrame(0x08, []))"
   ]
  },
  {
   "cell_type": "code",
   "execution_count": 18,
   "id": "1b3ff449-fd23-46b2-b9a2-016e9106bdc7",
   "metadata": {},
   "outputs": [
    {
     "data": {
      "text/plain": [
       "0"
      ]
     },
     "execution_count": 18,
     "metadata": {},
     "output_type": "execute_result"
    }
   ],
   "source": [
    "sp.in_waiting"
   ]
  },
  {
   "cell_type": "code",
   "execution_count": 306,
   "id": "10c5d18d-f26a-45c0-903b-0c80619ec7f9",
   "metadata": {
    "collapsed": true,
    "jupyter": {
     "outputs_hidden": true
    }
   },
   "outputs": [
    {
     "data": {
      "text/plain": [
       "b'\\x00\\x00\\x00\\x00\\x00\\x00\\x00\\x00\\x00\\x00\\x00\\x00\\x00\\x00\\x00\\x00\\x00\\x00\\x00\\x00\\x00\\x00\\x00\\x00\\x00\\x00\\x00\\x00\\x00\\x00\\x00\\x00\\x00\\x00\\x00\\x00\\x00\\x00\\x00\\x00\\x00\\x00\\x00\\x00\\x00\\x00\\x00\\x00\\x00\\x00\\x00\\x00\\x00\\x00\\x00\\x00\\x00\\x00\\x00\\x00\\x00\\x00\\x00\\x00\\x00\\x00\\x00\\x00\\x00\\x00\\x00\\x00\\x00\\x00\\x00\\x00\\x00\\x00\\x00\\x00\\x00\\x00\\x00\\x00\\x00\\x00\\x00\\x00\\x00\\x00\\x00\\x00\\x00\\x00\\x00\\x00\\x00\\x00\\x00\\x00\\x00\\x00\\x00\\x00\\x00\\x00\\x00\\x00\\x00\\x00\\x00\\x00\\x00\\x00\\x00\\x00\\x00\\x00\\x00\\x00\\x00\\x00\\x00\\x00\\x00\\x00\\x00\\x00\\x00\\x00\\x00\\x00\\x00\\x00\\x00\\x00\\x00\\x00\\x00\\x00\\x00\\x00\\x00\\x00\\x00\\x00\\x00\\x00\\x00\\x00\\x00\\x00\\x00\\x00\\x00\\x00\\x00\\x00\\x00\\x00\\x00\\x00\\x00\\x00\\x00\\x00\\x00\\x00\\x00\\x00\\x00\\x00\\x00\\x00\\x00\\x00\\x00\\x00\\x00\\x00\\x00\\x00\\x00\\x00\\x00\\x00\\x00\\x00\\x00\\x00\\x00\\x00\\x00\\x00\\x00\\x00\\x00\\x00\\x00\\x00\\x00\\x00\\x00\\x00\\x00\\x00\\x00\\x00\\x00\\x00\\x00\\x00\\x00\\x00\\x00\\x00\\x00\\x00\\x00\\x00\\x00\\x00\\x00\\x00\\x00\\x00\\x00\\x00\\x00\\x00\\x00\\x00\\x00\\x00\\x00\\x00\\x00\\x00\\x00\\x00\\x00\\x00\\x00\\x00\\x00\\x00\\x00\\x00\\x00\\x00\\x00\\x00\\x00\\x00\\x00\\x00\\x00\\x00\\x00\\x00\\x00\\x00\\x00\\x00\\x00\\x00\\x00\\x00\\x00\\x00\\x00\\x00\\x00\\x00\\x00\\x00\\x00\\x00\\x00\\x00\\x00\\x00\\x00\\x00\\x00\\x00\\x00\\x00\\x00\\x00\\x00\\x00\\x00\\x00\\x00\\x00\\x00\\x00\\x00\\x00\\x00\\x00\\x00\\x00\\x00\\x00\\x00\\x00\\x00\\x00\\x00\\x00\\x00\\x00\\x00\\x00\\x00\\x00\\x00\\x00\\x00\\x00\\x00\\x00\\x00\\x00\\x00\\x00\\x00\\x00\\x00\\x00\\x00\\x00\\x00\\x00\\x00\\x00\\x00\\x00\\x00\\x00\\x00\\x00\\x00\\x00\\x00\\x00\\x00\\x00\\x00\\x00\\x00\\x00\\x00\\x00\\x00\\x00\\x00\\x00\\x00\\x00\\x00\\x00\\x00\\x00\\x00\\x00\\x00\\x00\\x00\\x00\\x00\\x00\\x00\\x00\\x00\\x00\\x00\\x00\\x00\\x00\\x00\\x00\\x00\\x00\\x00\\x00\\x00\\x00\\x00\\x00\\x00\\x00\\x00\\x00\\x00\\x00\\x00\\x00\\x00\\x00\\x00\\x00\\x00\\x00\\x00\\x00\\x00\\x00\\x00\\x00\\x00\\x00\\x00\\x00\\x00\\x00\\x00\\x00\\x00\\x00\\x00\\x00\\x00\\x00\\x00\\x00\\x00\\x00\\x00\\x00\\x00\\x00\\x00\\x00\\x00\\x00\\x00\\x00\\x00\\x00\\x00\\x00\\x00\\x00\\x00\\x00\\x00\\x00\\x00\\x00\\x00\\x00\\x00\\x00\\x00\\x00\\x00\\x00\\x00\\x00\\x00\\x00\\x00\\x00\\x00\\x00\\x00\\x00\\x00\\x00\\x00\\x00\\x00\\x00\\x00\\x00\\x00\\x00\\x00\\x00\\x00\\x00\\x00\\x00\\x00\\x00\\x00\\x00\\x00\\x00\\x00\\x00\\x00\\x00\\x00\\x00\\x00\\x00\\x00\\x00\\x00\\x00\\x00\\x00\\x00\\x00\\x00\\x00\\x00\\x00\\x00\\x00\\x00\\x00\\x00\\x00\\x00\\x00\\x00\\x00\\x00\\x00\\x00\\x00\\x00\\x00\\x00\\x00\\x00\\x00\\x00\\x00\\x00\\x00\\x00\\x00\\x00\\x00\\x00\\x00\\x00\\x00\\x00\\x00\\x00\\x00\\x00\\x00\\x00\\x00\\x00\\x00\\x00\\x00\\x00\\x00\\x00\\x00\\x00\\x00\\x00\\x00\\x00\\x00\\x00\\x00\\x00\\x00\\x00\\x00\\x00\\x00\\x00\\x00\\x00\\x00\\x00\\x00\\x00\\x00\\x00\\x00\\x00\\x00\\x00\\x00\\x00\\x00\\x00\\x00\\x00\\x00\\x00\\x00\\x00\\x00\\x00\\x00\\x00\\x00\\x00\\x00\\x00\\x00\\x00\\x00\\x00\\x00\\x00\\x00\\x00\\x00\\x00\\x00\\x00\\x00\\x00\\x00\\x00\\x00\\x00\\x00\\x00\\x00\\x00\\x00\\x00\\x00\\x00\\x00\\x00\\x00\\x00\\x00\\x00\\x00\\x00\\x00\\x00\\x00\\x00\\x00\\x00\\x00\\x00\\x00\\x00\\x00\\x00\\x00\\x00\\x00\\x00\\x00\\x00\\x00\\x00\\x00\\x00\\x00\\x00\\x00\\x00\\x00\\x00\\x00\\x00\\x00\\x00\\x00\\x00\\x00\\x00\\x00\\x00\\x00\\x00\\x00\\x00\\x00\\x00\\x00\\x00\\x00\\x00\\x00\\x00\\x00\\x00\\x00\\x00\\x00\\x00\\x00\\x00\\x00\\x00\\x00\\x00\\x00\\x00\\x00\\x00\\x00\\x00\\x00\\x00\\x00\\x00\\x00\\x00\\x00\\x00\\x00\\x00\\x00\\x00\\x00\\x00\\x00\\x00\\x00\\x00\\x00\\x00\\x00\\x00\\x00\\x00\\x00\\x00\\x00\\x00\\x00\\x00\\x00\\x00\\x00\\x00\\x00\\x00\\x00\\x00\\x00\\x00\\x00\\x00\\x00\\x00\\x00\\x00\\x00\\x00\\x00\\x00\\x00\\x00\\x00\\x00\\x00\\x00\\x00\\x00\\x00\\x00\\x00\\x00\\x00\\x00\\x00\\x00\\x00\\x00\\x00\\x00\\x00\\x00\\x00\\x00\\x00\\x00\\x00\\x00\\x00\\x00\\x00\\x00\\x00\\x00\\x00\\x00\\x00\\x00\\x00\\x00\\x00\\x00\\x00\\x00\\x00\\x00\\x00\\x00\\x00\\x00\\x00\\x00\\x00\\x00\\x00\\x00\\x00\\x00\\x00\\x00\\x00\\x00\\x00\\x00\\x00\\x00\\x00\\x00\\x00\\x00\\x00\\x00\\x00\\x00\\x00\\x00\\x00\\x00\\x00\\x00\\x00\\x00\\x00\\x00\\x00\\x00\\x00\\x00\\x00\\x00\\x00\\x00\\x00\\x00\\x00\\x00\\x00\\x00\\x00\\x00\\x00\\x00\\x00\\x00\\x00\\x00\\x00\\x00\\x00\\x00\\x00\\x00\\x00\\x00\\x00\\x00\\x00\\x00\\x00\\x00\\x00\\x00\\x00\\x00\\x00\\x00\\x00\\x00\\x00\\x00\\x00\\x00\\x00\\x00\\x00\\x00\\x00\\x00\\x00\\x00\\x00\\x00\\x00\\x00\\x00\\x00\\x00\\x00\\x00\\x00\\x00\\x00\\x00\\x00\\x00\\x00\\x00\\x00\\x00\\x00\\x00\\x00\\x00\\x00\\x00\\x00\\x00\\x00\\x00\\x00\\x00\\x00\\x00\\x00\\x00\\x00\\x00\\x00\\x00\\x00\\x00\\x00\\x00\\x00\\x00\\x00\\x00\\x00\\x00\\x00\\x00\\x00\\x00\\x00\\x00\\x00\\x00\\x00\\x00\\x00\\x00\\x00\\x00\\x00\\x00\\x00\\x00\\x00\\x00\\x00\\x00\\x00\\x00\\x00\\x00\\x00\\x00\\x00\\x00\\x00\\x00\\x00\\x00\\x00\\x00\\x00\\x00\\x00\\x00\\x00\\x00\\x00\\x00\\x00\\x00\\x00\\x00\\x00\\x00\\x00\\x00\\x00\\x00\\x00\\x00\\x00\\x00\\x00\\x00\\x00\\x00\\x00\\x00\\x00\\x00\\x00\\x00\\x00\\x00\\x00\\x00\\x00\\x00\\x00\\x00\\x00\\x00\\x00\\x00\\x00\\x00\\x00\\x00\\x00\\x00\\x00\\x00\\x00\\x00\\x00\\x00\\x00\\x00\\x00\\x00\\x00\\x00\\x00\\x00\\x00\\x00\\x00\\x00\\x00\\x00\\x00\\x00\\x00\\x00\\x00\\x00\\x00\\x00\\x00\\x00\\x00\\x00\\x00\\x00\\x00\\x00\\x00\\x00\\x00\\x00\\x00\\x00\\x00\\x00\\x00\\x00\\x00\\x00\\x00\\x00\\x00\\x00\\x00\\x00\\x00\\x00\\x00\\x00\\x00\\x00\\x00\\x00\\x00\\x00\\x00\\x00\\x00\\x00\\x00\\x00\\x00\\x00\\x00\\x00\\x00\\x00\\x00\\x00\\x00\\x00\\x00\\x00\\x00\\x00\\x00\\x00\\x00\\x00\\x00\\x00\\x00\\x00\\x00\\x00\\x00\\x00\\x00\\x00\\x00\\x00\\x00\\x00\\x00\\x00\\x00\\x00\\x00\\x00\\x00\\x00\\x00\\x00\\x00\\x00\\x00\\x00\\x00\\x00\\x00\\x00\\x00\\x00\\x00\\x00\\x00\\x00\\x00\\x00\\x00\\x00\\x00\\x00\\x00\\x00\\x00\\x00\\x00\\x00\\x00\\x00\\x00\\x00\\x00\\x00\\x00\\x00\\x00\\x00\\x00\\x00\\x00\\x00\\x00\\x00\\x00\\x00\\x00\\x00\\x00\\x00\\x00\\x00\\x00\\x00\\x00\\x00\\x00\\x00\\x00\\x00\\x00\\x00\\x00\\x00\\x00\\x00\\x00\\x00\\x00\\x00\\x00\\x00\\x00\\x00\\x00\\x00\\x00\\x00\\x00\\x00\\x00\\x00\\x00\\x00\\x00\\x00\\x00\\x00\\x00\\x00\\x00\\x00\\x00\\x00\\x00\\x00\\x00\\x00\\x00\\x00\\x00\\x00\\x00\\x00\\x00\\x00\\x00\\x00\\x00\\x00\\x00\\x00\\x00\\x00\\x00\\x00\\x00\\x00\\x00\\x00\\x00\\x00\\x00\\x00\\x00\\x00\\x00\\x00\\x00\\x00\\x00\\x00\\x00\\x00\\x00\\x00\\x00\\x00\\x00\\x00\\x00\\x00\\x00\\x00\\x00\\x00\\x00\\x00\\x00\\x00\\x00\\x00\\x00\\x00\\x00\\x00\\x00\\x00\\x00\\x00\\x00\\x00\\x00\\x00\\x00\\x00\\x00\\x00\\x00\\x00\\x00\\x00\\x00\\x00\\x00\\x00\\x00\\x00\\x00\\x00\\x00\\x00\\x00\\x00\\x00\\x00\\x00\\x00\\x00\\x00\\x00\\x00\\x00\\x00\\x00\\x00\\x00\\x00\\x00\\x00\\x00\\x00\\x00\\x00\\x00\\x00\\x00\\x00\\x00\\x00\\x00\\x00\\x00\\x00\\x00\\x00\\x00\\x00\\x00\\x00\\x00\\x00\\x00\\x00\\x00\\x00\\x00\\x00\\x00\\x00\\x00\\x00\\x00\\x00\\x00\\x00\\x00\\x00\\x00\\x00\\x00\\x00\\x00\\x00\\x00\\x00\\x00\\x00\\x00\\x00\\x00\\x00\\x00\\x00\\x00\\x00\\x00\\x00\\x00\\x00\\x00\\x00\\x00\\x00\\x00\\x00\\x00\\x00\\x00\\x00\\x00\\x00\\x00\\x00\\x00\\x00\\x00\\x00\\x00\\x00\\x00\\x00\\x00\\x00\\x00\\x00\\x00\\x00\\x00\\x00\\x00\\x00\\x00\\x00\\x00\\x00\\x00\\x00\\x00\\x00\\x00\\x00\\x00\\x00\\x00\\x00\\x00\\x00\\x00\\x00\\x00\\x00\\x00\\x00\\x00\\x00\\x00\\x00\\x00\\x00\\x00\\x00\\x00\\x00\\x00\\x00\\x00\\x00\\x00\\x00\\x00\\x00\\x00\\x00\\x00\\x00\\x00\\x00\\x00\\x00\\x00\\x00\\x00\\x00\\x00\\x00\\x00\\x00\\x00\\x00\\x00\\x00\\x00\\x00\\x00\\x00\\x00\\x00\\x00\\x00\\x00\\x00\\x00\\x00\\x00\\x00\\x00\\x00\\x00\\x00\\x00\\x00\\x00\\x00\\x00\\x00\\x00\\x00\\x00\\x00\\x00\\x00\\x00\\x00\\x00\\x00\\x00\\x00\\x00\\x00\\x00\\x00\\x00\\x00\\x00\\x00\\x00\\x00\\x00\\x00\\x00\\x00\\x00\\x00\\x00\\x00\\x00\\x00\\x00\\x00\\x00\\x00\\x00\\x00\\x00\\x00\\x00\\x00\\x00\\x00\\x00\\x00\\x00\\x00\\x00\\x00\\x00\\x00\\x00\\x00\\x00\\x00\\x00\\x00\\x00\\x00\\x00\\x00\\x00\\x00\\x00\\x00\\x00\\x00\\x00\\x00\\x00\\x00\\x00\\x00\\x00\\x00\\x00\\x00\\x00\\x00\\x00\\x00\\x00\\x00\\x00\\x00\\x00\\x00\\x00\\x00\\x00\\x00\\x00\\x00\\x00\\x00\\x00\\x00\\x00\\x00\\x00\\x00\\x00\\x00\\x00\\x00\\x00\\x00\\x00\\x00\\x00\\x00\\x00\\x00\\x00\\x00\\x00\\x00\\x00\\x00\\x00\\x00\\x00\\x00\\x00\\x00\\x00\\x00\\x00\\x00\\x00\\x00\\x00\\x00\\x00\\x00\\x00\\x00\\x00\\x00\\x00\\x00\\x00\\x00\\x00\\x00\\x00\\x00\\x00\\x00\\x00\\x00\\x00\\x00\\x00\\x00\\x00\\x00\\x00\\x00\\x00\\x00\\x00\\x00\\x00\\x00\\x00\\x00\\x00\\x00\\x00\\x00\\x00\\x00\\x00\\x00\\x00\\x00\\x00\\x00\\x00\\x00\\x00\\x00\\x00\\x00\\x00\\x00\\x00\\x00\\x00\\x00\\x00\\x00\\x00\\x00\\x00\\x00\\x00\\x00\\x00\\x00\\x00\\x00\\x00\\x00\\x00\\x00\\x00\\x00\\x00\\x00\\x00\\x00\\x00\\x00\\x00\\x00\\x00\\x00\\x00\\x00\\x00\\x00\\x00\\x00\\x00\\x00\\x00\\x00\\x00\\x00\\x00\\x00\\x00\\x00\\x00\\x00\\x00\\x00\\x00\\x00\\x00\\x00\\x00\\x00\\x00\\x00\\x00\\x00\\x00\\x00\\x00\\x00\\x00\\x00\\x00\\x00\\x00\\x00\\x00\\x00\\x00\\x00\\x00\\x00\\x00\\x00\\x00\\x00\\x00\\x00\\x00\\x00\\x00\\x00\\x00\\x00\\x00\\x00\\x00\\x00\\x00\\x00\\x00\\x00\\x00\\x00\\x00\\x00\\x00\\x00\\x00\\x00\\x00\\x00\\x00\\x00\\x00\\x00\\x00\\x00\\x00\\x00\\x00\\x00\\x00\\x00\\x00\\x00\\x00\\x00\\x00\\x00\\x00\\x00\\x00\\x00\\x00\\x00\\x00\\x00\\x00\\x00\\x00\\x00\\x00\\x00\\x00\\x00\\x00\\x00\\x00\\x00\\x00\\x00\\x00\\x00\\x00\\x00\\x00\\x00\\x00\\x00\\x00\\x00\\x00\\x00\\x00\\x00\\x00\\x00\\x00\\x00\\x00\\x00\\x00\\x00\\x00\\x00\\x00\\x00\\x00\\x00\\x00\\x00\\x00\\x00\\x00\\x00\\x00\\x00\\x00\\x00\\x00\\x00\\x00\\x00\\x00\\x00\\x00\\x00\\x00\\x00\\x00\\x00\\x00\\x00\\x00\\x00\\x00\\x00\\x00\\x00\\x00\\x00\\x00\\x00\\x00\\x00\\x00\\x00\\x00\\x00\\x00\\x00\\x00\\x00\\x00\\x00\\x00\\x00\\x00\\x00\\x00\\x00\\x00\\x00\\x00\\x00\\x00\\x00\\x00\\x00\\x00\\x00\\x00\\x00\\x00\\x00\\x00\\x00\\x00\\x00\\x00\\x00\\x00\\x00\\x00\\x00\\x00\\x00\\x00\\x00\\x00\\x00\\x00\\x00\\x00\\x00\\x00\\x00\\x00\\x00\\x00\\x00\\x00\\x00\\x00\\x00\\x00\\x00\\x00\\x00\\x00\\x00\\x00\\x00\\x00\\x00\\x00\\x00\\x00\\x00\\x00\\x00\\x00\\x00\\x00\\x00\\x00\\x00\\x00\\x00\\x00\\x00\\x00\\x00\\x00\\x00\\x00\\x00\\x00\\x00\\x00\\x00\\x00\\x00\\x00\\x00\\x00\\x00\\x00\\x00\\x00\\x00\\x00\\x00\\x00\\x00\\x00\\x00\\x00\\x00\\x00\\x00\\x00\\x00\\x00\\x00\\x00\\x00\\x00\\x00\\x00\\x00\\x00\\x00\\x00\\x00\\x00\\x00\\x00\\x00\\x00\\x00\\x00\\x00\\x00\\x00\\x00\\x00\\x00\\x00\\x00\\x00\\x00\\x00\\x00\\x00\\x00\\x00\\x00\\x00\\x00\\x00\\x00\\x00\\x00\\x00\\x00\\x00\\x00\\x00\\x00\\x00\\x00\\x00\\x00\\x00\\x00\\x00\\x00\\x00\\x00\\x00\\x00\\x00\\x00\\x00\\x00\\x00\\x00\\x00\\x00\\x00\\x00\\x00\\x00\\x00\\x00\\x00\\x00\\x00\\x00\\x00\\x00\\x00\\x00\\x00\\x00\\x00\\x00\\x00\\x00\\x00\\x00\\x00\\x00\\x00\\x00\\x00\\x00\\x00\\x00\\x00\\x00\\x00\\x00\\x00\\x00\\x00\\x00\\x00\\x00\\x00\\x00\\x00\\x00\\x00\\x00\\x00\\x00\\x00\\x00\\x00\\x00\\x00\\x00\\x00\\x00\\x00\\x00\\x00\\x00\\x00\\x00\\x00\\x00\\x00\\x00\\x00\\x00\\x00\\x00\\x00\\x00\\x00\\x00\\x00\\x00\\x00\\x00\\x00\\x00\\x00\\x00\\x00\\x00\\x00\\x00\\x00\\x00\\x00\\x00\\x00\\x00\\x00\\x00\\x00\\x00\\x00\\x00\\x00\\x00\\x00\\x00\\x00\\x00\\x00\\x00\\x00\\x00\\x00\\x00\\x00\\x00\\x00\\x00\\x00\\x00\\x00\\x00\\x00\\x00\\x00\\x00\\x00\\x00\\x00\\x00\\x00\\x00\\x00\\x00\\x00\\x00\\x00\\x00\\x00\\x00\\x00\\x00\\x00\\x00\\x00\\x00\\x00\\x00\\x00\\x00\\x00\\x00\\x00\\x00\\x00\\x00\\x00\\x00\\x00\\x00\\x00\\x00\\x00\\x00\\x00\\x00\\x00\\x00\\x00\\x00\\x00\\x00\\x00\\x00\\x00\\x00\\x00\\x00\\x00\\x00\\x00\\x00\\x00\\x00\\x00\\x00\\x00\\x00\\x00\\x00\\x00\\x00\\x00\\x00\\x00\\x00\\x00\\x00\\x00\\x00\\x00\\x00\\x00\\x00\\x00\\x00\\x00\\x00\\x00\\x00\\x00\\x00\\x00\\x00\\x00\\x00\\x00\\x00\\x00\\x00\\x00\\x00\\x00\\x00\\x00\\x00\\x00\\x00\\x00\\x00\\x00\\x00\\x00\\x00\\x00\\x00\\x00\\x00\\x00\\x00\\x00\\x00\\x00\\x00\\x00\\x00\\x00\\x00\\x00\\x00\\x00\\x00\\x00\\x00\\x00\\x00\\x00\\x00\\x00\\x00\\x00\\x00\\x00\\x00\\x00\\x00\\x00\\x00\\x00\\x00\\x00\\x00\\x00\\x00\\x00\\x00\\x00\\x00\\x00\\x00\\x00\\x00\\x00\\x00\\x00\\x00\\x00\\x00\\x00\\x00\\x00\\x00\\x00\\x00\\x00\\x00\\x00\\x00\\x00\\x00\\x00\\x00\\x00\\x00\\x00\\x00\\x00\\x00\\x00\\x00\\x00\\x00\\x00\\x00\\x00\\x00\\x00\\x00\\x00\\x00\\x00\\x00\\x00\\x00\\x00\\x00\\x00\\x00\\x00\\x00\\x00\\x00\\x00\\x00\\x00\\x00\\x00\\x00\\x00\\x00\\x00\\x00\\x00\\x00\\x00\\x00\\x00\\x00\\x00\\x00\\x00\\x00\\x00\\x00\\x00\\x00\\x00\\x00\\x00\\x00\\x00\\x00\\x00\\x00\\x00\\x00\\x00\\x00\\x00\\x00\\x00\\x00\\x00\\x00\\x00\\x00\\x00\\x00\\x00\\x00\\x00\\x00\\x00\\x00\\x00\\x00\\x00\\x00\\x00\\x00\\x00\\x00\\x00\\x00\\x00\\x00\\x00\\x00\\x00\\x00\\x00\\x00\\x00\\x00\\x00\\x00\\x00\\x00\\x00\\x00\\x00\\x00\\x00\\x00\\x00\\x00\\x00\\x00\\x00\\x00\\x00\\x00\\x00\\x00\\x00\\x00\\x00\\x00\\x00\\x00\\x00\\x00\\x00\\x00\\x00\\x00\\x00\\x00\\x00\\x00\\x00\\x00\\x00\\x00\\x00\\x00\\x00\\x00\\x00\\x00\\x00\\x00\\x00\\x00\\x00\\x00\\x00\\x00\\x00\\x00\\x00\\x00\\x00\\x00\\x00\\x00\\x00\\x00\\x00\\x00\\x00\\x00\\x00\\x00\\x00\\x00\\x00\\x00\\x00\\x00\\x00\\x00\\x00\\x00\\x00\\x00\\x00\\x00\\x00\\x00\\x00\\x00\\x00\\x00\\x00\\x00\\x00\\x00\\x00\\x00\\x00\\x00\\x00\\x00\\x00\\x00\\x00\\x00\\x00\\x00\\x00\\x00\\x00\\x00\\x00\\x00\\x00\\x00\\x00\\x00\\x00\\x00\\x00\\x00\\x00\\x00\\x00\\x00\\x00\\x00\\x00\\x00\\x00\\x00\\x00\\x00\\x00\\x00\\x00\\x00\\x00\\x00\\x00\\x00\\x00\\x00\\x00\\x00\\x00\\x00\\x00\\x00\\x00\\x00\\x00\\x00\\x00\\x00\\x00\\x00\\x00\\x00\\x00\\x00\\x00\\x00\\x00\\x00\\x00\\x00\\x00\\x00\\x00\\x00\\x00\\x00\\x00\\x00\\x00\\x00\\x00\\x00\\x00\\x00\\x00\\x00\\x00\\x00\\x00\\x00\\x00\\x00\\x00\\x00\\x00\\x00\\x00\\x00\\x00\\x00\\x00\\x00\\x00\\x00\\x00\\x00\\x00\\x00\\x00\\x00\\x00\\x00\\x00\\x00\\x00\\x00\\x00\\x00\\x00\\x00\\x00\\x00\\x00\\x00\\x00\\x00\\x00\\x00\\x00\\x00\\x00\\x00\\x00\\x00\\x00\\x00\\x00\\x00\\x00\\x00\\x00\\x00\\x00\\x00\\x00\\x00\\x00\\x00\\x00\\x00\\x00\\x00\\x00\\x00\\x00\\x00\\x00\\x00\\x00\\x00\\x00\\x00\\x00\\x00\\x00\\x00\\x00\\x00\\x00\\x00\\x00\\x00\\x00\\x00\\x00\\x00\\x00\\x00\\x00\\x00\\x00\\x00\\x00\\x00\\x00\\x00\\x00\\x00\\x00\\x00\\x00\\x00\\x00\\x00\\x00\\x00\\x00\\x00\\x00\\x00\\x00\\x00\\x00\\x00\\x00\\x00\\x00\\x00\\x00\\x00\\x00\\x00\\x00\\x00\\x00\\x00\\x00\\x00\\x00\\x00\\x00\\x00\\x00\\x00\\x00\\x00\\x00\\x00\\x00\\x00\\x00\\x00\\x00\\x00\\x00\\x00\\x00\\x00\\x00\\x00\\x00\\x00\\x00\\x00\\x00\\x00\\x00\\x00\\x00\\x00\\x00\\x00\\x00\\x00\\x00\\x00\\x00\\x00\\x00\\x00\\x00\\x00\\x00\\x00\\x00\\x00\\x00\\x00\\x00\\x00\\x00\\x00\\x00\\x00\\x00\\x00\\x00\\x00\\x00\\x00\\x00\\x00\\x00\\x00\\x00\\x00\\x00\\x00\\x00\\x00\\x00\\x00\\x00\\x00\\x00\\x00\\x00\\x00\\x00\\x00\\x00\\x00\\x00\\x00\\x00\\x00\\x00\\x00\\x00\\x00\\x00\\x00\\x00\\x00\\x00\\x00\\x00\\x00\\x00\\x00\\x00\\x00\\x00\\x00\\x00\\x00\\x00\\x00\\x00\\x00\\x00\\x00\\x00\\x00\\x00\\x00\\x00\\x00\\x00\\x00\\x00\\x00\\x00\\x00\\x00\\x00\\x00\\x00\\x00\\x00\\x00\\x00\\x00\\x00\\x00\\x00\\x00\\x00\\x00\\x00\\x00\\x00\\x00\\x00\\x00\\x00\\x00\\x00\\x00\\x00\\x00\\x00\\x00\\x00\\x00\\x00\\x00\\x00\\x00\\x00\\x00\\x00\\x00\\x00\\x00\\x00\\x00\\x00\\x00\\x00\\x00\\x00\\x00\\x00\\x00\\x00\\x00\\x00\\x00\\x00\\x00\\x00\\x00\\x00\\x00\\x00\\x00\\x00\\x00\\x00\\x00\\x00\\x00\\x00\\x00\\x00\\x00\\x00\\x00\\x00\\x00\\x00\\x00\\x00\\x00\\x00\\x00\\x00\\x00\\x00\\x00\\x00\\x00\\x00\\x00\\x00\\x00\\x00\\x00\\x00\\x00\\x00\\x00\\x00\\x00\\x00\\x00\\x00\\x00\\x00\\x00\\x00\\x00\\x00\\x00\\x00\\x00\\x00\\x00\\x00\\x00\\x00\\x00\\x00\\x00\\x00\\x00\\x00\\x00\\x00\\x00\\x00\\x00\\x00\\x00\\x00\\x00\\x00\\x00\\x00\\x00\\x00\\x00\\x00\\x00\\x00\\x00\\x00\\x00\\x00\\x00\\x00\\x00\\x00\\x00\\x00\\x00\\x00\\x00\\x00\\x00\\x00\\x00\\x00\\x00\\x00\\x00\\x00\\x00\\x00\\x00\\x00\\x00\\x00\\x00\\x00\\x00\\x00\\x00\\x00\\x00\\x00\\x00\\x00\\x00\\x00\\x00\\x00\\x00\\x00\\x00\\x00\\x00\\x00\\x00\\x00\\x00\\x00\\x00\\x00\\x00\\x00\\x00\\x00\\x00\\x00\\x00\\x00\\x00\\x00\\x00\\x00\\x00\\x00\\x00\\x00\\x00\\x00\\x00\\x00\\x00\\x00\\x00\\x00\\x00\\x00\\x00\\x00\\x00\\x00\\x00\\x00\\x00\\x00\\x00\\x00\\x00\\x00\\x00\\x00\\x00\\x00\\x00\\x00\\x00\\x00\\x00\\x00\\x00\\x00\\x00\\x00\\x00\\x00\\x00\\x00\\x00\\x00\\x00\\x00\\x00\\x00\\x00\\x00\\x00\\x00\\x00\\x00\\x00\\x00\\x00\\x00\\x00\\x00\\x00\\x00\\x00\\x00\\x00\\x00\\x00\\x00\\x00\\x00\\x00\\x00\\x00\\x00\\x00\\x00\\x00\\x00\\x00\\x00\\x00\\x00\\x00\\x00\\x00\\x00\\x00\\x00\\x00\\x00\\x00\\x00\\x00\\x00\\x00\\x00\\x00\\x00\\x00\\x00\\x00\\x00\\x00\\x00\\x00\\x00\\x00\\x00\\x00\\x00\\x00\\x00\\x00\\x00\\x00\\x00\\x00\\x00\\x00\\x00\\x00\\x00\\x00\\x00\\x00\\x00\\x00\\x00\\x00\\x00\\x00\\x00\\x00\\x00\\x00\\x00\\x00\\x00\\x00\\x00\\x00\\x00\\x00\\x00\\x00\\x00\\x00\\x00\\x00\\x00\\x00\\x00\\x00\\x00\\x00\\x00\\x00\\x00\\x00\\x00\\x00\\x00\\x00\\x00\\x00\\x00\\x00\\x00\\x00\\x00\\x00\\x00\\x00\\x00\\x00\\x00\\x00\\x00\\x00\\x00\\x00\\x00\\x00\\x00\\x00\\x00\\x00\\x00\\x00\\x00\\x00\\x00\\x00\\x00\\x00\\x00\\x00\\x00\\x00\\x00\\x00\\x00\\x00\\x00\\x00\\x00\\x00\\x00\\x00\\x00\\x00\\x00\\x00\\x00\\x00\\x00\\x00\\x00\\x00\\x00\\x00\\x00\\x00\\x00\\x00\\x00\\x00\\x00\\x00\\x00\\x00\\x00\\x00\\x00\\x00\\x00\\x00\\x00\\x00\\x00\\x00\\x00\\x00\\x00\\x00\\x00\\x00\\x00\\x00\\x00\\x00\\x00\\x00\\x00\\x00\\x00\\x00\\x00\\x00\\x00\\x00\\x00\\x00\\x00\\x00\\x00\\x00\\x00\\x00\\x00\\x00\\x00\\x00\\x00\\x00\\x00\\x00\\x00\\x00\\x00\\x00\\x00\\x00\\x00\\x00\\x00\\x00\\x00\\x00\\x00\\x00\\x00\\x00\\x00\\x00\\x00\\x00\\x00\\x00\\x00\\x00\\x00\\x00\\x00\\x00\\x00\\x00\\x00\\x00\\x00\\x00\\x00\\x00\\x00\\x00\\x00\\x00\\x00\\x00\\x00\\x00\\x00\\x00\\x00\\x00\\x00\\x00\\x00\\x00\\x00\\x00\\x00\\x00\\x00\\x00\\x00\\x00\\x00\\x00\\x00\\x00\\x00\\x00\\x00\\x00\\x00\\x00\\x00\\x00\\x00\\x00\\x00\\x00\\x00\\x00\\x00\\x00\\x00\\x00\\x00\\x00\\x00\\x00\\x00\\x00\\x00\\x00\\x00\\x00\\x00\\x00\\x00\\x00\\x00\\x00\\x00\\x00\\x00\\x00\\x00\\x00\\x00\\x00\\x00\\x00\\x00\\x00\\x00\\x00\\x00\\x00\\x00\\x00\\x00\\x00\\x00\\x00\\x00\\x00\\x00\\x00\\x00\\x00\\x00\\x00\\x00\\x00\\x00\\x00\\x00\\x00\\x00\\x00\\x00\\x00\\x00\\x00\\x00\\x00\\x00\\x00\\x00\\x00\\x00\\x00\\x00\\x00\\x00\\x00\\x00\\x00\\x00\\x00\\x00\\x00\\x00\\x00\\x00\\x00\\x00\\x00\\x00\\x00\\x00\\x00\\x00\\x00\\x00\\x00\\x00\\x00\\x00\\x00\\x00\\x00\\x00\\x00\\x00\\x00\\x00\\x00\\x00\\x00\\x00\\x00\\x00\\x00\\x00\\x00\\x00\\x00\\x00\\x00\\x00\\x00\\x00\\x00\\x00\\x00\\x00\\x00\\x00\\x00\\x00\\x00\\x00\\x00\\x00\\x00\\x00\\x00\\x00\\x00\\x00\\x00\\x00\\x00\\x00\\x00\\x00\\x00\\x00\\x00\\x00\\x00\\x00\\x00\\x00\\x00\\x00\\x00\\x00\\x00\\x00\\x00\\x00\\x00\\x00\\x00\\x00\\x00\\x00\\x00\\x00\\x00\\x00\\x00\\x00\\x00\\x00\\x00\\x00\\x00\\x00\\x00\\x00\\x00\\x00\\x00\\x00\\x00\\x00\\x00\\x00\\x00\\x00\\x00\\x00\\x00\\x00\\x00\\x00\\x00\\x00\\x00\\x00\\x00\\x00\\x00\\x00\\x00\\x00\\x00\\x00\\x00\\x00\\x00\\x00\\x00\\x00\\x00\\x00\\x00\\x00\\x00\\x00\\x00\\x00\\x00\\x00\\x00\\x00\\x00\\x00\\x00\\x00\\x00\\x00\\x00\\x00\\x00\\x00\\x00\\x00\\x00\\x00\\x00\\x00\\x00\\x00\\x00\\x00\\x00\\x00\\x00\\x00\\x00\\x00\\x00\\x00\\x00\\x00\\x00\\x00\\x00\\x00\\x00\\x00\\x00\\x00\\x00\\x00\\x00\\x00\\x00\\x00\\x00\\x00\\x00\\x00\\x00\\x00\\x00\\x00\\x00\\x00\\x00\\x00\\x00\\x00\\x00\\x00\\x00\\x00\\x00\\x00\\x00\\x00\\x00\\x00\\x00\\x00\\x00\\x00\\x00\\x00\\x00\\x00\\x00\\x00\\x00\\x00\\x00\\x00\\x00\\x00\\x00\\x00\\x00\\x00\\x00\\x00\\x00\\x00\\x00\\x00\\x00\\x00\\x00\\x00\\x00\\x00\\x00\\x00\\x00\\x00\\x00\\x00\\x00\\x00\\x00\\x00\\x00\\x00\\x00\\x00\\x00\\x00\\x00\\x00\\x00\\x00\\x00\\x00\\x00\\x00\\x00\\x00\\x00\\x00\\x00\\x00\\x00\\x00\\x00\\x00\\x00\\x00\\x00\\x00\\x00\\x00\\x00\\x00\\x00\\x00\\x00\\x00\\x00\\x00\\x00\\x00\\x00\\x00\\x00\\x00\\x00\\x00\\x00\\x00\\x00\\x00\\x00\\x00\\x00\\x00\\x00\\x00\\x00\\x00\\x00\\x00\\x00\\x00\\x00\\x00\\x00\\x00\\x00\\x00\\x00\\x00\\x00\\x00\\x00\\x00\\x00\\x00\\x00\\x00\\x00\\x00\\x00\\x00\\x00\\x00\\x00\\x00\\x00\\x00\\x00\\x00\\x00\\x00\\x00\\x00\\x00\\x00\\x00\\x00\\x00\\x00\\x00\\x00\\x00\\x00\\x00\\x00\\x00\\x00\\x00\\x00\\x00\\x00\\x00\\x00\\x00\\x00\\x00\\x00\\x00\\x00\\x00\\x00\\x00\\x00\\x00\\x00\\x00\\x00\\x00\\x00\\x00\\x00\\x00\\x00\\x00\\x00\\x00\\x00\\x00\\x00\\x00\\x00\\x00\\x00\\x00\\x00\\x00\\x00\\x00\\x00\\x00\\x00\\x00\\x00\\x00\\x00\\x00\\x00\\x00\\x00\\x00\\x00\\x00\\x00\\x00\\x00\\x00\\x00\\x00\\x00\\x00\\x00\\x00\\x00\\x00\\x00\\x00\\x00\\x00\\x00\\x00\\x00\\x00\\x00\\x00\\x00\\x00\\x00\\x00\\x00\\x00\\x00\\x00\\x00\\x00\\x00\\x00\\x00\\x00\\x00\\x00\\x00\\x00\\x00\\x00\\x00\\x00\\x00\\x00\\x00\\x00\\x00\\x00\\x00\\x00\\x00\\x00\\x00\\x00\\x00\\x00\\x00\\x00\\x00\\x00\\x00\\x00\\x00\\x00\\x00\\x00\\x00\\x00\\x00\\x00\\x00\\x00\\x00\\x00\\x00\\x00\\x00\\x00\\x00\\x00\\x00\\x00\\x00\\x00\\x00'"
      ]
     },
     "execution_count": 306,
     "metadata": {},
     "output_type": "execute_result"
    }
   ],
   "source": [
    "reply = sp.read(4095)\n",
    "reply"
   ]
  },
  {
   "cell_type": "code",
   "execution_count": 129,
   "id": "11dd720b-e0e6-4022-8e01-76ee9b067e1d",
   "metadata": {},
   "outputs": [],
   "source": [
    "sleep()"
   ]
  },
  {
   "cell_type": "markdown",
   "id": "03da19fe-e962-47c2-b6fe-7fbe669b8e01",
   "metadata": {},
   "source": [
    "Après un sleep, le module semble envoyer un long 000000000000000000.  \n",
    "On peut le réveiller en mettant le fil jaune à HIGH, puis il est bon de flush le tampon d'entrée pour éviter d'avoir 4095 byte de rien à lire"
   ]
  },
  {
   "cell_type": "code",
   "execution_count": 134,
   "id": "45d64c4c-ac1d-4f01-bc5d-83d1bd097f65",
   "metadata": {},
   "outputs": [
    {
     "data": {
      "text/plain": [
       "True"
      ]
     },
     "execution_count": 134,
     "metadata": {},
     "output_type": "execute_result"
    }
   ],
   "source": [
    "# Mettre niveau haut sur fil jaune, puis :\n",
    "flushInputSerial()\n",
    "shakeHand()"
   ]
  },
  {
   "cell_type": "code",
   "execution_count": 96,
   "id": "0b6c9a12-cecd-4f7f-8a89-d669f37bc92a",
   "metadata": {},
   "outputs": [
    {
     "data": {
      "text/plain": [
       "True"
      ]
     },
     "execution_count": 96,
     "metadata": {},
     "output_type": "execute_result"
    }
   ],
   "source": [
    "clear()"
   ]
  },
  {
   "cell_type": "code",
   "execution_count": 22,
   "id": "8a426f5d-1c39-42f9-a363-2b9a02a533d8",
   "metadata": {},
   "outputs": [],
   "source": [
    "import time"
   ]
  },
  {
   "cell_type": "code",
   "execution_count": 12,
   "id": "6dfc0f14-bd66-4292-8d0d-ffbf8fd64688",
   "metadata": {},
   "outputs": [
    {
     "data": {
      "text/plain": [
       "True"
      ]
     },
     "execution_count": 12,
     "metadata": {},
     "output_type": "execute_result"
    }
   ],
   "source": [
    "refresh()"
   ]
  },
  {
   "cell_type": "code",
   "execution_count": 41,
   "id": "ca4162c3-6c7d-4f6c-bc9e-6d550df80532",
   "metadata": {},
   "outputs": [
    {
     "data": {
      "text/plain": [
       "0"
      ]
     },
     "execution_count": 41,
     "metadata": {},
     "output_type": "execute_result"
    }
   ],
   "source": [
    "sp.in_waiting"
   ]
  },
  {
   "cell_type": "code",
   "execution_count": 42,
   "id": "498f5531-7a2b-46e7-b347-5d26d0cfb2c2",
   "metadata": {},
   "outputs": [
    {
     "data": {
      "text/plain": [
       "b''"
      ]
     },
     "execution_count": 42,
     "metadata": {},
     "output_type": "execute_result"
    }
   ],
   "source": [
    "sp.read(2)"
   ]
  },
  {
   "cell_type": "markdown",
   "id": "9ced60cd-aaf4-477c-9278-52cbe41fdd88",
   "metadata": {},
   "source": [
    "Il semble y avoir un délai nécessaire pour le refresh.  \n",
    "Le délai semble être autour de 2-3 secondes."
   ]
  },
  {
   "cell_type": "code",
   "execution_count": 41,
   "id": "7928ad3f-a4de-42ed-8059-062d49f02799",
   "metadata": {},
   "outputs": [
    {
     "data": {
      "text/plain": [
       "'0deg'"
      ]
     },
     "execution_count": 41,
     "metadata": {},
     "output_type": "execute_result"
    }
   ],
   "source": [
    "getOrientation()"
   ]
  },
  {
   "cell_type": "code",
   "execution_count": 375,
   "id": "ed1fe9bd-b04c-464d-af67-2a7403569a21",
   "metadata": {},
   "outputs": [
    {
     "data": {
      "text/plain": [
       "True"
      ]
     },
     "execution_count": 375,
     "metadata": {},
     "output_type": "execute_result"
    }
   ],
   "source": [
    "setOrientation(\"0deg\")"
   ]
  },
  {
   "cell_type": "code",
   "execution_count": 360,
   "id": "f8a26360-d962-4128-a060-0760ee561964",
   "metadata": {},
   "outputs": [
    {
     "data": {
      "text/plain": [
       "bytearray(b'OK')"
      ]
     },
     "execution_count": 360,
     "metadata": {},
     "output_type": "execute_result"
    }
   ],
   "source": [
    "transactOnSerial(buildFrame(0x0D, [b'\\x00']))"
   ]
  },
  {
   "cell_type": "code",
   "execution_count": 382,
   "id": "2c012492-4b9b-4cde-9901-5823cefd86d1",
   "metadata": {},
   "outputs": [
    {
     "data": {
      "text/plain": [
       "bytearray(b'OK')"
      ]
     },
     "execution_count": 382,
     "metadata": {},
     "output_type": "execute_result"
    }
   ],
   "source": [
    "transactOnSerial(buildFrame(0x10, [struct.pack('>H', 0x00), struct.pack('>H', 0x00)]))"
   ]
  },
  {
   "cell_type": "code",
   "execution_count": 239,
   "id": "8b53e2da-86fe-49e5-9f17-d9610510370a",
   "metadata": {},
   "outputs": [
    {
     "data": {
      "text/plain": [
       "True"
      ]
     },
     "execution_count": 239,
     "metadata": {},
     "output_type": "execute_result"
    }
   ],
   "source": [
    "setColor(0x00, 0x03)"
   ]
  },
  {
   "cell_type": "code",
   "execution_count": 416,
   "id": "2494b3a4-1d66-4f68-a786-5fff855b076b",
   "metadata": {},
   "outputs": [
    {
     "data": {
      "text/plain": [
       "bytearray(b'OK')"
      ]
     },
     "execution_count": 416,
     "metadata": {},
     "output_type": "execute_result"
    }
   ],
   "source": [
    "transactOnSerial(buildFrame(0x24, [struct.pack('>H', 0x00), struct.pack('>H', 0x00), struct.pack('>H', 0xFF), struct.pack('>H', 0xFF)]))"
   ]
  },
  {
   "cell_type": "code",
   "execution_count": 183,
   "id": "e8797128-55b9-4525-ad07-1b8a641287a3",
   "metadata": {},
   "outputs": [
    {
     "data": {
      "text/plain": [
       "True"
      ]
     },
     "execution_count": 183,
     "metadata": {},
     "output_type": "execute_result"
    }
   ],
   "source": [
    "drawLine(200, 300, 500, 300)"
   ]
  },
  {
   "cell_type": "code",
   "execution_count": 24,
   "id": "9866a3d9-d7c9-4732-ac13-b0e32f0eaea0",
   "metadata": {},
   "outputs": [
    {
     "ename": "KeyboardInterrupt",
     "evalue": "",
     "output_type": "error",
     "traceback": [
      "\u001b[0;31m---------------------------------------------------------------------------\u001b[0m",
      "\u001b[0;31mKeyboardInterrupt\u001b[0m                         Traceback (most recent call last)",
      "Cell \u001b[0;32mIn[24], line 1\u001b[0m\n\u001b[0;32m----> 1\u001b[0m \u001b[43mfillRectangle\u001b[49m\u001b[43m(\u001b[49m\u001b[38;5;241;43m0\u001b[39;49m\u001b[43m,\u001b[49m\u001b[43m \u001b[49m\u001b[38;5;241;43m550\u001b[39;49m\u001b[43m,\u001b[49m\u001b[43m \u001b[49m\u001b[38;5;241;43m800\u001b[39;49m\u001b[43m,\u001b[49m\u001b[43m \u001b[49m\u001b[38;5;241;43m600\u001b[39;49m\u001b[43m)\u001b[49m\n",
      "Cell \u001b[0;32mIn[9], line 100\u001b[0m, in \u001b[0;36mfillRectangle\u001b[0;34m(x1, y1, x2, y2)\u001b[0m\n\u001b[1;32m     99\u001b[0m \u001b[38;5;28;01mdef\u001b[39;00m \u001b[38;5;21mfillRectangle\u001b[39m(x1, y1, x2, y2):\n\u001b[0;32m--> 100\u001b[0m     \u001b[38;5;28;01mreturn\u001b[39;00m \u001b[43mtransactOnSerial\u001b[49m\u001b[43m(\u001b[49m\u001b[43mbuildFrame\u001b[49m\u001b[43m(\u001b[49m\u001b[38;5;241;43m0x24\u001b[39;49m\u001b[43m,\u001b[49m\u001b[43m \u001b[49m\u001b[43m[\u001b[49m\u001b[43mstruct\u001b[49m\u001b[38;5;241;43m.\u001b[39;49m\u001b[43mpack\u001b[49m\u001b[43m(\u001b[49m\u001b[38;5;124;43m'\u001b[39;49m\u001b[38;5;124;43m>H\u001b[39;49m\u001b[38;5;124;43m'\u001b[39;49m\u001b[43m,\u001b[49m\u001b[43m \u001b[49m\u001b[43mx1\u001b[49m\u001b[43m)\u001b[49m\u001b[43m,\u001b[49m\u001b[43m \u001b[49m\u001b[43mstruct\u001b[49m\u001b[38;5;241;43m.\u001b[39;49m\u001b[43mpack\u001b[49m\u001b[43m(\u001b[49m\u001b[38;5;124;43m'\u001b[39;49m\u001b[38;5;124;43m>H\u001b[39;49m\u001b[38;5;124;43m'\u001b[39;49m\u001b[43m,\u001b[49m\u001b[43m \u001b[49m\u001b[43my1\u001b[49m\u001b[43m)\u001b[49m\u001b[43m,\u001b[49m\u001b[43m \u001b[49m\u001b[43mstruct\u001b[49m\u001b[38;5;241;43m.\u001b[39;49m\u001b[43mpack\u001b[49m\u001b[43m(\u001b[49m\u001b[38;5;124;43m'\u001b[39;49m\u001b[38;5;124;43m>H\u001b[39;49m\u001b[38;5;124;43m'\u001b[39;49m\u001b[43m,\u001b[49m\u001b[43m \u001b[49m\u001b[43mx2\u001b[49m\u001b[43m)\u001b[49m\u001b[43m,\u001b[49m\u001b[43m \u001b[49m\u001b[43mstruct\u001b[49m\u001b[38;5;241;43m.\u001b[39;49m\u001b[43mpack\u001b[49m\u001b[43m(\u001b[49m\u001b[38;5;124;43m'\u001b[39;49m\u001b[38;5;124;43m>H\u001b[39;49m\u001b[38;5;124;43m'\u001b[39;49m\u001b[43m,\u001b[49m\u001b[43m \u001b[49m\u001b[43my2\u001b[49m\u001b[43m)\u001b[49m\u001b[43m]\u001b[49m\u001b[43m)\u001b[49m\u001b[43m)\u001b[49m \u001b[38;5;241m==\u001b[39m \u001b[38;5;28mbytearray\u001b[39m(\u001b[38;5;124mb\u001b[39m\u001b[38;5;124m'\u001b[39m\u001b[38;5;124mOK\u001b[39m\u001b[38;5;124m'\u001b[39m)\n",
      "Cell \u001b[0;32mIn[5], line 13\u001b[0m, in \u001b[0;36mtransactOnSerial\u001b[0;34m(frame)\u001b[0m\n\u001b[1;32m     11\u001b[0m \u001b[38;5;28;01mwhile\u001b[39;00m newByte \u001b[38;5;241m!=\u001b[39m \u001b[38;5;124mb\u001b[39m\u001b[38;5;124m'\u001b[39m\u001b[38;5;124m'\u001b[39m:\n\u001b[1;32m     12\u001b[0m     reply \u001b[38;5;241m+\u001b[39m\u001b[38;5;241m=\u001b[39m newByte\n\u001b[0;32m---> 13\u001b[0m     newByte \u001b[38;5;241m=\u001b[39m \u001b[43msp\u001b[49m\u001b[38;5;241;43m.\u001b[39;49m\u001b[43mread\u001b[49m\u001b[43m(\u001b[49m\u001b[43m)\u001b[49m\n\u001b[1;32m     15\u001b[0m \u001b[38;5;28;01mreturn\u001b[39;00m reply\n",
      "File \u001b[0;32m~/pythonEnv/lib/python3.11/site-packages/serial/serialposix.py:565\u001b[0m, in \u001b[0;36mSerial.read\u001b[0;34m(self, size)\u001b[0m\n\u001b[1;32m    563\u001b[0m \u001b[38;5;28;01mwhile\u001b[39;00m \u001b[38;5;28mlen\u001b[39m(read) \u001b[38;5;241m<\u001b[39m size:\n\u001b[1;32m    564\u001b[0m     \u001b[38;5;28;01mtry\u001b[39;00m:\n\u001b[0;32m--> 565\u001b[0m         ready, _, _ \u001b[38;5;241m=\u001b[39m select\u001b[38;5;241m.\u001b[39mselect([\u001b[38;5;28mself\u001b[39m\u001b[38;5;241m.\u001b[39mfd, \u001b[38;5;28mself\u001b[39m\u001b[38;5;241m.\u001b[39mpipe_abort_read_r], [], [], \u001b[43mtimeout\u001b[49m\u001b[38;5;241;43m.\u001b[39;49m\u001b[43mtime_left\u001b[49m\u001b[43m(\u001b[49m\u001b[43m)\u001b[49m)\n\u001b[1;32m    566\u001b[0m         \u001b[38;5;28;01mif\u001b[39;00m \u001b[38;5;28mself\u001b[39m\u001b[38;5;241m.\u001b[39mpipe_abort_read_r \u001b[38;5;129;01min\u001b[39;00m ready:\n\u001b[1;32m    567\u001b[0m             os\u001b[38;5;241m.\u001b[39mread(\u001b[38;5;28mself\u001b[39m\u001b[38;5;241m.\u001b[39mpipe_abort_read_r, \u001b[38;5;241m1000\u001b[39m)\n",
      "File \u001b[0;32m~/pythonEnv/lib/python3.11/site-packages/serial/serialutil.py:148\u001b[0m, in \u001b[0;36mTimeout.time_left\u001b[0;34m(self)\u001b[0m\n\u001b[1;32m    146\u001b[0m     \u001b[38;5;28;01mreturn\u001b[39;00m \u001b[38;5;28;01mNone\u001b[39;00m\n\u001b[1;32m    147\u001b[0m \u001b[38;5;28;01melse\u001b[39;00m:\n\u001b[0;32m--> 148\u001b[0m     delta \u001b[38;5;241m=\u001b[39m \u001b[38;5;28mself\u001b[39m\u001b[38;5;241m.\u001b[39mtarget_time \u001b[38;5;241m-\u001b[39m \u001b[38;5;28;43mself\u001b[39;49m\u001b[38;5;241;43m.\u001b[39;49m\u001b[43mTIME\u001b[49m\u001b[43m(\u001b[49m\u001b[43m)\u001b[49m\n\u001b[1;32m    149\u001b[0m     \u001b[38;5;28;01mif\u001b[39;00m delta \u001b[38;5;241m>\u001b[39m \u001b[38;5;28mself\u001b[39m\u001b[38;5;241m.\u001b[39mduration:\n\u001b[1;32m    150\u001b[0m         \u001b[38;5;66;03m# clock jumped, recalculate\u001b[39;00m\n\u001b[1;32m    151\u001b[0m         \u001b[38;5;28mself\u001b[39m\u001b[38;5;241m.\u001b[39mtarget_time \u001b[38;5;241m=\u001b[39m \u001b[38;5;28mself\u001b[39m\u001b[38;5;241m.\u001b[39mTIME() \u001b[38;5;241m+\u001b[39m \u001b[38;5;28mself\u001b[39m\u001b[38;5;241m.\u001b[39mduration\n",
      "\u001b[0;31mKeyboardInterrupt\u001b[0m: "
     ]
    }
   ],
   "source": [
    "fillRectangle(0, 550, 800, 600)"
   ]
  },
  {
   "cell_type": "markdown",
   "id": "9702593e-713c-4461-8ff9-bdb7f41b447d",
   "metadata": {},
   "source": [
    "Clairement les délais changent selon les commandes... peut-être changer ma fonction transact pour pouvoir spécifier délai?"
   ]
  },
  {
   "cell_type": "code",
   "execution_count": 449,
   "id": "64fc7c01-65bf-4858-a584-e3e331d9528c",
   "metadata": {},
   "outputs": [
    {
     "data": {
      "text/plain": [
       "bytearray(b'0')"
      ]
     },
     "execution_count": 449,
     "metadata": {},
     "output_type": "execute_result"
    }
   ],
   "source": [
    "getEnglishFontSize()"
   ]
  },
  {
   "cell_type": "code",
   "execution_count": 28,
   "id": "6e714a33-e3cb-44ea-b8c0-fcb2bc303b1c",
   "metadata": {},
   "outputs": [
    {
     "data": {
      "text/plain": [
       "bytearray(b'OK')"
      ]
     },
     "execution_count": 28,
     "metadata": {},
     "output_type": "execute_result"
    }
   ],
   "source": [
    "transactOnSerial(buildFrame(0x30, [struct.pack('>H', 0x00), struct.pack('>H', 0x00), b'Allo mon ptit coco' + b'\\x00']))"
   ]
  },
  {
   "cell_type": "code",
   "execution_count": 33,
   "id": "7358cc1c-3a92-4f76-87d4-3b7daceceae4",
   "metadata": {},
   "outputs": [
    {
     "data": {
      "text/plain": [
       "bytearray(b'Allo mon petit mere')"
      ]
     },
     "execution_count": 33,
     "metadata": {},
     "output_type": "execute_result"
    }
   ],
   "source": [
    "bytearray('Allo mon petit mere', 'ASCII')"
   ]
  },
  {
   "cell_type": "code",
   "execution_count": 11,
   "id": "7fc66401-934c-414b-84a7-328102c85128",
   "metadata": {},
   "outputs": [
    {
     "data": {
      "text/plain": [
       "True"
      ]
     },
     "execution_count": 11,
     "metadata": {},
     "output_type": "execute_result"
    }
   ],
   "source": [
    "drawText(100, 250, \"We're in the endgame's endgame now\")"
   ]
  },
  {
   "cell_type": "code",
   "execution_count": 44,
   "id": "23077bcd-4dc4-42ef-b4ca-70ac63259be3",
   "metadata": {},
   "outputs": [
    {
     "data": {
      "text/plain": [
       "bytearray(b'File: KID.BMP\\r\\nError:250')"
      ]
     },
     "execution_count": 44,
     "metadata": {},
     "output_type": "execute_result"
    }
   ],
   "source": [
    "x = 0\n",
    "y = 0\n",
    "filename = 'KID.BMP'\n",
    "transactOnSerial(buildFrame(0x70, [struct.pack('>H', x), struct.pack('>H', y), bytearray(filename, 'ASCII') + b'\\x00']))"
   ]
  },
  {
   "cell_type": "code",
   "execution_count": 142,
   "id": "272c4c37-96f2-4f6a-bd6e-066d745883eb",
   "metadata": {},
   "outputs": [
    {
     "data": {
      "text/plain": [
       "bytearray(b'File: KID.BMP\\r\\n')"
      ]
     },
     "execution_count": 142,
     "metadata": {},
     "output_type": "execute_result"
    }
   ],
   "source": [
    "displayImage(0, 0, 'KID.BMP')"
   ]
  },
  {
   "cell_type": "code",
   "execution_count": 139,
   "id": "1b927c7f-e906-42c0-8427-0da1d7a99622",
   "metadata": {},
   "outputs": [
    {
     "data": {
      "text/plain": [
       "bytearray(b'File: MAIS.BMP\\r\\n')"
      ]
     },
     "execution_count": 139,
     "metadata": {},
     "output_type": "execute_result"
    }
   ],
   "source": [
    "displayImage(0, 0, 'MAIS.BMP')"
   ]
  },
  {
   "cell_type": "code",
   "execution_count": 145,
   "id": "ad2a1525-3150-48d9-aa77-6ad6e825e870",
   "metadata": {},
   "outputs": [
    {
     "data": {
      "text/plain": [
       "bytearray(b'File: ZEN.BMP\\r\\n')"
      ]
     },
     "execution_count": 145,
     "metadata": {},
     "output_type": "execute_result"
    }
   ],
   "source": [
    "displayImage(0, 0, 'ZEN.BMP')"
   ]
  },
  {
   "cell_type": "code",
   "execution_count": 147,
   "id": "7ed5a4c3-eae1-431b-9508-55d2e827519d",
   "metadata": {},
   "outputs": [
    {
     "data": {
      "text/plain": [
       "False"
      ]
     },
     "execution_count": 147,
     "metadata": {},
     "output_type": "execute_result"
    }
   ],
   "source": [
    "clear()"
   ]
  },
  {
   "cell_type": "code",
   "execution_count": 150,
   "id": "107697a3-7c9a-4e83-9a51-7cc86dad2823",
   "metadata": {},
   "outputs": [
    {
     "data": {
      "text/plain": [
       "True"
      ]
     },
     "execution_count": 150,
     "metadata": {},
     "output_type": "execute_result"
    }
   ],
   "source": [
    "refresh()"
   ]
  },
  {
   "cell_type": "code",
   "execution_count": 148,
   "id": "40422875-2545-4763-ae35-ca1c7533267c",
   "metadata": {},
   "outputs": [
    {
     "data": {
      "text/plain": [
       "True"
      ]
     },
     "execution_count": 148,
     "metadata": {},
     "output_type": "execute_result"
    }
   ],
   "source": [
    "drawCircle(400, 300, 50)"
   ]
  },
  {
   "cell_type": "code",
   "execution_count": 176,
   "id": "cb36bf71-a3b7-42c2-bf0c-dfe552de4e7f",
   "metadata": {},
   "outputs": [
    {
     "data": {
      "text/plain": [
       "True"
      ]
     },
     "execution_count": 176,
     "metadata": {},
     "output_type": "execute_result"
    }
   ],
   "source": [
    "fillCircle(400, 300, 50)"
   ]
  },
  {
   "cell_type": "code",
   "execution_count": 34,
   "id": "55b88581-aa47-4baf-a800-0e751906b153",
   "metadata": {},
   "outputs": [
    {
     "data": {
      "text/plain": [
       "True"
      ]
     },
     "execution_count": 34,
     "metadata": {},
     "output_type": "execute_result"
    }
   ],
   "source": [
    "drawPoint(202, 300)"
   ]
  },
  {
   "cell_type": "code",
   "execution_count": 154,
   "id": "e1030085-7d22-4a64-ba8a-30a1958fa3a2",
   "metadata": {},
   "outputs": [
    {
     "data": {
      "text/plain": [
       "True"
      ]
     },
     "execution_count": 154,
     "metadata": {},
     "output_type": "execute_result"
    }
   ],
   "source": [
    "drawTriangle(600, 250, 700, 250, 650, 400)"
   ]
  },
  {
   "cell_type": "code",
   "execution_count": 156,
   "id": "732282b4-5d89-4346-9079-b9bd1496638d",
   "metadata": {},
   "outputs": [
    {
     "data": {
      "text/plain": [
       "True"
      ]
     },
     "execution_count": 156,
     "metadata": {},
     "output_type": "execute_result"
    }
   ],
   "source": [
    "fillTriangle(600, 250, 700, 250, 650, 400)"
   ]
  },
  {
   "cell_type": "code",
   "execution_count": 49,
   "id": "75b35d23-0e8e-4c82-9ec6-d01ec7ccde88",
   "metadata": {},
   "outputs": [
    {
     "data": {
      "text/plain": [
       "bytearray(b'\\x00\\xff')"
      ]
     },
     "execution_count": 49,
     "metadata": {},
     "output_type": "execute_result"
    }
   ],
   "source": [
    "x = bytearray()\n",
    "x.append(0)\n",
    "x.append(255)\n",
    "x"
   ]
  },
  {
   "cell_type": "code",
   "execution_count": null,
   "id": "333a5564-a416-4c42-9c80-9d43de335ea9",
   "metadata": {},
   "outputs": [],
   "source": [
    "x = ''\n",
    "x = x + "
   ]
  },
  {
   "cell_type": "code",
   "execution_count": 106,
   "id": "413ce6a1-633f-418f-ad43-28b2f6cabb63",
   "metadata": {},
   "outputs": [
    {
     "data": {
      "text/plain": [
       "bytearray(b'\\xc8\\xc9\\xca\\xcb\\xcc\\xcd\\xce\\xcf\\xd0\\xd1\\xd2\\xd3\\xd4\\xd5\\xd6\\xd7\\xd8\\xd9\\xda\\xdb\\xdc\\xdd\\xde\\xdf\\xe0\\xe1\\xe2\\xe3\\xe4\\xe5\\xe6\\xe7\\xe8\\xe9\\xea\\xeb\\xec\\xed\\xee\\xef\\xf0\\xf1\\xf2\\xf3\\xf4\\xf5\\xf6\\xf7\\xf8\\xf9\\xfa\\xfb\\xfc\\xfd\\xfe\\xff\\x00')"
      ]
     },
     "execution_count": 106,
     "metadata": {},
     "output_type": "execute_result"
    }
   ],
   "source": [
    "# Tester la police / encodage\n",
    "chars = bytearray()\n",
    "\n",
    "for i in range(200, 256):\n",
    "    chars.append(i)\n",
    "\n",
    "chars.append(0x00)\n",
    "\n",
    "chars"
   ]
  },
  {
   "cell_type": "code",
   "execution_count": 108,
   "id": "d3738446-319d-41d2-a686-b0ee995e9b5a",
   "metadata": {},
   "outputs": [
    {
     "data": {
      "text/plain": [
       "bytearray(b'OK')"
      ]
     },
     "execution_count": 108,
     "metadata": {},
     "output_type": "execute_result"
    }
   ],
   "source": [
    "x = 0\n",
    "y = 0\n",
    "transactOnSerial(buildFrame(0x30, [struct.pack('>H', x), struct.pack('>H', y), chars]))"
   ]
  },
  {
   "cell_type": "markdown",
   "id": "5b37da99-a995-4c48-ab49-d1b74fb77fb6",
   "metadata": {},
   "source": [
    "Test affichage de caractères :\n",
    "\n",
    " - 1 à 31 fait planter comm\n",
    " - 15 à 31 fait planter comm\n",
    " - 30 à 31 fait planter comm\n",
    " - 32 à 126 marche bien (ASCII)\n",
    " - 127 à 255 : caractères chinois"
   ]
  },
  {
   "cell_type": "code",
   "execution_count": 20,
   "id": "ac1342a5-ddea-47e4-9152-fda3f79a46e6",
   "metadata": {},
   "outputs": [
    {
     "data": {
      "text/plain": [
       "True"
      ]
     },
     "execution_count": 20,
     "metadata": {},
     "output_type": "execute_result"
    }
   ],
   "source": [
    "clear()"
   ]
  },
  {
   "cell_type": "code",
   "execution_count": 147,
   "id": "86e3ecb0-5efa-447e-ba1a-4d77e343d50a",
   "metadata": {},
   "outputs": [
    {
     "data": {
      "text/plain": [
       "bytearray(b'OK')"
      ]
     },
     "execution_count": 147,
     "metadata": {},
     "output_type": "execute_result"
    }
   ],
   "source": [
    "setFontSize(1)"
   ]
  },
  {
   "cell_type": "code",
   "execution_count": 541,
   "id": "09eea8ed-07c2-4b08-9df7-9e09b360a6fe",
   "metadata": {},
   "outputs": [
    {
     "data": {
      "text/plain": [
       "True"
      ]
     },
     "execution_count": 541,
     "metadata": {},
     "output_type": "execute_result"
    }
   ],
   "source": [
    "drawText(20, 20, 'abcdefghijklmnopqrstuvwxyz,.!')"
   ]
  },
  {
   "cell_type": "code",
   "execution_count": 11,
   "id": "b4965241-1ea1-4059-8701-6b580281a749",
   "metadata": {},
   "outputs": [
    {
     "data": {
      "text/plain": [
       "True"
      ]
     },
     "execution_count": 11,
     "metadata": {},
     "output_type": "execute_result"
    }
   ],
   "source": [
    "drawText(20, 60, 'ABCDEFGHIJKLMNOPQRSTUVWXYZ\\';?')"
   ]
  },
  {
   "cell_type": "code",
   "execution_count": 21,
   "id": "dd52c786-52aa-497c-927a-d335efc88d45",
   "metadata": {},
   "outputs": [
    {
     "data": {
      "text/plain": [
       "True"
      ]
     },
     "execution_count": 21,
     "metadata": {},
     "output_type": "execute_result"
    }
   ],
   "source": [
    "drawText(100, 200, 'Ceci a ete quand meme beaucoup')\n",
    "drawText(100, 250, 'de travail :,)')"
   ]
  },
  {
   "cell_type": "code",
   "execution_count": 22,
   "id": "16244c98-2381-4c43-9884-c3087d6bac79",
   "metadata": {},
   "outputs": [
    {
     "data": {
      "text/plain": [
       "True"
      ]
     },
     "execution_count": 22,
     "metadata": {},
     "output_type": "execute_result"
    }
   ],
   "source": [
    "refresh()"
   ]
  },
  {
   "cell_type": "code",
   "execution_count": 37,
   "id": "02cf13ab-ef21-41c9-a098-4de626f99bb8",
   "metadata": {},
   "outputs": [
    {
     "data": {
      "text/plain": [
       "bytearray(b'03')"
      ]
     },
     "execution_count": 37,
     "metadata": {},
     "output_type": "execute_result"
    }
   ],
   "source": [
    "getColor()"
   ]
  },
  {
   "cell_type": "markdown",
   "id": "d4c66231-587b-40f3-8a87-e5ea39de1477",
   "metadata": {},
   "source": [
    "### Test d'interface"
   ]
  },
  {
   "cell_type": "code",
   "execution_count": 170,
   "id": "3e5ef286-7372-47a0-b105-49e97a01645d",
   "metadata": {},
   "outputs": [
    {
     "data": {
      "text/plain": [
       "True"
      ]
     },
     "execution_count": 170,
     "metadata": {},
     "output_type": "execute_result"
    }
   ],
   "source": [
    "clear()"
   ]
  },
  {
   "cell_type": "code",
   "execution_count": 246,
   "id": "4f93f5f8-8dee-4179-a489-c1cf086dd6b4",
   "metadata": {},
   "outputs": [
    {
     "data": {
      "text/plain": [
       "bytearray(b'OK')"
      ]
     },
     "execution_count": 246,
     "metadata": {},
     "output_type": "execute_result"
    }
   ],
   "source": [
    "setFontSize(2)"
   ]
  },
  {
   "cell_type": "code",
   "execution_count": 247,
   "id": "6a233aa8-3c02-48a1-b8ad-41e56494aade",
   "metadata": {},
   "outputs": [
    {
     "data": {
      "text/plain": [
       "True"
      ]
     },
     "execution_count": 247,
     "metadata": {},
     "output_type": "execute_result"
    }
   ],
   "source": [
    "drawText(50, 50, 'Livres :')"
   ]
  },
  {
   "cell_type": "code",
   "execution_count": 10,
   "id": "5e0de704-a7b9-4195-b346-79f087c7b9e0",
   "metadata": {},
   "outputs": [
    {
     "data": {
      "text/plain": [
       "bytearray(b'OK')"
      ]
     },
     "execution_count": 10,
     "metadata": {},
     "output_type": "execute_result"
    }
   ],
   "source": [
    "setFontSize(2)"
   ]
  },
  {
   "cell_type": "code",
   "execution_count": 249,
   "id": "17f28e40-ebc1-4e9a-89ef-2adc357bbf5b",
   "metadata": {},
   "outputs": [
    {
     "data": {
      "text/plain": [
       "True"
      ]
     },
     "execution_count": 249,
     "metadata": {},
     "output_type": "execute_result"
    }
   ],
   "source": [
    "drawText(165, 130, \"Livre 1\")\n",
    "fillRectangle(100, 125, 140, 165)\n",
    "drawText(165, 205, \"Livre 2\")\n",
    "drawRectangle(100, 200, 140, 240)\n",
    "drawText(165, 280, \"Livre 3\")\n",
    "drawRectangle(100, 275, 140, 315)"
   ]
  },
  {
   "cell_type": "code",
   "execution_count": 172,
   "id": "3d231917-7b79-4553-8018-852e58fe62e8",
   "metadata": {},
   "outputs": [
    {
     "data": {
      "text/plain": [
       "True"
      ]
     },
     "execution_count": 172,
     "metadata": {},
     "output_type": "execute_result"
    }
   ],
   "source": [
    "refresh()"
   ]
  },
  {
   "cell_type": "markdown",
   "id": "df3ebaee-a8da-49cb-ab21-66307ef1e542",
   "metadata": {},
   "source": [
    "On peut effacer de façon sélective en \"redessinant\" en blanc (setcolor 3 x) par-dessus ce que l'on a dessiné.  \n",
    "Pratique pour faire un UI!"
   ]
  },
  {
   "cell_type": "code",
   "execution_count": 163,
   "id": "c65900fa-6859-4186-987c-a33806b6e418",
   "metadata": {},
   "outputs": [
    {
     "data": {
      "text/plain": [
       "True"
      ]
     },
     "execution_count": 163,
     "metadata": {},
     "output_type": "execute_result"
    }
   ],
   "source": [
    "setStorageArea(\"SD\")"
   ]
  },
  {
   "cell_type": "code",
   "execution_count": 76,
   "id": "a2a804af-d4c5-4b84-82cb-f3ca72253c48",
   "metadata": {},
   "outputs": [
    {
     "data": {
      "text/plain": [
       "True"
      ]
     },
     "execution_count": 76,
     "metadata": {},
     "output_type": "execute_result"
    }
   ],
   "source": [
    "setStorageArea(\"NAND\")"
   ]
  },
  {
   "cell_type": "code",
   "execution_count": 171,
   "id": "3f001840-0368-45ef-a148-db7d37635b54",
   "metadata": {},
   "outputs": [
    {
     "data": {
      "text/plain": [
       "bytearray(b'File: FOND2.BMP\\r\\n')"
      ]
     },
     "execution_count": 171,
     "metadata": {},
     "output_type": "execute_result"
    }
   ],
   "source": [
    "displayImage(0, 0, 'FOND2.BMP')"
   ]
  },
  {
   "cell_type": "markdown",
   "id": "f38c456d-6f93-4bfc-9d94-302c51b839ce",
   "metadata": {},
   "source": [
    "Pour faire fonctionner le transfert de gimp :\n",
    " \n",
    " - Utiliser les bonnes valeurs de couleurs (000000 FFFFFF C0C0C0 et 808080)\n",
    " - Dans Image, Mode, Indexed, choisir \"Generate optimum palette\""
   ]
  },
  {
   "cell_type": "code",
   "execution_count": 186,
   "id": "2bbc6c26-7a04-4c55-9998-aa00bb8e1338",
   "metadata": {},
   "outputs": [
    {
     "data": {
      "text/plain": [
       "True"
      ]
     },
     "execution_count": 186,
     "metadata": {},
     "output_type": "execute_result"
    }
   ],
   "source": [
    "setColor(0, 3)"
   ]
  },
  {
   "cell_type": "code",
   "execution_count": 160,
   "id": "7a4f89b0-3c95-4308-a3b0-ac6db8f9639d",
   "metadata": {},
   "outputs": [
    {
     "data": {
      "text/plain": [
       "True"
      ]
     },
     "execution_count": 160,
     "metadata": {},
     "output_type": "execute_result"
    }
   ],
   "source": [
    "drawText(120, 305, \"Test\")"
   ]
  },
  {
   "cell_type": "code",
   "execution_count": 11,
   "id": "844965b9-36bb-4b96-850d-e06ab63f0f17",
   "metadata": {},
   "outputs": [
    {
     "data": {
      "text/plain": [
       "52"
      ]
     },
     "execution_count": 11,
     "metadata": {},
     "output_type": "execute_result"
    }
   ],
   "source": [
    "int('52')"
   ]
  },
  {
   "cell_type": "code",
   "execution_count": 17,
   "id": "3c7da53e-1b0a-4099-9b60-3476786d4139",
   "metadata": {},
   "outputs": [
    {
     "name": "stdout",
     "output_type": "stream",
     "text": [
      "case dyn\n"
     ]
    }
   ],
   "source": [
    "x = 'allo52'\n",
    "\n",
    "y = 'allo' + str(5)\n",
    "\n",
    "match x:\n",
    "    case 'allo4':\n",
    "        print('lel')\n",
    "    case mot if int(mot[-2:]) == 52:\n",
    "        print('case dyn')\n",
    "    case _:\n",
    "        print(int(x[-2:]))\n",
    "        print('catchall')"
   ]
  },
  {
   "cell_type": "code",
   "execution_count": 21,
   "id": "87928c8f-46a3-483e-8702-64d625e67070",
   "metadata": {},
   "outputs": [
    {
     "data": {
      "text/plain": [
       "'l5'"
      ]
     },
     "execution_count": 21,
     "metadata": {},
     "output_type": "execute_result"
    }
   ],
   "source": [
    "x = 'pal5'\n",
    "\n",
    "x[2:]"
   ]
  },
  {
   "cell_type": "markdown",
   "id": "8203e234-42a3-4f44-8819-e1b8d783c5f3",
   "metadata": {
    "jp-MarkdownHeadingCollapsed": true
   },
   "source": [
    "## API"
   ]
  },
  {
   "cell_type": "code",
   "execution_count": 11,
   "id": "f327263d-72ee-4822-8226-df590a900ce1",
   "metadata": {},
   "outputs": [],
   "source": [
    "def shakeHand():\n",
    "    return transactOnSerial(buildFrame(0x00)) == bytearray(b'OK')\n",
    "        \n",
    "def setBaudrate(baudrate):\n",
    "    writeToSerial(buildFrame(0x01, [struct.pack('>I', baudrate)]))\n",
    "    time.sleep(1)\n",
    "    \n",
    "def getBaudrate():\n",
    "    return transactOnSerial(buildFrame(0x02)).decode(\"ASCII\")\n",
    "    \n",
    "def getStorageArea():\n",
    "    area = transactOnSerial(buildFrame(0x06))\n",
    "\n",
    "    if area == b'0':\n",
    "        return \"NAND\"\n",
    "    \n",
    "    if area == b'1':\n",
    "        return \"SD\"\n",
    "    \n",
    "    raise ValueError('Unexpected value received', area)\n",
    "    \n",
    "def setStorageArea(area):\n",
    "    if area == \"NAND\":\n",
    "        areaByte = b'\\x00'\n",
    "    else:\n",
    "        if area == \"SD\":\n",
    "            areaByte = b'\\x01'\n",
    "        else:\n",
    "            raise ValueError('Value must be NAND or SD, received : ', area)\n",
    "            \n",
    "    return transactOnSerial(buildFrame(0x07, [areaByte])) == bytearray(b'OK')\n",
    "    \n",
    "def sleep():\n",
    "    writeToSerial(buildFrame(0x08))\n",
    "    \n",
    "def refresh():\n",
    "    return transactOnSerial(buildFrame(0x0A)) == bytearray(b'OK')\n",
    "    \n",
    "def getOrientation():\n",
    "    orientation = transactOnSerial(buildFrame(0x0C))\n",
    "\n",
    "    match orientation:\n",
    "        case b'0':\n",
    "            return \"0deg\"\n",
    "        case b'1':\n",
    "            return \"90deg\"\n",
    "        case b'2':\n",
    "            return \"180deg\"\n",
    "        case b'3':\n",
    "            return \"270deg\"\n",
    "        case other:\n",
    "            raise ValueError('Unexpected value received', area)\n",
    "    \n",
    "def setOrientation(orientation):\n",
    "    match orientation:\n",
    "        case \"0deg\":\n",
    "            orientationByte = b'\\x00'\n",
    "        case \"90deg\":\n",
    "            orientationByte = b'\\x01'\n",
    "        case \"180deg\":\n",
    "            orientationByte = b'\\x02'\n",
    "        case \"270deg\":\n",
    "            orientationByte = b'\\x03'\n",
    "        case other:\n",
    "            raise ValueError('Value must be 0deg, 90deg, 180deg or 270 deg, received : ', orientation)\n",
    "\n",
    "    return transactOnSerial(buildFrame(0x0D, [orientationByte])) == bytearray(b'OK')\n",
    "            \n",
    "def importFontLibrary():\n",
    "    pass\n",
    "    \n",
    "def importImage():\n",
    "    pass\n",
    "    \n",
    "def setColor(fgcolor, bgcolor):\n",
    "    return transactOnSerial(buildFrame(0x10, [struct.pack('B', fgcolor), struct.pack('B', bgcolor)])) == bytearray(b'OK')\n",
    "    \n",
    "def getColor():\n",
    "    return transactOnSerial(buildFrame(0x11))\n",
    "    \n",
    "def getEnglishFontSize():\n",
    "    return transactOnSerial(buildFrame(0x1C))\n",
    "    \n",
    "def getFontSize():\n",
    "    return transactOnSerial(buildFrame(0x1D))\n",
    "    \n",
    "def setEnglishFontSize(size):\n",
    "    return transactOnSerial(buildFrame(0x1E, [struct.pack('B', size)]))\n",
    "    \n",
    "def setFontSize(size):\n",
    "    return transactOnSerial(buildFrame(0x1F, [struct.pack('B', size)]))\n",
    "    \n",
    "def drawPoint(x, y):\n",
    "    return transactOnSerial(buildFrame(0x20, [struct.pack('>H', x), struct.pack('>H', y)])) == bytearray(b'OK')\n",
    "    \n",
    "def drawLine(x1, y1, x2, y2):\n",
    "    return transactOnSerial(buildFrame(0x22, [struct.pack('>H', x1), struct.pack('>H', y1), struct.pack('>H', x2), struct.pack('>H', y2)])) == bytearray(b'OK')\n",
    "    \n",
    "def fillRectangle(x1, y1, x2, y2):\n",
    "    return transactOnSerial(buildFrame(0x24, [struct.pack('>H', x1), struct.pack('>H', y1), struct.pack('>H', x2), struct.pack('>H', y2)])) == bytearray(b'OK')\n",
    "    \n",
    "def drawRectangle(x1, y1, x2, y2):\n",
    "    return transactOnSerial(buildFrame(0x25, [struct.pack('>H', x1), struct.pack('>H', y1), struct.pack('>H', x2), struct.pack('>H', y2)])) == bytearray(b'OK')\n",
    "    \n",
    "def drawCircle(x, y, r):\n",
    "    return transactOnSerial(buildFrame(0x26, [struct.pack('>H', x), struct.pack('>H', y), struct.pack('>H', r)])) == bytearray(b'OK')\n",
    "    \n",
    "def fillCircle(x, y, r):\n",
    "    return transactOnSerial(buildFrame(0x27, [struct.pack('>H', x), struct.pack('>H', y), struct.pack('>H', r)])) == bytearray(b'OK')\n",
    "    \n",
    "def drawTriangle(x1, y1, x2, y2, x3, y3):\n",
    "    return transactOnSerial(buildFrame(0x28, [struct.pack('>H', x1), struct.pack('>H', y1), struct.pack('>H', x2), struct.pack('>H', y2), struct.pack('>H', x3), struct.pack('>H', y3)])) == bytearray(b'OK')\n",
    "    \n",
    "def fillTriangle(x1, y1, x2, y2, x3, y3):\n",
    "    return transactOnSerial(buildFrame(0x29, [struct.pack('>H', x1), struct.pack('>H', y1), struct.pack('>H', x2), struct.pack('>H', y2), struct.pack('>H', x3), struct.pack('>H', y3)])) == bytearray(b'OK')\n",
    "    \n",
    "def clear():\n",
    "    return transactOnSerial(buildFrame(0x2E)) == bytearray(b'OK')\n",
    "    \n",
    "def drawText(x, y, text):\n",
    "    return transactOnSerial(buildFrame(0x30, [struct.pack('>H', x), struct.pack('>H', y), bytearray(text, 'ASCII') + b'\\x00'])) == bytearray(b'OK')\n",
    "    \n",
    "def displayImage(x, y, filename):\n",
    "    return transactOnSerial(buildFrame(0x70, [struct.pack('>H', x), struct.pack('>H', y), bytearray(filename, 'ASCII') + b'\\x00']))\n",
    "    \n",
    "def sendtoSD(filename):\n",
    "    pass\n",
    "def nandFullErase():\n",
    "    pass"
   ]
  },
  {
   "cell_type": "markdown",
   "id": "f8a071de-17f1-4774-be4d-87541364158f",
   "metadata": {},
   "source": [
    "## Lire livre"
   ]
  },
  {
   "cell_type": "code",
   "execution_count": 553,
   "id": "aa4c6002-67df-4ba8-91fa-ddf3ba8f9f6a",
   "metadata": {},
   "outputs": [],
   "source": [
    "f = open('livres/Verne_Vingtmillelieuessouslesmers.txt', 'r')"
   ]
  },
  {
   "cell_type": "code",
   "execution_count": 10,
   "id": "bb7a86a4-d447-49b3-a84f-9a62afb8ab9e",
   "metadata": {},
   "outputs": [
    {
     "data": {
      "text/plain": [
       "True"
      ]
     },
     "execution_count": 10,
     "metadata": {},
     "output_type": "execute_result"
    }
   ],
   "source": [
    "clear()"
   ]
  },
  {
   "cell_type": "code",
   "execution_count": 554,
   "id": "6f7a3507-3297-4cc0-89ae-1671472bdf55",
   "metadata": {},
   "outputs": [
    {
     "data": {
      "text/plain": [
       "0"
      ]
     },
     "execution_count": 554,
     "metadata": {},
     "output_type": "execute_result"
    }
   ],
   "source": [
    "f.tell()"
   ]
  },
  {
   "cell_type": "code",
   "execution_count": 342,
   "id": "1f15980b-0d87-400b-9e1d-c8b76a4fdd3f",
   "metadata": {},
   "outputs": [
    {
     "data": {
      "text/plain": [
       "244"
      ]
     },
     "execution_count": 342,
     "metadata": {},
     "output_type": "execute_result"
    }
   ],
   "source": [
    "f.seek(244)"
   ]
  },
  {
   "cell_type": "code",
   "execution_count": 556,
   "id": "d97a1463-2128-4403-ae0e-f8a3f86a8476",
   "metadata": {},
   "outputs": [],
   "source": [
    "f.close()"
   ]
  },
  {
   "cell_type": "markdown",
   "id": "5bc58fe6-4613-49b6-8105-2cb1e4e85a6d",
   "metadata": {},
   "source": [
    "Problèmes :\n",
    "\n",
    " - Newlines\n",
    " - Tab\n",
    " - Accents\n",
    " - Ligne \"trop longue\" (problème fréquent)\n",
    "\n",
    "Infos notables :\n",
    "\n",
    " - Taille d'une ligne semble être 40 de hauteur\n",
    " - Longueur environ 59 caractères de long.\n",
    " - Avec ces valeurs, il rentre environ 14 lignes"
   ]
  },
  {
   "cell_type": "code",
   "execution_count": 344,
   "id": "757c4bd7-efd5-426b-b0e9-e57688215991",
   "metadata": {},
   "outputs": [
    {
     "data": {
      "text/plain": [
       "'\\\\xc9lyse'"
      ]
     },
     "execution_count": 344,
     "metadata": {},
     "output_type": "execute_result"
    }
   ],
   "source": [
    "x = \"Élyse\".encode('ascii', 'backslashreplace').decode('ascii')\n",
    "x"
   ]
  },
  {
   "cell_type": "code",
   "execution_count": 345,
   "id": "cc61a9db-fe27-4213-9492-0b9d96cd42e5",
   "metadata": {},
   "outputs": [
    {
     "data": {
      "text/plain": [
       "'Elyse'"
      ]
     },
     "execution_count": 345,
     "metadata": {},
     "output_type": "execute_result"
    }
   ],
   "source": [
    "x.replace('\\\\xc9', 'E')"
   ]
  },
  {
   "cell_type": "code",
   "execution_count": 550,
   "id": "2823679e-61bf-47e2-9c11-1ba624a61b61",
   "metadata": {},
   "outputs": [
    {
     "data": {
      "text/plain": [
       "[\"L'annee 1866 fut marquee par un evenement bizarre, un pheno\",\n",
       " \"mene inexplique et inexplicable que personne n'a sans doute\",\n",
       " ' oublie. Sans parler des rumeurs qui agitaient les populati',\n",
       " \"ons des ports et surexcitaient l'esprit public a l'interieu\",\n",
       " 'r des continents, les gens de mer furent particulierement e',\n",
       " 'mus. Les negociants, armateurs, capitaines de navires, skip',\n",
       " \"pers et masters de l'Europe et de l'Amerique, officiers des\",\n",
       " ' marines militaires de tous pays, et, apres eux, les gouver',\n",
       " 'nements des divers Etats des deux continents, se preoccuper',\n",
       " \"ent de ce fait au plus haut point.L'annee 1866 fut marquee \",\n",
       " 'par un evenement bizarre, un phenomene inexplique et inexpl',\n",
       " \"icable que personne n'a sans doute oublie. Sans parler des \",\n",
       " 'rumeurs qui agitaient les populations des ports et surexcit',\n",
       " \"aient l'esprit public a l'interieur des continents, les gen\",\n",
       " 's de mer furent particulierement emus. Les negociants, arma',\n",
       " \"teurs, capitaines de navires, skippers et masters de l'Euro\",\n",
       " \"pe et de l'Amerique, officiers des marines militaires de to\",\n",
       " 'us pays, et, apres eux, les gouvernements des divers Etats ',\n",
       " 'des deux continents, se preoccuperent de ce fait au plus ha',\n",
       " 'ut point.']"
      ]
     },
     "execution_count": 550,
     "metadata": {},
     "output_type": "execute_result"
    }
   ],
   "source": [
    "displayLen = 59\n",
    "\n",
    "longueLigne = \"L'annee 1866 fut marquee par un evenement bizarre, un phenomene inexplique et inexplicable que personne n'a sans doute oublie. Sans parler des rumeurs qui agitaient les populations des ports et surexcitaient l'esprit public a l'interieur des continents, les gens de mer furent particulierement emus. Les negociants, armateurs, capitaines de navires, skippers et masters de l'Europe et de l'Amerique, officiers des marines militaires de tous pays, et, apres eux, les gouvernements des divers Etats des deux continents, se preoccuperent de ce fait au plus haut point.L'annee 1866 fut marquee par un evenement bizarre, un phenomene inexplique et inexplicable que personne n'a sans doute oublie. Sans parler des rumeurs qui agitaient les populations des ports et surexcitaient l'esprit public a l'interieur des continents, les gens de mer furent particulierement emus. Les negociants, armateurs, capitaines de navires, skippers et masters de l'Europe et de l'Amerique, officiers des marines militaires de tous pays, et, apres eux, les gouvernements des divers Etats des deux continents, se preoccuperent de ce fait au plus haut point.\"\n",
    "\n",
    "lenLongueLigne = len(longueLigne)\n",
    "\n",
    "if lenLongueLigne > displayLen:\n",
    "    sublines = [ longueLigne[i:i+displayLen] for i in range(0, lenLongueLigne, displayLen) ]\n",
    "\n",
    "sublines"
   ]
  },
  {
   "cell_type": "code",
   "execution_count": 48,
   "id": "de4e2b24-3b6e-4302-8d16-bb8b28466ca6",
   "metadata": {},
   "outputs": [
    {
     "name": "stdout",
     "output_type": "stream",
     "text": [
      "Vingt mille lieues sous les mers\n",
      "\n"
     ]
    }
   ],
   "source": [
    "f = open('livres/Verne_Vingtmillelieuessouslesmers.txt', 'r')\n",
    "line = f.readline()\n",
    "print(line)"
   ]
  },
  {
   "cell_type": "code",
   "execution_count": 49,
   "id": "f587ddc6-4922-4dca-b616-6001da477d21",
   "metadata": {},
   "outputs": [],
   "source": [
    "def sanitize(line):\n",
    "    lineNoWhitespace = line.split()\n",
    "    lineSimpleWhitespace = ' '.join(lineNoWhitespace)\n",
    "    lineBackslashSymbols = lineSimpleWhitespace.encode('ascii', 'backslashreplace').decode('ascii')\n",
    "    lineAccentsDulled = lineBackslashSymbols.replace('\\\\u2014', '-').replace('\\\\u2019', '\\'').replace('\\\\xe8', 'e').replace('\\\\xe0', 'a').replace('\\\\xc9', 'E').replace('\\\\xe9', 'e').replace('\\\\xc8', 'E').replace('\\\\xe7', 'c')\n",
    "    \n",
    "    return lineAccentsDulled"
   ]
  },
  {
   "cell_type": "code",
   "execution_count": 509,
   "id": "30ff9d13-eec0-4dde-94d7-912bab423f4a",
   "metadata": {},
   "outputs": [
    {
     "data": {
      "text/plain": [
       "\"L'annee 1866 fut marquee par un evenement bizarre, un phenomene inexplique et inexplicable que personne n'a sans doute oublie. Sans parler des rumeurs qui agitaient les populations des ports et surexcitaient l'esprit public a l'interieur des continents, les gens de mer furent particulierement emus. Les negociants, armateurs, capitaines de navires, skippers et masters de l'Europe et de l'Amerique, officiers des marines militaires de tous pays, et, apres eux, les gouvernements des divers Etats des deux continents, se preoccuperent de ce fait au plus haut point.\""
      ]
     },
     "execution_count": 509,
     "metadata": {},
     "output_type": "execute_result"
    }
   ],
   "source": [
    "line = sanitize(line)\n",
    "line"
   ]
  },
  {
   "cell_type": "code",
   "execution_count": 544,
   "id": "a6ba1f1e-4e50-4f82-a529-c96582162810",
   "metadata": {},
   "outputs": [
    {
     "data": {
      "text/plain": [
       "[\"L'annee 1866 fut marquee par un evenement bizarre, un pheno\",\n",
       " \"mene inexplique et inexplicable que personne n'a sans doute\",\n",
       " ' oublie. Sans parler des rumeurs qui agitaient les populati',\n",
       " \"ons des ports et surexcitaient l'esprit public a l'interieu\",\n",
       " 'r des continents, les gens de mer furent particulierement e',\n",
       " 'mus. Les negociants, armateurs, capitaines de navires, skip',\n",
       " \"pers et masters de l'Europe et de l'Amerique, officiers des\",\n",
       " ' marines militaires de tous pays, et, apres eux, les gouver',\n",
       " 'nements des divers Etats des deux continents, se preoccuper',\n",
       " 'ent de ce fait au plus haut point.']"
      ]
     },
     "execution_count": 544,
     "metadata": {},
     "output_type": "execute_result"
    }
   ],
   "source": [
    "lenDisplay = 59\n",
    "\n",
    "lenLine = len(line)\n",
    "\n",
    "if lenLine > lenDisplay:\n",
    "    sublines = [ line[i:i+lenDisplay] for i in range(0, lenLine, lenDisplay) ]\n",
    "else:\n",
    "    sublines = [ line ]\n",
    "\n",
    "sublines"
   ]
  },
  {
   "cell_type": "code",
   "execution_count": 551,
   "id": "b49a38aa-4ef2-4d48-8f9e-8d8e0c132c83",
   "metadata": {},
   "outputs": [],
   "source": [
    "ypos = 20\n",
    "\n",
    "for subline in sublines:\n",
    "    drawText(20, ypos, subline)\n",
    "    ypos += 40"
   ]
  },
  {
   "cell_type": "code",
   "execution_count": 552,
   "id": "c395d5ff-431e-48f9-a643-be7df7003d7c",
   "metadata": {},
   "outputs": [
    {
     "data": {
      "text/plain": [
       "True"
      ]
     },
     "execution_count": 552,
     "metadata": {},
     "output_type": "execute_result"
    }
   ],
   "source": [
    "refresh()"
   ]
  },
  {
   "cell_type": "code",
   "execution_count": 50,
   "id": "58317fa0-d844-4147-ab30-b0d009700fe3",
   "metadata": {},
   "outputs": [],
   "source": [
    "lines = []\n",
    "with open('livres/Verne_Vingtmillelieuessouslesmers.txt') as book:\n",
    "    lines = [line for line in book]"
   ]
  },
  {
   "cell_type": "code",
   "execution_count": 11,
   "id": "af3bc449-044a-4f2f-9e0a-7bd0b1e4262e",
   "metadata": {},
   "outputs": [
    {
     "ename": "NameError",
     "evalue": "name 'sanitize' is not defined",
     "output_type": "error",
     "traceback": [
      "\u001b[0;31m---------------------------------------------------------------------------\u001b[0m",
      "\u001b[0;31mNameError\u001b[0m                                 Traceback (most recent call last)",
      "Cell \u001b[0;32mIn[11], line 1\u001b[0m\n\u001b[0;32m----> 1\u001b[0m \u001b[43msanitize\u001b[49m(lines[\u001b[38;5;241m340\u001b[39m])\n",
      "\u001b[0;31mNameError\u001b[0m: name 'sanitize' is not defined"
     ]
    }
   ],
   "source": [
    "sanitize(lines[340])"
   ]
  },
  {
   "cell_type": "code",
   "execution_count": 51,
   "id": "9fd4f5d3-8d7e-447f-8183-77d496d6132b",
   "metadata": {},
   "outputs": [],
   "source": [
    "sanlines = [ sanitize(line) for line in lines ]"
   ]
  },
  {
   "cell_type": "code",
   "execution_count": 52,
   "id": "7ef8d0bf-f1f6-4b2c-9626-9e73fafb5275",
   "metadata": {},
   "outputs": [],
   "source": [
    "with open('20000.txt', 'w') as f:\n",
    "    for line in sanlines:\n",
    "        f.write(line)"
   ]
  },
  {
   "cell_type": "code",
   "execution_count": 578,
   "id": "e6dff366-7284-4c40-8334-813297e83ad6",
   "metadata": {},
   "outputs": [],
   "source": [
    "sanlines\n",
    "with open(\"dumpsan.txt\", \"w\") as f:\n",
    "    for line in sanlines:\n",
    "        f.write(line)"
   ]
  },
  {
   "cell_type": "code",
   "execution_count": 583,
   "id": "5d6d9b10-2e63-462c-87c5-e34e5dda45c6",
   "metadata": {},
   "outputs": [
    {
     "data": {
      "text/plain": [
       "['a', 'b']"
      ]
     },
     "execution_count": 583,
     "metadata": {},
     "output_type": "execute_result"
    }
   ],
   "source": [
    "x = []\n",
    "x.append('a')\n",
    "x.append('b')\n",
    "x"
   ]
  },
  {
   "cell_type": "code",
   "execution_count": 596,
   "id": "43adfbe6-16bf-4d1a-8093-70ef9da497ad",
   "metadata": {
    "collapsed": true,
    "jupyter": {
     "outputs_hidden": true
    }
   },
   "outputs": [
    {
     "data": {
      "text/plain": [
       "['Vingt mille lieues sous les mers',\n",
       " '',\n",
       " '',\n",
       " 'Jules Verne',\n",
       " '',\n",
       " '',\n",
       " '',\n",
       " '',\n",
       " '',\n",
       " 'J. Hetzel, Paris, 1870',\n",
       " '',\n",
       " '',\n",
       " '',\n",
       " '',\n",
       " '',\n",
       " 'Exporte de Wikisource le 22 octobre 2023',\n",
       " '',\n",
       " '',\n",
       " '',\n",
       " '',\n",
       " '',\n",
       " 'VINGT MILLE LIEUES',\n",
       " '',\n",
       " '',\n",
       " '',\n",
       " 'SOUS',\n",
       " '',\n",
       " '',\n",
       " '',\n",
       " 'LES MERS',\n",
       " '',\n",
       " '',\n",
       " '',\n",
       " '- LES VOYAGES EXTRAORDINAIRES -',\n",
       " '',\n",
       " '',\n",
       " '',\n",
       " '',\n",
       " '',\n",
       " '- J. HETZEL, EDITEUR -',\n",
       " '',\n",
       " \"Ouvrage couronne par l'Academie francaise.\",\n",
       " '',\n",
       " '',\n",
       " '',\n",
       " '* * *',\n",
       " '',\n",
       " '',\n",
       " '',\n",
       " '',\n",
       " '',\n",
       " 'JULES VERNE',\n",
       " '',\n",
       " '',\n",
       " '',\n",
       " '',\n",
       " '',\n",
       " '* * *',\n",
       " '',\n",
       " '',\n",
       " '',\n",
       " '',\n",
       " '',\n",
       " 'vingt mille lieues',\n",
       " '',\n",
       " '',\n",
       " '',\n",
       " '',\n",
       " '',\n",
       " 'SOUS',\n",
       " '',\n",
       " '',\n",
       " '',\n",
       " '',\n",
       " '',\n",
       " 'LES MERS',\n",
       " '',\n",
       " '',\n",
       " '',\n",
       " '',\n",
       " '',\n",
       " 'ILLUSTRE DE',\n",
       " '',\n",
       " '',\n",
       " '',\n",
       " '',\n",
       " '',\n",
       " '111 DESSINS PAR DE NEUVILLE ET RIOU',\n",
       " '',\n",
       " '',\n",
       " '',\n",
       " '',\n",
       " '',\n",
       " 'GRAVES PAR HILDIBRAND.',\n",
       " '',\n",
       " '',\n",
       " '',\n",
       " '',\n",
       " '',\n",
       " 'BIBLIOTHEQUE',\n",
       " '',\n",
       " '',\n",
       " '',\n",
       " '',\n",
       " '',\n",
       " \"D'EDUCATION ET DE RECREATION\",\n",
       " '',\n",
       " '',\n",
       " '',\n",
       " '',\n",
       " '',\n",
       " 'J. HETZEL ET CIE, 18, RUE JACOB',\n",
       " '',\n",
       " '',\n",
       " '',\n",
       " '',\n",
       " '',\n",
       " 'PARIS',\n",
       " '',\n",
       " '',\n",
       " '',\n",
       " '* * *',\n",
       " '',\n",
       " '',\n",
       " '',\n",
       " '',\n",
       " 'Tous droits de traduction et de reproduction reserves.',\n",
       " '',\n",
       " '',\n",
       " '',\n",
       " '',\n",
       " '',\n",
       " 'CHAPITRE PREMIER',\n",
       " '',\n",
       " '',\n",
       " '',\n",
       " 'UN ECUEIL FUYANT.',\n",
       " '',\n",
       " '',\n",
       " '',\n",
       " '',\n",
       " '',\n",
       " \"L'annee 1866 fut marquee par un evenement bizarre, un phenomene inexplique et inexplicable que personne n'a sans doute oublie. Sans parler des rumeurs qui agitaient les populations des ports et surexcitaient l'esprit public a l'interieur des continents, les gens de mer furent particulierement emus. Les negociants, armateurs, capitaines de navires, skippers et masters de l'Europe et de l'Amerique, officiers des marines militaires de tous pays, et, apres eux, les gouvernements des divers Etats des deux continents, se preoccuperent de ce fait au plus haut point.\",\n",
       " '',\n",
       " \"En effet, depuis quelque temps, plusieurs navires s'etaient rencontres sur mer avec \\\\xab une chose enorme, \\\\xbb un objet long, fusiforme, parfois phosphorescent, infiniment plus vaste et plus rapide qu'une baleine.\",\n",
       " '',\n",
       " \"Les faits relatifs a cette apparition, consignes aux divers livres de bord, s'accordaient assez exactement sur la structure de l'objet ou de l'\\\\xeatre en question, la vitesse inou\\\\xefe de ses mouvements, la puissance surprenante de sa locomotion, la vie particuliere dont il semblait doue. Si c'etait un cetace, il surpassait en volume tous ceux que la science avait classes jusqu'alors. Ni Cuvier, ni Lacepede, ni M. Dumeril, ni M. de Quatrefages n'eussent admis l'existence d'un tel monstre - a moins de l'avoir vu, ce qui s'appelle vu de leurs propres yeux de savants.\",\n",
       " '',\n",
       " \"\\\\xc0 prendre la moyenne des observations faites a diverses reprises, - en rejetant les evaluations timides qui assignaient a cet objet une longueur de deux cents pieds, et en repoussant les opinions exagerees qui le disaient large d'un mille et long de trois, - on pouvait affirmer, cependant, que cet \\\\xeatre phenomenal depassait de beaucoup toutes les dimensions admises jusqu'a ce jour par les ichthyologistes, - s'il existait toutefois.\",\n",
       " '',\n",
       " \"Or, il existait, le fait en lui-m\\\\xeame n'etait plus niable, et, avec ce penchant qui pousse au merveilleux la cervelle humaine, on comprendra l'emotion produite dans le monde entier par cette surnaturelle apparition. Quant a la rejeter au rang des fables, il fallait y renoncer.\",\n",
       " '',\n",
       " \"En effet, le 20 juillet 1866, le steamer Governor-Higginson, de Calcutta and Burnach steam navigation Company, avait rencontre cette masse mouvante a cinq milles dans l'est des c\\\\xf4tes de l'Australie. Le capitaine Baker se crut, tout d'abord, en presence d'un ecueil inconnu ; il se disposait m\\\\xeame a en determiner la situation exacte, quand deux colonnes d'eau, projetees par l'inexplicable objet, s'elancerent en sifflant a cent cinquante pieds dans l'air. Donc, a moins que cet ecueil ne f\\\\xfbt soumis aux expansions intermittentes d'un geyser, le Governor-Higginson avait affaire bel et bien a quelque mammifere aquatique, inconnu jusque-la, qui rejetait par ses events des colonnes d'eau, melangees d'air et de vapeur.\",\n",
       " '',\n",
       " \"Pareil fait fut egalement observe le 23 juillet de la m\\\\xeame annee, dans les mers du Pacifique, par le Cristobal-Colon, de West India and Pacific steam navigation Company. Donc, ce cetace extraordinaire pouvait se transporter d'un endroit a un autre avec une velocite surprenante, puisque a trois jours d'intervalle, le Governor-Higginson et le Cristobal-Colon l'avaient observe en deux points de la carte separes par une distance de plus de sept cents lieues marines.\",\n",
       " '',\n",
       " \"Quinze jours plus tard, a deux mille lieues de la, l'Helvetia, de la Compagnie Nationale, et le Shannon, du Royal-Mail, marchant a contrebord dans cette portion de l'Atlantique comprise entre les Etats-Unis et l'Europe, se signalerent respectivement le monstre par 42\\\\xb0 15\\\\u2032 de latitude nord, et 60\\\\xb0 35\\\\u2032 de longitude a l'ouest du meridien de Greenwich. Dans cette observation simultanee, on crut pouvoir evaluer la longueur minimum du mammifere a plus de trois cent cinquante pieds anglais [1], puisque le Shannon et l'Helvetia etaient de dimension inferieure a lui, bien qu'ils mesurassent cent metres de l'etrave a l'etambot. Or, les plus vastes baleines, celles qui frequentent les parages des \\\\xeeles Aleoutiennes, le Kulammak et l'Umgullick, n'ont jamais depasse la longueur de cinquante-six metres, - si m\\\\xeame elles l'atteignent.\",\n",
       " '',\n",
       " \"Ces rapports arrives coup sur coup, de nouvelles observations faites a bord du transatlantique le Pereire, un abordage entre l'Etna, de la ligne Inman, et le monstre, un proces-verbal dresse par les officiers de la fregate francaise la Normandie, un tres serieux relevement obtenu par l'etat-major du commodore Fitz-James a bord du Lord-Clyde, emurent profondement l'opinion publique. Dans les pays d'humeur legere, on plaisanta le phenomene, mais les pays graves et pratiques, l'Angleterre, l'Amerique, l'Allemagne, s'en preoccuperent vivement.\",\n",
       " '',\n",
       " \"Partout dans les grands centres, le monstre devint a la mode ; on le chanta dans les cafes, on le bafoua dans les journaux, on le joua sur les the\\\\xe2tres. Les canards eurent la une belle occasion de pondre des \\\\u0153ufs de toute couleur. On vit reappara\\\\xeetre dans les journaux - a court de copie - tous les \\\\xeatres imaginaires et gigantesques, depuis la baleine blanche, le terrible \\\\xab Moby Dick \\\\xbb des regions hyperboreennes, jusqu'au Kraken demesure, dont les tentacules peuvent enlacer un b\\\\xe2timent de cinq cents tonneaux et l'entra\\\\xeener dans les ab\\\\xeemes de l'Ocean. On reproduisit m\\\\xeame les proces-verbaux des temps anciens les opinions d'Aristote et de Pline, qui admettaient l'existence de ces monstres, puis les recits norwegiens de l'ev\\\\xeaque Pontoppidan, les relations de Paul Heggede, et enfin les rapports de M. Harrington, dont la bonne foi ne peut \\\\xeatre soupconnee, quand il affirme avoir vu, etant a bord du Castillan, en 1857, cet enorme serpent qui n'avait jamais frequente jusqu'alors que les mers de l'ancien Constitutionnel.\",\n",
       " '',\n",
       " \"Alors eclata l'interminable polemique des credules et des incredules dans les societes savantes et les journaux scientifiques. La \\\\xab question du monstre \\\\xbb enflamma les esprits. Les journalistes, qui font profession de science en lutte avec ceux qui font profession d'esprit, verserent des flots d'encre pendant cette memorable campagne ; quelques-uns m\\\\xeame, deux ou trois gouttes de sang, car du serpent de mer, ils en vinrent aux personnalites les plus offensantes.\",\n",
       " '',\n",
       " \"Six mois durant, la guerre se poursuivit avec des chances diverses. Aux articles de fond de l'Institut geographique du Bresil, de l'Academie royale des sciences de Berlin, de l'Association Britannique, de l'Institution Smithsonnienne de Washington, aux discussions du The Indian Archipelago, du Cosmos de l'abbe Moigno, des Mittheilungen de Petermann, aux chroniques scientifiques des grands journaux de la France et de l'etranger, la petite presse ripostait avec une verve intarissable. Ses spirituels ecrivains parodiant un mot de Linne, cite par les adversaires du monstre, soutinrent en effet que \\\\xab la nature ne faisait pas de sots \\\\xbb, et ils adjurerent leurs contemporains de ne point donner un dementi a la nature, en admettant l'existence des Krakens, des serpents de mer, des \\\\xab Moby Dick \\\\xbb, et autres elucubrations de marins en delire. Enfin, dans un article d'un journal satirique tres-redoute, le plus aime de ses redacteurs, brochant sur le tout, poussa au monstre, comme Hippolyte, lui porta un dernier coup et l'acheva au milieu d'un eclat de rire universel. L'esprit avait vaincu la science.\",\n",
       " '',\n",
       " \"Pendant les premiers mois de l'annee 1867, la question parut \\\\xeatre enterree, et elle ne semblait pas devoir rena\\\\xeetre, quand de nouveaux faits furent portes a la connaissance du public. Il ne s'agit plus alors d'un probleme scientifique a resoudre, mais bien d'un danger reel, serieux a eviter. La question prit une tout autre face. Le monstre redevint \\\\xeelot, rocher, ecueil, mais ecueil fuyant, indeterminable, insaisissable.\",\n",
       " '',\n",
       " \"Le 5 mars 1867, le Moravian, de Montreal Ocean Company, se trouvant pendant la nuit par 27\\\\xb0 30\\\\u2032 de latitude et 72\\\\xb0 15\\\\u2032 de longitude, heurta de sa hanche de tribord un roc qu'aucune carte ne marquait dans ces parages. Sous l'effort combine du vent et de ses quatre cents chevaux-vapeur, il marchait a la vitesse de treize n\\\\u0153uds. Nul doute que sans la qualite superieure de sa coque, le Moravian, ouvert au choc, ne se f\\\\xfbt englouti avec les deux cent trente-sept passagers qu'il ramenait du Canada.\",\n",
       " '',\n",
       " \"L'accident etait arrive vers cinq heures du matin, lorsque le jour commencait a poindre. Les officiers de quart se precipiterent a l'arriere du b\\\\xe2timent. Ils examinerent l'Ocean avec la plus scrupuleuse attention. Ils ne virent rien, si ce n'est un fort remous qui brisait a trois encablures, comme si les nappes liquides eussent ete violemment battues. Le relevement du lieu fut exactement pris, et le Moravian continua sa route sans avaries apparentes. Avait-il heurte une roche sous-marine, ou quelque enorme epave d'un naufrage ? On ne put le savoir ; mais, examen fait de sa carene dans les bassins de radoub, il fut reconnu qu'une partie de la quille avait ete brisee.\",\n",
       " '',\n",
       " \"Ce fait, extr\\\\xeamement grave en lui-m\\\\xeame, e\\\\xfbt peut-\\\\xeatre ete oublie comme tant d'autres, si, trois semaines apres, il ne se f\\\\xfbt reproduit dans des conditions identiques. Seulement, gr\\\\xe2ce a la nationalite du navire victime de ce nouvel abordage, gr\\\\xe2ce a la reputation de la Compagnie a laquelle ce navire appartenait, l'evenement eut un retentissement immense.\",\n",
       " '',\n",
       " \"Personne n'ignore le nom du celebre armateur anglais Cunard. Cet intelligent industriel fonda, en 1840, un service postal entre Liverpool et Halifax, avec trois navires en bois et a roues d'une force de quatre cents chevaux, et d'une jauge de onze cent soixante-deux tonneaux. Huit ans apres, le materiel de la Compagnie s'accroissait de quatre navires de six cent cinquante chevaux et de dix-huit cent vingt tonnes, et, deux ans plus tard, de deux autres b\\\\xe2timents superieurs en puissance et en tonnage. En 1853, la compagnie Cunard, dont le privilege pour le transport des dep\\\\xeaches venait d'\\\\xeatre renouvele, ajouta successivement a son materiel l'Arabia, le Persia, le China, le Scotia, le Java, le Russia, tous navires de premiere marche, et les plus vastes qui, apres le Great-Eastern, eussent jamais sillonne les mers. Ainsi donc, en 1867, la Compagnie possedait douze navires, dont huit a roues et quatre a helices.\",\n",
       " '',\n",
       " \"Si je donne ces details tres succincts, c'est afin que chacun sache bien quelle est l'importance de cette compagnie de transports maritimes, connue du monde entier pour son intelligente gestion. Nulle entreprise de navigation transoceanienne n'a ete conduite avec plus d'habilete ; nulle affaire n'a ete couronnee de plus de succes. Depuis vingt-six ans, les navires Cunard ont traverse deux mille fois l'Atlantique, et jamais un voyage n'a ete manque, jamais un retard n'a eu lieu, jamais ni une lettre, ni un homme, ni un b\\\\xe2timent n'ont ete perdus. Aussi, les passagers choisissent-ils encore, malgre la concurrence puissante que lui fait la France, la ligne Cunard de preference a toute autre, ainsi qu'il appert d'un releve fait sur les documents officiels des dernieres annees. Ceci dit, personne ne s'etonnera du retentissement que provoqua l'accident arrive a l'un de ses plus beaux steamers.\",\n",
       " '',\n",
       " \"Le 13 avril 1867, la mer etant belle, la brise maniable, le Scotia se trouvait par 15\\\\xb0 12\\\\u2032 de longitude et 45\\\\xb0 37\\\\u2032 de latitude. Il marchait avec une vitesse de treize n\\\\u0153uds quarante-trois centiemes sous la poussee de ses mille chevaux-vapeur. Ses roues battaient la mer avec une regularite parfaite. Son tirant d'eau etait alors de six metres soixante-dix centimetres, et son deplacement de six mille six cent vingt-quatre metres cubes.\",\n",
       " '',\n",
       " '\\\\xc0 quatre heures dix-sept minutes du soir, pendant le lunch des passagers reunis dans le grand salon, un choc, peu sensible, en somme, se produisit sur la coque du Scotia, par sa hanche et un peu en arriere de la roue de b\\\\xe2bord.',\n",
       " '',\n",
       " \"Le Scotia n'avait pas heurte, il avait ete heurte, et plut\\\\xf4t par un instrument tranchant ou perforant que contondant. L'abordage avait semble si leger que personne ne s'en f\\\\xfbt inquiete a bord, sans le cri des caliers qui remonterent sur le pont en s'ecriant :\",\n",
       " '',\n",
       " '\\\\xab Nous coulons ! nous coulons ! \\\\xbb',\n",
       " '',\n",
       " \"Tout d'abord, les passagers furent tres-effrayes ; mais le capitaine Anderson se h\\\\xe2ta de les rassurer. En effet, le danger ne pouvait \\\\xeatre imminent. Le Scotia, divise en sept compartiments par des cloisons etanches, devait braver impunement une voie d'eau.\",\n",
       " '',\n",
       " \"Le capitaine Anderson se rendit immediatement dans la cale. Il reconnut que le cinquieme compartiment avait ete envahi par la mer, et la rapidite de l'envahissement prouvait que la voie d'eau etait considerable. Fort heureusement, ce compartiment ne renfermait pas les chaudieres, car les feux se fussent subitement eteints.\",\n",
       " '',\n",
       " \"Le capitaine Anderson fit stopper immediatement, et l'un des matelots plongea pour reconna\\\\xeetre l'avarie. Quelques instants apres, on constatait l'existence d'un trou large de deux metres dans la carene du steamer. Une telle voie d'eau ne pouvait \\\\xeatre aveuglee, et le Scotia, ses roues a demi noyees, dut continuer ainsi son voyage. Il se trouvait alors a trois cent mille du cap Clear, et apres trois jours d'un retard qui inquieta vivement Liverpool, il entra dans les bassins de la Compagnie.\",\n",
       " '',\n",
       " \"Les ingenieurs procederent alors a la visite du Scotia, qui fut mis en cale seche. Ils ne purent en croire leurs yeux. \\\\xc0 deux metres et demi au-dessous de la flottaison s'ouvrait une dechirure reguliere, en forme de triangle isocele. La cassure de la t\\\\xf4le etait d'une nettete parfaite, et elle n'e\\\\xfbt pas ete frappee plus s\\\\xfbrement a l'emporte-piece. Il fallait donc que l'outil perforant qui l'avait produite f\\\\xfbt d'une trempe peu commune - et apres avoir ete lance avec une force prodigieuse, ayant ainsi perce une t\\\\xf4le de quatre centimetres, il avait d\\\\xfb se retirer de lui-m\\\\xeame par un mouvement retrograde et vraiment inexplicable.\",\n",
       " '',\n",
       " \"Les ingenieurs procederent a la visite du Scotia Tel etait ce dernier fait, qui eut pour resultat de passionner a nouveau l'opinion publique. Depuis ce moment, en effet, les sinistres maritimes qui n'avaient pas de cause determinee furent mis sur le compte du monstre. Ce fantastique animal endossa la responsabilite de tous ces naufrages, dont le nombre est malheureusement considerable ; car sur trois mille navires dont la perte est annuellement relevee au Bureau-Veritas, le chiffre des navires a vapeur ou a voiles, supposes perdus corps et biens par suite d'absence de nouvelles, ne s'eleve pas a moins de deux cents !\",\n",
       " '',\n",
       " 'Or, ce fut le \\\\xab monstre \\\\xbb qui, justement ou injustement, fut accuse de leur disparition, et, gr\\\\xe2ce a lui, les communications entre les divers continents devenant de plus en plus dangereuses, le public se declara et demanda categoriquement que les mers fussent enfin debarrassees et a tout prix de ce formidable cetace.',\n",
       " '',\n",
       " '',\n",
       " '',\n",
       " '',\n",
       " '',\n",
       " 'CHAPITRE II',\n",
       " '',\n",
       " '',\n",
       " '',\n",
       " 'LE POUR ET LE CONTRE.',\n",
       " '',\n",
       " '',\n",
       " '',\n",
       " '',\n",
       " '',\n",
       " \"\\\\xc0 l'epoque o\\\\xf9 ces evenements se produisirent, je revenais d'une exploration scientifique entreprise dans les mauvaises terres du Nebraska, aux Etats-Unis. En ma qualite de professeur-suppleant au Museum d'histoire naturelle de Paris, le gouvernement francais m'avait joint a cette expedition. Apres six mois passes dans le Nebraska, charge de precieuses collections, j'arrivai a New York vers la fin de mars. Mon depart pour la France etait fixe aux premiers jours de mai. Je m'occupais donc, en attendant, de classer mes richesses mineralogiques, botaniques et zoologiques, quand arriva l'incident du Scotia.\",\n",
       " '',\n",
       " \"J'etais parfaitement au courant de la question a l'ordre du jour, et comment ne l'aurais-je pas ete ? J'avais lu et relu tous les journaux americains et europeens sans \\\\xeatre plus avance. Ce mystere m'intriguait. Dans l'impossibilite de me former une opinion, je flottais d'un extr\\\\xeame a l'autre. Qu'il y eut quelque chose, cela ne pouvait \\\\xeatre douteux, et les incredules etaient invites a mettre le doigt sur la plaie du Scotia.\",\n",
       " '',\n",
       " \"\\\\xc0 mon arrivee a New York, la question br\\\\xfblait. L'hypothese de l'\\\\xeelot flottant, de l'ecueil insaisissable, soutenue par quelques esprits peu competents, etait absolument abandonnee. Et, en effet, a moins que cet ecueil n'e\\\\xfbt une machine dans le ventre, comment pouvait-il se deplacer avec une rapidite si prodigieuse ?\",\n",
       " '',\n",
       " \"De m\\\\xeame fut repoussee l'existence d'une coque flottante, d'une enorme epave, et toujours a cause de la rapidite du deplacement.\",\n",
       " '',\n",
       " \"Restaient donc deux solutions possibles de la question, qui creaient deux clans tres-distincts de partisans : d'un c\\\\xf4te, ceux qui tenaient pour un monstre d'une force colossale ; de l'autre, ceux qui tenaient pour un bateau \\\\xab sous-marin \\\\xbb d'une extr\\\\xeame puissance motrice.\",\n",
       " '',\n",
       " \"Or, cette derniere hypothese, admissible apres tout, ne put resister aux enqu\\\\xeates qui furent poursuivies dans les deux mondes. Qu'un simple particulier e\\\\xfbt a sa disposition un tel engin mecanique, c'etait peu probable. O\\\\xf9 et quand l'eut-il fait construire, et comment aurait-il tenu cette construction secrete ?\",\n",
       " '',\n",
       " \"Seul, un gouvernement pouvait posseder une pareille machine destructive et, en ces temps desastreux o\\\\xf9 l'homme s'ingenie a multiplier la puissance des armes de guerre, il etait possible qu'un Etat essay\\\\xe2t a l'insu des autres ce formidable engin. Apres les chassepots, les torpilles, apres les torpilles, les beliers sous-marins, puis, - la reaction. Du moins, je l'espere.\",\n",
       " '',\n",
       " \"Mais l'hypothese d'une machine de guerre tomba encore devant la declaration des gouvernements. Comme il s'agissait la d'un inter\\\\xeat public, puisque les communications transoceaniennes en souffraient, la franchise des gouvernements ne pouvait \\\\xeatre mise en doute. D'ailleurs, comment admettre que la construction de ce bateau sous-marin e\\\\xfbt echappe aux yeux du public ? Garder le secret dans ces circonstances est tres-difficile pour un particulier, et certainement impossible pour un Etat dont tous les actes sont obstinement surveilles par les puissances rivales.\",\n",
       " '',\n",
       " \"Donc, apres enqu\\\\xeates faites en Angleterre, en France, en Russie, en Prusse, en Espagne, en Italie, en Amerique, voire m\\\\xeame en Turquie, l'hypothese d'un Monitor sous-marin fut definitivement rejetee.\",\n",
       " '',\n",
       " \"Le monstre revint donc a flots, en depit des incessantes plaisanteries dont le lardait la petite presse, et dans cette voie, les imaginations se laisserent bient\\\\xf4t aller aux plus absurdes r\\\\xeaveries d'une ichthyologie fantastique.\",\n",
       " '',\n",
       " \"\\\\xc0 mon arrivee a New-York, plusieurs personnes m'avaient fait l'honneur de me consulter sur le phenomene en question. J'avais publie en France un ouvrage in-quarto en deux volumes intitule : Les Mysteres des grands fonds sous-marins. Ce livre, particulierement go\\\\xfbte du monde savant, faisait de moi un specialiste dans cette partie assez obscure de l'histoire naturelle. Mon avis me fut demande. Tant que je pus nier la realite du fait, je me renfermai dans une absolue negation. Mais bient\\\\xf4t, colle au mur, je dus m'expliquer categoriquement. Et m\\\\xeame, \\\\xab l'honorable Pierre Aronnax, professeur au Museum de Paris \\\\xbb, fut mis en demeure par le New-York-Herald de formuler une opinion quelconque.\",\n",
       " '',\n",
       " \"Je m'executai. Je parlai faute de pouvoir me taire. Je discutai la question sous toutes ses faces, politiquement et scientifiquement, et je donne ici un extrait d'un article tres-nourri que je publiai dans le numero du 30 avril.\",\n",
       " '',\n",
       " \"\\\\xab Ainsi donc, disais-je, apres avoir examine une a une les diverses hypotheses, toute autre supposition etant rejetee, il faut necessairement admettre l'existence d'un animal marin d'une puissance excessive.\",\n",
       " '',\n",
       " \"\\\\xab Les grandes profondeurs de l'Ocean nous sont totalement inconnues. La sonde n'a su les atteindre. Que se passe-t-il dans ces ab\\\\xeemes recules ? Quels \\\\xeatres habitent et peuvent habiter a douze ou quinze milles au-dessous de la surface des eaux ? Quel est l'organisme de ces animaux ? On saurait a peine le conjecturer.\",\n",
       " '',\n",
       " \"\\\\xab Cependant, la solution du probleme qui m'est soumis peut affecter la forme du dilemme.\",\n",
       " '',\n",
       " \"\\\\xab Ou nous connaissons toutes les varietes d'\\\\xeatres qui peuplent notre planete, ou nous ne les connaissons pas.\",\n",
       " '',\n",
       " \"\\\\xab Si nous ne les connaissons pas toutes, si la nature a encore des secrets pour nous en ichthyologie, rien de plus acceptable que d'admettre l'existence de poissons ou de cetaces, d'especes ou m\\\\xeame de genres nouveaux, d'une organisation essentiellement \\\\xab fondriere \\\\xbb, qui habitent les couches inaccessibles a la sonde, et qu'un evenement quelconque, une fantaisie, un caprice, si l'on veut, ramene a de longs intervalles vers le niveau superieur de l'Ocean.\",\n",
       " '',\n",
       " \"\\\\xab Si, au contraire, nous connaissons toutes les especes vivantes, il faut necessairement chercher l'animal en question parmi les \\\\xeatres marins deja catalogues, et dans ce cas, je serai dispose a admettre l'existence d'un Narwal geant.\",\n",
       " '',\n",
       " \"\\\\xab Le narwal vulgaire ou licorne de mer atteint souvent une longueur de soixante pieds. Quintuplez, decuplez m\\\\xeame cette dimension, donnez a ce cetace une force proportionnelle a sa taille, accroissez ses armes offensives, et vous obtenez l'animal voulu. Il aura les proportions determinees par les Officiers du Shannon, l'instrument exige par la perforation du Scotia, et la puissance necessaire pour entamer la coque d'un steamer.\",\n",
       " '',\n",
       " \"\\\\xab En effet, le narwal est arme d'une sorte d'epee d'ivoire, d'une hallebarde, suivant l'expression de certains naturalistes. C'est une dent principale qui a la durete de l'acier. On a trouve quelques-unes de ces dents implantees dans le corps des baleines que le narwal attaque toujours avec succes. D'autres ont ete arrachees, non sans peine, de carenes de vaisseaux qu'elles avaient percees d'outre en outre, comme un foret perce un tonneau. Le musee de la Faculte de medecine de Paris possede une de ces defenses longue de deux metres vingt-cinq centimetres, et large de quarante-huit centimetres a sa base !\",\n",
       " '',\n",
       " \"\\\\xab Eh bien ! supposez l'arme dix fois plus forte, et l'animal dix fois plus puissant, lancez-le avec une rapidite de vingt milles a l'heure, multipliez sa masse par sa vitesse, et vous obtenez un choc capable de produire la catastrophe demandee.\",\n",
       " '',\n",
       " \"\\\\xab Donc, jusqu'a plus amples informations, j'opinerais pour une licorne de mer, de dimensions colossales, armee, non plus d'une hallebarde, mais d'un veritable eperon comme les fregates cuirassees ou les \\\\xab rams \\\\xbb de guerre, dont elle aurait a la fois la masse et la puissance motrice.\",\n",
       " '',\n",
       " \"\\\\xab Ainsi s'expliquerait ce phenomene inexplicable - a moins qu'il n'y ait rien, en depit de ce qu'on a entrevu, vu, senti et ressenti - ce qui est encore possible ! \\\\xbb\",\n",
       " '',\n",
       " \"Ces derniers mots etaient une l\\\\xe2chete de ma part ; mais je voulais jusqu'a un certain point couvrir ma dignite de professeur, et ne pas trop pr\\\\xeater a rire aux Americains, qui rient bien, quand ils rient. Je me reservais une echappatoire. Au fond, j'admettais l'existence du \\\\xab monstre \\\\xbb.\",\n",
       " '',\n",
       " \"Mon article fut chaudement discute, ce qui lui valut un grand retentissement. Il rallia un certain nombre de partisans. La solution qu'il proposait, d'ailleurs, laissait libre carriere a l'imagination. L'esprit humain se pla\\\\xeet a ces conceptions grandioses d'\\\\xeatres surnaturels. Or la mer est precisement leur meilleur vehicule, le seul milieu o\\\\xf9 ces geants, - pres desquels les animaux terrestres, elephants ou rhinoceros, ne sont que des nains - puissent se produire et se developper. Les masses liquides transportent les plus grandes especes connues de mammiferes, et peut-\\\\xeatre recelent-elles des mollusques d'une incomparable taille, des crustaces effrayants a contempler, tels que seraient des homards de cent metres ou des crabes pesant deux cents tonnes ! Pourquoi non ? Autrefois, les animaux terrestres, contemporains des epoques geologiques, les quadrupedes, les quadrumanes, les reptiles, les oiseaux etaient construits sur des gabarits gigantesques. Le Createur les avait jetes dans un moule colossal que le temps a reduit peu a peu. Pourquoi la mer, dans ses profondeurs ignorees, n'aurait-elle pas garde ces vastes echantillons de la vie d'un autre \\\\xe2ge, elle qui ne se modifie jamais. alors que le noyau terrestre change presque incessamment ? Pourquoi ne cacherait-elle pas dans son sein les dernieres varietes de ces especes titanesques, dont les annees sont des siecles, et les siecles des millenaires ?\",\n",
       " '',\n",
       " \"Mais je me laisse entra\\\\xeener a des r\\\\xeaveries qu'il ne m'appartient plus d'entretenir ! Tr\\\\xeave a ces chimeres que le temps a changees pour moi en realites terribles. Je le repete, l'opinion se fit alors sur la nature du phenomene, et le public admit sans conteste l'existence d'un \\\\xeatre prodigieux qui n'avait rien de commun avec les fabuleux serpents de mer.\",\n",
       " '',\n",
       " \"Mais si les uns ne virent la qu'un probleme purement scientifique a resoudre, les autres, plus positifs, surtout en Amerique et en Angleterre, furent d'avis de purger l'Ocean de ce redoutable monstre, afin de rassurer les communications transoceaniennes. Les journaux industriels et commerciaux traiterent la question principalement a ce point de vue. La Shipping and Mercantile Gazette, le Lloyd, le Paquebot, la Revue maritime et coloniale, toutes les feuilles devouees aux Compagnies d'assurances qui menacaient d'elever le taux de leurs primes, furent unanimes sur ce point.\",\n",
       " '',\n",
       " \"L'opinion publique s'etant prononcee, les Etats de l'Union se declarerent les premiers. On fit a New York les preparatifs d'une expedition destinee a poursuivre le narwal. Une fregate de grande marche, l'Abraham-Lincoln, se mit en mesure de prendre la mer au plus t\\\\xf4t. Les arsenaux furent ouverts au commandant Farragut, qui pressa activement l'armement de sa fregate.\",\n",
       " '',\n",
       " \"La fregate l'Abraham Lincoln Precisement, et ainsi que cela arrive toujours, du moment que l'on se fut decide a poursuivre le monstre, le monstre ne reparut plus. Pendant deux mois, personne n'en entendit parler. Aucun navire ne le rencontra. Il semblait que cette Licorne e\\\\xfbt connaissance des complots qui se tramaient contre elle. On en avait tant cause, et m\\\\xeame par le c\\\\xe2ble transatlantique ! Aussi les plaisants pretendaient-ils que cette fine mouche avait arr\\\\xeate au passage quelque telegramme dont elle faisait maintenant son profit.\",\n",
       " '',\n",
       " \"Donc, la fregate armee pour une campagne lointaine et pourvue de formidables engins de p\\\\xeache, on ne savait plus o\\\\xf9 la diriger. Et l'impatience allait croissant, quand, le 2 juillet, on apprit qu'un steamer de la ligne de San-Francisco de Californie a Shanga\\\\xef avait revu l'animal, trois semaines auparavant, dans les mers septentrionales du Pacifique.\",\n",
       " '',\n",
       " \"L'emotion causee par cette nouvelle fut extr\\\\xeame. On n'accorda pas vingt-quatre heures de repit au commandant Farragut. Ses vivres etaient embarques. Ses soutes regorgeaient de charbon. Pas un homme ne manquait a son r\\\\xf4le d'equipage. Il n'avait qu'a allumer ses fourneaux, a chauffer, a demarrer ! On ne lui e\\\\xfbt pas pardonne une demi-journee de retard ! D'ailleurs, le commandant Farragut ne demandait qu'a partir.\",\n",
       " '',\n",
       " \"Trois heures avant que l'Abraham-Lincoln ne quitt\\\\xe2t la pier de Brooklyn, je recus une lettre libellee en ces termes :\",\n",
       " '',\n",
       " '\\\\xab Monsieur Aronnax, professeur au Museum de Paris,',\n",
       " '',\n",
       " 'Fifth Avenue hotel.',\n",
       " '',\n",
       " '',\n",
       " '',\n",
       " '',\n",
       " '',\n",
       " 'New York.',\n",
       " '',\n",
       " 'Monsieur,',\n",
       " '',\n",
       " \"Si vous voulez vous joindre a l'expedition de l'Abraham-Lincoln, le gouvernement de l'Union verra avec plaisir que la France soit representee par vous dans cette entreprise. Le commandant Farragut tient une cabine a votre disposition.\",\n",
       " '',\n",
       " 'Tres-cordialement, votre',\n",
       " '',\n",
       " 'J.-B. Hobson,',\n",
       " '',\n",
       " 'Secretaire de la marine. \\\\xbb',\n",
       " '',\n",
       " '',\n",
       " '',\n",
       " '',\n",
       " '',\n",
       " 'CHAPITRE III',\n",
       " '',\n",
       " '',\n",
       " '',\n",
       " 'COMME IL PLAIRA \\\\xc0 MONSIEUR.',\n",
       " '',\n",
       " '',\n",
       " '',\n",
       " '',\n",
       " '',\n",
       " \"Trois secondes avant l'arrivee de la lettre de J.-B. Hobson, je ne songeais pas plus a poursuivre la Licorne qu'a tenter le passage du Nord-Ouest. Trois secondes apres avoir lu la lettre de l'honorable secretaire de la marine, je comprenais enfin que ma veritable vocation, l'unique but de ma vie, etait de chasser ce monstre inquietant et d'en purger le monde.\",\n",
       " '',\n",
       " \"Cependant, je revenais d'un penible voyage, fatigue, avide de repos. Je n'aspirais plus qu'a revoir mon pays, mes amis, mon petit logement du Jardin des Plantes, mes cheres et precieuses collections ! Mais rien ne put me retenir. J'oubliai tout, fatigues, amis, collections, et j'acceptai sans plus de reflexions l'offre du gouvernement americain.\",\n",
       " '',\n",
       " \"\\\\xab D'ailleurs, pensai-je, tout chemin ramene en Europe, et la Licorne sera assez aimable pour m'entra\\\\xeener vers les c\\\\xf4tes de France ! Ce digne animal se laissera prendre dans les mers d'Europe, - pour mon agrement personnel, - et je ne veux pas rapporter moins d'un demi metre de sa hallebarde d'ivoire au Museum d'histoire naturelle. \\\\xbb\",\n",
       " '',\n",
       " \"Mais, en attendant, il me fallait chercher ce narwal dans le nord de l'ocean Pacifique ; ce qui, pour revenir en France, etait prendre le chemin des antipodes.\",\n",
       " '',\n",
       " \"\\\\xab Conseil ! \\\\xbb criai-je d'une voix impatiente.\",\n",
       " '',\n",
       " \"Conseil etait mon domestique. Un garcon devoue qui m'accompagnait dans tous mes voyages ; un brave Flamand que j'aimais et qui me le rendait bien, un \\\\xeatre phlegmatique par nature, regulier par principe, zele par habitude, s'etonnant peu des surprises de la vie, tres-adroit de ses mains, apte a tout service, et, en depit de son nom, ne donnant jamais de conseils, - m\\\\xeame quand on ne lui en demandait pas.\",\n",
       " '',\n",
       " \"\\\\xc0 se frotter aux savants de notre petit monde du Jardin des Plantes, Conseil en etait venu a savoir quelque chose. J'avais en lui un specialiste, tres-ferre sur la classification en histoire naturelle, parcourant avec une agilite d'acrobate toute l'echelle des embranchements, des groupes, des classes, des sous-classes, des ordres, des familles, des genres, des sous-genres, des especes et des varietes. Mais sa science s'arr\\\\xeatait la. Classer, c'etait sa vie, et il n'en savait pas davantage. Tres verse dans la theorie de la classification, peu dans la pratique, il n'e\\\\xfbt pas distingue, je crois, un cachalot d'une baleine ! Et cependant, quel brave et digne garcon !\",\n",
       " '',\n",
       " \"Conseil, jusqu'ici et depuis dix ans, m'avait suivi partout o\\\\xf9 m'entra\\\\xeenait la science. Jamais une reflexion de lui sur la longueur ou la fatigue d'un voyage. Nulle objection a boucler sa valise pour un pays quelconque, Chine ou Congo, si eloigne qu'il f\\\\xfbt. Il allait la comme ici, sans en demander davantage. D'ailleurs d'une belle sante qui defiait toutes les maladies ; des muscles solides, mais pas de nerfs, pas l'apparence de nerfs, - au moral, s'entend.\",\n",
       " '',\n",
       " \"Ce garcon avait trente ans, et son \\\\xe2ge etait a celui de son ma\\\\xeetre comme quinze est a vingt. Qu'on m'excuse de dire ainsi que j'avais quarante ans.\",\n",
       " '',\n",
       " \"Seulement, Conseil avait un defaut. Formaliste enrage, il ne me parlait jamais qu'a la troisieme personne - au point d'en \\\\xeatre agacant.\",\n",
       " '',\n",
       " \"\\\\xab Conseil ! \\\\xbb repetai-je, tout en commencant d'une main febrile mes preparatifs de depart.\",\n",
       " '',\n",
       " \"Certainement, j'etais s\\\\xfbr de ce garcon si devoue. D'ordinaire, je ne lui demandais jamais s'il lui convenait ou non de me suivre dans mes voyages ; mais cette fois, il s'agissait d'une expedition qui pouvait indefiniment se prolonger, d'une entreprise hasardeuse, a la poursuite d'un animal capable de couler une fregate comme une coque de noix ! Il y avait la matiere a reflexion, m\\\\xeame pour l'homme le plus impassible du monde ! Qu'allait dire Conseil ?\",\n",
       " '',\n",
       " '\\\\xab Conseil ! \\\\xbb criai-je une troisieme fois.',\n",
       " '',\n",
       " 'Conseil parut.',\n",
       " '',\n",
       " \"\\\\xab Monsieur m'appelle ? dit-il en entrant.\",\n",
       " '',\n",
       " '- Oui, mon garcon. Prepare-moi, prepare-toi. Nous partons dans deux heures.',\n",
       " '',\n",
       " '- Comme il plaira a monsieur, repondit tranquillement Conseil.',\n",
       " '',\n",
       " '- Pas un instant a perdre. Serre dans ma malle tous mes ustensiles de voyage, des habits, des chemises, des chaussettes, sans compter, mais le plus que tu pourras, et h\\\\xe2te-toi !',\n",
       " '',\n",
       " '- Et les collections de monsieur ? fit observer Conseil.',\n",
       " '',\n",
       " \"- On s'en occupera plus tard.\",\n",
       " '',\n",
       " '- Quoi ! les archiotherium, les hyracotherium, les oreodons, les cheropotamus et autres carcasses de monsieur ?',\n",
       " '',\n",
       " \"- On les gardera a l'h\\\\xf4tel.\",\n",
       " '',\n",
       " '- Et le babiroussa vivant de monsieur ?',\n",
       " '',\n",
       " \"- On le nourrira pendant notre absence. D'ailleurs, je donnerai l'ordre de nous expedier en France notre menagerie.\",\n",
       " '',\n",
       " '- Nous ne retournons donc pas a Paris ? demanda Conseil.',\n",
       " '',\n",
       " '- Si\\\\u2026 certainement\\\\u2026 repondis-je evasivement, mais en faisant un crochet.',\n",
       " '',\n",
       " '- Le crochet qui plaira a monsieur.',\n",
       " '',\n",
       " \"- Oh ! ce sera peu de chose ! Un chemin un peu moins direct, voila tout. Nous prenons passage sur l'Abraham-Lincoln\\\\u2026\",\n",
       " '',\n",
       " '- Comme il conviendra a monsieur, repondit paisiblement Conseil.',\n",
       " '',\n",
       " \"- Tu sais, mon ami, il s'agit du monstre\\\\u2026 du fameux narwal\\\\u2026 Nous allons en purger les mers !\\\\u2026 L'auteur d'un ouvrage in-quarto en deux volumes sur les Mysteres des grands fonds sous-marins ne peut se dispenser de s'embarquer avec le commandant Farragut. Mission glorieuse, mais\\\\u2026 dangereuse aussi ! On ne sait pas o\\\\xf9 l'on va ! Ces b\\\\xeates-la peuvent \\\\xeatre tres-capricieuses ! Mais nous irons quand m\\\\xeame ! Nous avons un commandant qui n'a pas froid aux yeux !\\\\u2026\",\n",
       " '',\n",
       " '- Comme fera monsieur, je ferai, repondit Conseil.',\n",
       " '',\n",
       " \"- Et songes-y bien ! car je ne veux rien te cacher. C'est la un de ces voyages dont on ne revient pas toujours !\",\n",
       " '',\n",
       " '- Comme il plaira a monsieur. \\\\xbb',\n",
       " '',\n",
       " \"\\\\xab Comme il plaira a monsieur. \\\\xbb Un quart d'heure apres, nos malles etaient pr\\\\xeates. Conseil avait fait en un tour de main, et j'etais s\\\\xfbr que rien ne manquait, car ce garcon classait les chemises et les habits aussi bien que les oiseaux ou les mammiferes.\",\n",
       " '',\n",
       " \"L'ascenseur de l'h\\\\xf4tel nous deposa au grand vestibule de l'entresol. Je descendis les quelques marches qui conduisaient au rez-de-chaussee. Je reglai ma note a ce vaste comptoir toujours assiege par une foule considerable. Je donnai l'ordre d'expedier pour Paris (France) mes ballots d'animaux empailles et de plantes dessechees. Je fis ouvrir un credit suffisant au babiroussa, et, Conseil me suivant, je sautai dans une voiture.\",\n",
       " '',\n",
       " \"Le vehicule a vingt francs la course descendit Broadway jusqu'a Union-square, suivit Fourth-avenue jusqu'a sa jonction avec Bowery-street, prit Katrin-street et s'arr\\\\xeata a la trente-quatrieme pier[2]. La, le Katrin-ferry-boat nous transporta, hommes, chevaux et voiture, a Brooklyn, la grande annexe de New York, situee sur la rive gauche de la riviere de l'Est, et en quelques minutes, nous arrivions au quai pres duquel l'Abraham-Lincoln vomissait par ses deux cheminees des torrents de fumee noire.\",\n",
       " '',\n",
       " \"Le cortege suivant toujours la fregate. Nos bagages furent immediatement transbordes sur le pont de la fregate. Je me precipitai a bord. Je demandai le commandant Farragut. Un des matelots me conduisit sur la dunette, o\\\\xf9 je me trouvai en presence d'un officier de bonne mine qui me tendit la main.\",\n",
       " '',\n",
       " '\\\\xab Monsieur Pierre Aronnax ? me dit-il.',\n",
       " '',\n",
       " '- Lui-m\\\\xeame, repondis-je. Le commandant Farragut ?',\n",
       " '',\n",
       " '- En personne. Soyez le bienvenu, monsieur le professeur. Votre cabine vous attend. \\\\xbb',\n",
       " '',\n",
       " \"Je saluai, et laissant le commandant aux soins de son appareillage, je me fis conduire a la cabine qui m'etait destinee.\",\n",
       " '',\n",
       " \"L'Abraham-Lincoln avait ete parfaitement choisi et amenage pour sa destination nouvelle. C'etait une fregate de grande marche, munie d'appareils surchauffeurs, qui permettaient de porter a sept atmospheres la tension de sa vapeur. Sous cette pression, l'Abraham-Lincoln atteignait une vitesse moyenne de dix-huit milles et trois dixiemes a l'heure, vitesse considerable, mais cependant insuffisante pour lutter avec le gigantesque cetace.\",\n",
       " '',\n",
       " \"Les amenagements interieurs de la fregate repondaient a ses qualites nautiques. Je fus tres-satisfait de ma cabine, situee a l'arriere, qui s'ouvrait sur le carre des officiers.\",\n",
       " '',\n",
       " '\\\\xab Nous serons bien ici, dis-je a Conseil.',\n",
       " '',\n",
       " \"- Aussi bien, n'en deplaise a monsieur, repondit Conseil, qu'un bernard-l'hermite dans la coquille d'un buccin. \\\\xbb\",\n",
       " '',\n",
       " \"Je laissai Conseil arrimer convenablement nos malles, et je remontai sur le pont afin de suivre les preparatifs de l'appareillage.\",\n",
       " '',\n",
       " \"\\\\xc0 ce moment, le commandant Farragut faisait larguer les dernieres amarres qui retenaient l'Abraham-Lincoln a la pier de Brooklyn. Ainsi donc, un quart d'heure de retard, moins m\\\\xeame, et la fregate partait sans moi, et je manquais cette expedition extraordinaire, surnaturelle, invraisemblable, dont le recit veridique pourra bien trouver cependant quelques incredules.\",\n",
       " '',\n",
       " \"Mais le commandant Farragut ne voulait perdre ni un jour, ni une heure pour rallier les mers dans lesquelles l'animal venait d'\\\\xeatre signale. Il fit venir son ingenieur.\",\n",
       " '',\n",
       " '\\\\xab Sommes-nous en pression ? lui demanda-t-il.',\n",
       " '',\n",
       " \"- Oui, monsieur, repondit l'ingenieur.\",\n",
       " '',\n",
       " '- Go ahead \\\\xbb, cria le commandant Farragut.',\n",
       " '',\n",
       " \"\\\\xc0 cet ordre, qui fut transmis a la machine au moyen d'appareils a air comprime, les mecaniciens firent agir la roue de la mise en train. La vapeur siffla en se precipitant dans les tiroirs entr'ouverts. Les longs pistons horizontaux gemirent et pousserent les bielles de l'arbre. Les branches de l'helice battirent les flots avec une rapidite croissante, et l'Abraham-Lincoln s'avanca majestueusement au milieu d'une centaine de ferry-boats et de tenders[3] charges de spectateurs, qui lui faisaient cortege.\",\n",
       " '',\n",
       " \"Les quais de Brooklyn et toute la partie de New York qui borde la riviere de l'Est etaient couverts de curieux. Trois hurrahs, partis de cinq cent mille poitrines, eclaterent successivement. Des milliers de mouchoirs s'agiterent au-dessus de la masse compacte et saluerent l'Abraham-Lincoln jusqu'a son arrivee dans les eaux de l'Hudson, a la pointe de cette presqu'\\\\xeele allongee qui forme la ville de New York.\",\n",
       " '',\n",
       " \"Alors, la fregate, suivant du c\\\\xf4te de New-Jersey l'admirable rive droite du fleuve toute chargee de villas, passa entre les forts qui la saluerent de leurs plus gros canons. L'Abraham-Lincoln repondit en amenant et en hissant trois fois le pavillon americain, dont les trente-neuf etoiles resplendissaient a sa corne d'artimon ; puis, modifiant sa marche pour prendre le chenal balise qui s'arrondit dans la baie interieure formee par la pointe de Sandy-Hook, il rasa cette langue sablonneuse o\\\\xf9 quelques milliers de spectateurs l'acclamerent encore une fois.\",\n",
       " '',\n",
       " \"Le cortege des boats et des tenders suivait toujours la fregate, et il ne la quitta qu'a la hauteur du light-boat dont les deux feux marquent l'entree des passes de New York.\",\n",
       " '',\n",
       " \"Trois heures sonnaient alors. Le pilote descendit dans son canot, et rejoignit la petite goelette qui l'attendait sous le vent. Les feux furent pousses ; l'helice battit plus rapidement les flots ; la fregate longea la c\\\\xf4te jaune et basse de Long-Island, et, a huit heures du soir, apres avoir perdu dans le nord-ouest les feux de Fire-Island, elle courut a toute vapeur sur les sombres eaux de l'Atlantique.\",\n",
       " '',\n",
       " '',\n",
       " '',\n",
       " '',\n",
       " '',\n",
       " 'CHAPITRE IV',\n",
       " '',\n",
       " '',\n",
       " '',\n",
       " 'NED LAND.',\n",
       " '',\n",
       " '',\n",
       " '',\n",
       " '',\n",
       " '',\n",
       " \"Le commandant Farragut etait un bon marin, digne de la fregate qu'il commandait. Son navire et lui ne faisaient qu'un. Il en etait l'\\\\xe2me. Sur la question du cetace, aucun doute ne s'elevait dans son esprit, et il ne permettait pas que l'existence de l'animal f\\\\xfbt discutee a son bord. Il y croyait comme certaines bonnes femmes croient au Leviathan, - par foi, non par raison. Le monstre existait, il en delivrerait les mers, il l'avait jure. C'etait une sorte de chevalier de Rhodes, un Dieudonne de Gozon, marchant a la rencontre du serpent qui desolait son \\\\xeele. Ou le commandant Farragut tuerait le narwal, ou le narwal tuerait le commandant Farragut. Pas de milieu.\",\n",
       " '',\n",
       " \"Les officiers du bord partageaient l'opinion de leur chef. Il fallait les entendre causer, discuter, disputer, calculer les diverses chances d'une rencontre, et observer la vaste etendue de l'Ocean. Plus d'un s'imposait un quart volontaire dans les barres de perroquet, qui e\\\\xfbt maudit une telle corvee en toute autre circonstance. Tant que le soleil decrivait son arc diurne, la m\\\\xe2ture etait peuplee de matelots auxquels les planches du pont br\\\\xfblaient les pieds, et qui n'y pouvaient tenir en place ! Et cependant, l'Abraham-Lincoln ne tranchait pas encore de son etrave les eaux suspectes du Pacifique.\",\n",
       " '',\n",
       " \"Quant a l'equipage, il ne demandait qu'a rencontrer la licorne, a la harponner, a la hisser a bord, a la depecer. Il surveillait la mer avec une scrupuleuse attention. D'ailleurs, le commandant Farragut parlait d'une certaine somme de deux mille dollars, reservee a quiconque, mousse ou matelot, ma\\\\xeetre ou officier, signalerait l'animal. Je laisse a penser si les yeux s'exercaient a bord de l'Abraham-Lincoln.\",\n",
       " '',\n",
       " \"Pour mon compte, je n'etais pas en reste avec les autres, et je ne laissais a personne ma part d'observations quotidiennes. La fregate aurait eu cent fois raison de s'appeler l'Argus. Seul entre tous, Conseil protestait par son indifference touchant la question qui nous passionnait, et detonait sur l'enthousiasme general du bord.\",\n",
       " '',\n",
       " \"J'ai dit que le commandant Farragut avait soigneusement pourvu son navire d'appareils propres a p\\\\xeacher le gigantesque cetace. Un baleinier n'e\\\\xfbt pas ete mieux arme. Nous possedions tous les engins connus, depuis le harpon qui se lance a la main, jusqu'aux fleches barbelees des espingoles et aux balles explosibles des canardieres. Sur le gaillard d'avant s'allongeait un canon perfectionne, se chargeant par la culasse, tres-epais de parois, tres-etroit d'\\\\xe2me, et dont le modele doit figurer a l'Exposition universelle de 1867. Ce precieux instrument, d'origine americaine, envoyait sans se g\\\\xeaner, un projectile conique de quatre kilogrammes a une distance moyenne de seize kilometres.\",\n",
       " '',\n",
       " \"Donc, l'Abraham-Lincoln ne manquait d'aucun moyen de destruction. Mais il avait mieux encore. Il avait Ned Land, le roi des harponneurs.\",\n",
       " '',\n",
       " \"Ned Land etait un Canadien, d'une habilete de main peu commune, et qui ne connaissait pas d'egal dans son perilleux metier. Adresse et sang-froid, audace et ruse, il possedait ces qualites a un degre superieur, et il fallait \\\\xeatre une baleine bien maligne, ou un cachalot singulierement astucieux pour echapper a son coup de harpon.\",\n",
       " '',\n",
       " \"Ned Land avait environ quarante ans. C'etait un homme de grande taille - plus de six pieds anglais - vigoureusement b\\\\xe2ti, l'air grave, peu communicatif, violent parfois, et tres-rageur quand on le contrariait. Sa personne provoquait l'attention, et surtout la puissance de son regard qui accentuait singulierement sa physionomie.\",\n",
       " '',\n",
       " \"Ned Land avait environ quarante ans. Je crois que le commandant Farragut avait sagement fait d'engager cet homme a son bord. Il valait tout l'equipage, a lui seul, pour l'\\\\u0153il et le bras. Je ne saurais le mieux comparer qu'a un telescope puissant qui serait en m\\\\xeame temps un canon toujours pr\\\\xeat a partir.\",\n",
       " '',\n",
       " \"Qui dit Canadien, dit Francais, et, si peu communicatif que fut Ned Land, je dois avouer qu'il se prit d'une certaine affection pour moi. Ma nationalite l'attirait sans doute. C'etait une occasion pour lui de parler, et pour moi d'entendre cette vieille langue de Rabelais qui est encore en usage dans quelques provinces canadiennes. La famille du harponneur etait originaire de Quebec, et formait deja une tribu de hardis p\\\\xeacheurs a l'epoque o\\\\xf9 cette ville appartenait a la France.\",\n",
       " '',\n",
       " \"Peu a peu, Ned prit go\\\\xfbt a causer, et j'aimais a entendre le recit de ses aventures dans les mers polaires. Il racontait ses p\\\\xeaches et ses combats avec une grande poesie naturelle. Son recit prenait une forme epique, et je croyais ecouter quelque Homere canadien, chantant l'Iliade des regions hyperboreennes.\",\n",
       " '',\n",
       " \"Je depeins maintenant ce hardi compagnon, tel que je le connais actuellement. C'est que nous sommes devenus de vieux amis, unis de cette inalterable amitie qui na\\\\xeet et se cimente dans les plus effrayantes conjonctures ! Ah ! brave Ned ! je ne demande qu'a vivre cent ans encore, pour me souvenir plus longtemps de toi !\",\n",
       " '',\n",
       " \"Et maintenant, quelle etait l'opinion de Ned Land sur la question du monstre marin ? Je dois avouer qu'il ne croyait guere a la licorne, et que, seul a bord, il ne partageait pas la conviction generale. Il evitait m\\\\xeame de traiter ce sujet, sur lequel je crus devoir l'entreprendre un jour.\",\n",
       " '',\n",
       " \"Par une magnifique soiree du 30 juillet, c'est-a-dire trois semaines apres notre depart, la fregate se trouvait a la hauteur du cap Blanc, a trente milles sous le vent des c\\\\xf4tes patagonnes. Nous avions depasse le tropique du Capricorne, et le detroit de Magellan s'ouvrait a moins de sept cent milles dans le sud. Avant huit jours, l'Abraham-Lincoln sillonnerait les flots du Pacifique.\",\n",
       " '',\n",
       " \"Assis sur la dunette, Ned Land et moi, nous causions de choses et d'autres, regardant cette mysterieuse mer dont les profondeurs sont restees jusqu'ici inaccessibles aux regards de l'homme. J'amenai tout naturellement la conversation sur la licorne geante, et j'examinai les diverses chances de succes ou d'insucces de notre expedition. Puis, voyant que Ned me laissait parler sans trop rien dire, je le poussai plus directement.\",\n",
       " '',\n",
       " \"\\\\xab Comment, Ned, lui demandai-je, comment pouvez-vous ne pas \\\\xeatre convaincu de l'existence du cetace que nous poursuivons ? Avez-vous donc des raisons particulieres de vous montrer si incredule ? \\\\xbb\",\n",
       " '',\n",
       " 'Le harponneur me regarda pendant quelques instants avant de repondre, frappa de sa main son large front par un geste qui lui etait habituel, ferma les yeux comme pour se recueillir, et dit enfin :',\n",
       " '',\n",
       " '\\\\xab Peut-\\\\xeatre bien, monsieur Aronnax.',\n",
       " '',\n",
       " \"- Cependant, Ned, vous, un baleinier de profession, vous qui \\\\xeates familiarise avec les grands mammiferes marins, vous dont l'imagination doit aisement accepter l'hypothese de cetaces enormes, vous devriez \\\\xeatre le dernier a douter en de pareilles circonstances !\",\n",
       " '',\n",
       " \"- C'est ce qui vous trompe, monsieur le professeur, repondit Ned. Que le vulgaire croie a des cometes extraordinaires qui traversent l'espace, ou a l'existence de monstres antediluviens qui peuplent l'interieur du globe, passe encore, mais ni l'astronome, ni le geologue n'admettent de telles chimeres. De m\\\\xeame, le baleinier. J'ai poursuivi beaucoup de cetaces, j'en ai harponne un grand nombre, j'en ai tue plusieurs, mais si puissants et si bien armes qu'ils fussent, ni leurs queues, ni leurs defenses n'auraient pu entamer les plaques de t\\\\xf4le d'un steamer.\",\n",
       " '',\n",
       " '- Cependant, Ned, on cite des b\\\\xe2timents que la dent du narwal a traverses de part en part.',\n",
       " '',\n",
       " \"- Des navires en bois, c'est possible, repondit le Canadien, et encore, je ne les ai jamais vus. Donc, jusqu'a preuve contraire, je nie que baleines, cachalots ou licornes puissent produire un pareil effet.\",\n",
       " '',\n",
       " '- Ecoutez-moi, Ned\\\\u2026',\n",
       " '',\n",
       " '- Non, monsieur le professeur, non. Tout ce que vous voudrez excepte cela. Un poulpe gigantesque, peut-\\\\xeatre ?\\\\u2026',\n",
       " '',\n",
       " \"- Encore moins, Ned. Le poulpe n'est qu'un mollusque, et ce nom m\\\\xeame indique le peu de consistance de ses chairs. E\\\\xfbt-il cinq cents pieds de longueur, le poulpe, qui n'appartient point a l'embranchement des vertebres, est tout a fait inoffensif pour des navires tels que le Scotia ou l'Abraham-Lincoln. Il faut donc rejeter au rang des fables les prouesses des Krakens ou autres monstres de cette espece.\",\n",
       " '',\n",
       " \"- Alors, monsieur le naturaliste, reprit Ned Land d'un ton assez narquois, vous persistez a admettre l'existence d'un enorme cetace\\\\u2026?\",\n",
       " '',\n",
       " \"- Oui, Ned, je vous le repete avec une conviction qui s'appuie sur la logique des faits. Je crois a l'existence d'un mammifere, puissamment organise, appartenant a l'embranchement des vertebres, comme les baleines, les cachalots ou les dauphins, et muni d'une defense cornee dont la force de penetration est extr\\\\xeame.\",\n",
       " '',\n",
       " \"- Hum ! fit le harponneur, en secouant la t\\\\xeate de l'air d'un homme qui ne veut pas se laisser convaincre.\",\n",
       " '',\n",
       " \"- Remarquez, mon digne Canadien, repris-je, que si un tel animal existe, s'il habite les profondeurs de l'Ocean, s'il frequente les couches liquides situees a quelques milles au-dessous de la surface des eaux, il possede necessairement un organisme dont la solidite defie toute comparaison.\",\n",
       " '',\n",
       " '- Et pourquoi cet organisme si puissant ? demanda Ned.',\n",
       " '',\n",
       " \"- Parce qu'il faut une force incalculable pour se maintenir dans les couches profondes et resister a leur pression.\",\n",
       " '',\n",
       " \"- Vraiment ? dit Ned qui me regardait en clignant de l'\\\\u0153il.\",\n",
       " '',\n",
       " '- Vraiment, et quelques chiffres vous le prouveront sans peine.',\n",
       " '',\n",
       " \"- Oh ! les chiffres ! repliqua Ned. On fait ce qu'on veut avec les chiffres !\",\n",
       " '',\n",
       " \"- En affaires, Ned, mais non en mathematiques. Ecoutez-moi. Admettons que la pression d'une atmosphere soit representee par la pression d'une colonne d'eau haute de trente-deux pieds. En realite, la colonne d'eau serait d'une moindre hauteur, puisqu'il s'agit de l'eau de mer dont la densite est superieure a celle de l'eau douce. Eh bien, quand vous plongez, Ned, autant de fois trente-deux pieds d'eau au-dessus de vous, autant de fois votre corps supporte une pression egale a celle de l'atmosphere, c'est-a-dire de kilogrammes par chaque centimetre carre de sa surface. Il suit de la qu'a trois cent vingt pieds cette pression est de dix atmospheres, de cent atmospheres a trois mille deux cents pieds, et de mille atmospheres a trente-deux mille pieds, soit deux lieues et demie environ. Ce qui equivaut a dire que si vous pouviez atteindre cette profondeur dans l'Ocean, chaque centimetre carre de la surface de votre corps subirait une pression de mille kilogrammes. Or, mon brave Ned, savez-vous ce que vous avez de centimetres carres en surface ?\",\n",
       " '',\n",
       " \"- Je ne m'en doute pas, monsieur Aronnax.\",\n",
       " '',\n",
       " '- Environ dix-sept mille.',\n",
       " '',\n",
       " '- Tant que cela ?',\n",
       " '',\n",
       " \"- Et comme en realite la pression atmospherique est un peu superieure au poids d'un kilogramme par centimetre carre, vos dix-sept mille centimetres carres supportent en ce moment une pression de dix-sept mille cinq cent soixante-huit kilogrammes.\",\n",
       " '',\n",
       " \"- Sans que je m'en apercoive ?\",\n",
       " '',\n",
       " \"- Sans que vous vous en aperceviez. Et si vous n'\\\\xeates pas ecrase par une telle pression, c'est que l'air penetre a l'interieur de votre corps avec une pression egale. De la un equilibre parfait entre la poussee interieure et la poussee exterieure, qui se neutralisent, ce qui vous permet de les supporter sans peine. Mais dans l'eau, c'est autre chose.\",\n",
       " '',\n",
       " \"- Oui, je comprends, repondit Ned, devenu plus attentif, parce que l'eau m'entoure et ne me penetre pas.\",\n",
       " '',\n",
       " \"- Precisement, Ned. Ainsi donc, a trente-deux pieds au-dessous de la surface de la mer, vous subiriez une pression de dix-sept mille cinq cent soixante-huit kilogrammes ; a trois cent vingt pieds, dix fois cette pression, soit cent soixante-quinze mille six cent quatre-vingt kilogrammes ; a trois mille deux cents pieds, cent fois cette pression, soit dix-sept cent cinquante-six mille huit cent kilogrammes ; a trente-deux mille pieds, enfin, mille fois cette pression, soit dix-sept millions cinq cent soixante-huit mille kilogrammes ; c'est-a-dire que vous seriez aplati comme si l'on vous retirait des plateaux d'une machine hydraulique !\",\n",
       " '',\n",
       " '- Diable ! fit Ned.',\n",
       " '',\n",
       " '- Eh bien, mon digne harponneur, si des vertebres, longs de plusieurs centaines de metres et gros a proportion, se maintiennent a de pareilles',\n",
       " '',\n",
       " \"profondeurs, eux dont la surface est representee par des millions de centimetres carres, c'est par milliards de kilogrammes qu'il faut estimer la poussee qu'ils subissent. Calculez alors quelle doit \\\\xeatre la resistance de leur charpente osseuse et la puissance de leur organisme pour resister a de telles pressions !\",\n",
       " '',\n",
       " \"- Il faut, repondit Ned Land, qu'ils soient fabriques en plaques de t\\\\xf4le de huit pouces, comme les fregates cuirassees.\",\n",
       " '',\n",
       " \"- Comme vous dites, Ned, et songez alors aux ravages que peut produire une pareille masse lancee avec la vitesse d'un express contre la coque d'un navire.\",\n",
       " '',\n",
       " '- Oui\\\\u2026 en effet\\\\u2026 peut-\\\\xeatre, repondit le Canadien, ebranle par ces chiffres, mais qui ne voulait pas se rendre.',\n",
       " '',\n",
       " '- Eh bien, vous ai-je convaincu ?',\n",
       " '',\n",
       " \"- Vous m'avez convaincu d'une chose, monsieur le naturaliste, c'est que si de tels animaux existent au fond des mers, il faut necessairement qu'ils soient aussi forts que vous le dites.\",\n",
       " '',\n",
       " \"- Mais s'ils n'existent pas, ent\\\\xeate harponneur, comment expliquez-vous l'accident arrive au Scotia ?\",\n",
       " '',\n",
       " \"- C'est peut-\\\\xeatre\\\\u2026, dit Ned hesitant.\",\n",
       " '',\n",
       " '- Allez donc !',\n",
       " '',\n",
       " \"- Parce que\\\\u2026 ca n'est pas vrai ! \\\\xbb repondit le Canadien, en reproduisant sans le savoir une celebre reponse d'Arago.\",\n",
       " '',\n",
       " \"Mais cette reponse prouvait l'obstination du harponneur et pas autre chose. Ce jour-la, je ne le poussai pas davantage. L'accident du Scotia n'etait pas niable. Le trou existait si bien qu'il avait fallu le boucher, et je ne pense pas que l'existence du trou puisse se demontrer plus categoriquement. Or, ce trou ne s'etait pas fait tout seul, et puisqu'il n'avait pas ete produit par des roches sous-marines ou des engins sous-marins, il etait necessairement d\\\\xfb a l'outil perforant d'un animal.\",\n",
       " '',\n",
       " \"Or, suivant moi, et toutes les raisons precedemment deduites, cet animal appartenait a l'embranchement des vertebres, a la classe des mammiferes, au groupe des pisciformes, et finalement a l'ordre des cetaces. Quant a la famille dans laquelle il prenait rang, baleine, cachalot ou dauphin, quant au genre dont il faisait partie, quant a l'espece dans laquelle il convenait de le ranger, c'etait une question a elucider ulterieurement. Pour la resoudre, il fallait dissequer ce monstre inconnu, pour le dissequer le prendre, pour le prendre le harponner, - ce qui etait l'affaire de Ned Land, - pour le harponner le voir, ce qui etait l'affaire de l'equipage - et pour le voir le rencontrer, - ce qui etait l'affaire du hasard.\",\n",
       " '',\n",
       " '',\n",
       " '',\n",
       " '',\n",
       " '',\n",
       " 'CHAPITRE V',\n",
       " '',\n",
       " '',\n",
       " '',\n",
       " \"\\\\xc0 L'AVENTURE !\",\n",
       " '',\n",
       " '',\n",
       " '',\n",
       " '',\n",
       " '',\n",
       " \"Le voyage de l'Abraham-Lincoln, pendant quelque temps, ne fut marque par aucun incident. Cependant une circonstance se presenta, qui mit en relief la merveilleuse habilete de Ned Land, et montra quelle confiance on devait avoir en lui.\",\n",
       " '',\n",
       " \"Au large des Malouines, le 30 juin, la fregate communiqua avec des baleiniers americains, et nous appr\\\\xeemes qu'ils n'avaient eu aucune connaissance du narwal. Mais l'un d'eux, le capitaine du Monroe, sachant que Ned Land etait embarque a bord de l'Abraham-Lincoln, demanda son aide pour chasser une baleine qui etait en vue. Le commandant Farragut, desireux de voir Ned Land a l'\\\\u0153uvre, l'autorisa a se rendre a bord du Monroe. Et le hasard servit si bien notre Canadien, qu'au lieu d'une baleine, il en harponna deux d'un coup double, frappant l'une droit au c\\\\u0153ur, et s'emparant de l'autre apres une poursuite de quelques minutes !\",\n",
       " '',\n",
       " 'Decidement, si le monstre a jamais affaire au harpon de Ned Land, je ne parierai pas pour le monstre.',\n",
       " '',\n",
       " \"La fregate prolongea la c\\\\xf4te sud-est de l'Amerique avec une rapidite prodigieuse. Le 3 juillet, nous etions a l'ouvert du detroit de Magellan, a la hauteur du cap des Vierges. Mais le commandant Farragut ne voulut pas prendre ce sinueux passage, et man\\\\u0153uvra de maniere a doubler le cap Horn.\",\n",
       " '',\n",
       " \"L'equipage lui donna raison a l'unanimite. Et en effet, etait-il probable que l'on p\\\\xfbt rencontrer le narwal dans ce detroit resserre ? Bon nombre de matelots affirmaient que le monstre n'y pouvait passer, \\\\xab qu'il etait trop gros pour cela ! \\\\xbb\",\n",
       " '',\n",
       " \"Le 6 juillet, vers trois heures du soir, I'Abraham Lincoln, a quinze milles dans le sud, doubla cet \\\\xeelot solitaire, ce roc perdu a l'extremite du continent americain, auquel des marins hollandais imposerent le nom de leur villa natale, le cap Horn. La route fut donnee vers le nord-ouest, et le lendemain, l'helice de la fregate battit enfin les eaux du Pacifique.\",\n",
       " '',\n",
       " \"\\\\xab Ouvre l'\\\\u0153il ! ouvre l'\\\\u0153il ! \\\\xbb repetaient les matelots de l'Abraham Lincoln.\",\n",
       " '',\n",
       " \"Et ils l'ouvraient demesurement. Les yeux et les lunettes, un peu eblouis, il est vrai, par la perspective de deux mille dollars, ne resterent pas un instant au repos. Jour et nuit, on observait la surface de l'Ocean, et les nyctalopes, dont la faculte de voir dans l'obscurite accroissait les chances de cinquante pour cent, avaient beau jeu pour gagner la prime.\",\n",
       " '',\n",
       " \"Tant\\\\xf4t appuye a la lisse de l'arriere.\",\n",
       " '',\n",
       " \"Moi, que l'app\\\\xe2t de l'argent n'attirait guere, je n'etais pourtant pas le moins attentif du bord. Ne donnant que quelques minutes au repas, quelques heures au sommeil, indifferent au soleil ou a la pluie, je ne quittais plus le pont du navire. Tant\\\\xf4t penche sur les bastingages du gaillard d'avant, tant\\\\xf4t appuye a la lisse de l'arriere, je devorais d'un \\\\u0153il avide le cotonneux sillage qui blanchissait la mer jusqu'a perte de vue ! Et que de fois j'ai partage l'emotion de l'etat-major, de l'equipage, lorsque quelque capricieuse baleine elevait son dos noir\\\\xe2tre au-dessus des flots. Le pont de la fregate se peuplait en un instant. Les capots vomissaient un torrent de matelots et d'officiers. Chacun, la poitrine haletante, l'\\\\u0153il trouble, observait la marche du cetace. Je regardais, je regardais a en user ma retine, a en devenir aveugle, tandis que Conseil, toujours phlegmatique, me repetait d'un ton calme :\",\n",
       " '',\n",
       " '\\\\xab Si monsieur voulait avoir la bonte de moins ecarquiller ses yeux, monsieur verrait bien davantage ! \\\\xbb',\n",
       " '',\n",
       " \"Mais, vaine emotion ! L'Abraham-Lincoln modifiait sa route, courait sur l'animal signale, simple baleine ou cachalot vulgaire, qui disparaissait bient\\\\xf4t au milieu d'un concert d'imprecations !\",\n",
       " '',\n",
       " \"Cependant, le temps restait favorable. Le voyage s'accomplissait dans les meilleures conditions. C'etait alors la mauvaise saison australe, car le juillet de cette zone correspond a notre janvier d'Europe ; mais la mer se maintenait belle, et se laissait facilement observer dans un vaste perimetre.\",\n",
       " '',\n",
       " \"Ned Land montrait toujours la plus tenace incredulite ; il affectait m\\\\xeame de ne point examiner la surface des flots en dehors de son temps de bordee, - du moins quand aucune baleine n'etait en vue. Et pourtant sa merveilleuse puissance de vision aurait rendu de grands services. Mais, huit heures sur douze, cet ent\\\\xeate Canadien lisait ou dormait dans sa cabine. Cent fois, je lui reprochai son indifference.\",\n",
       " '',\n",
       " \"\\\\xab Bah ! repondait-il, il n'y a rien, monsieur Aronnax, et y e\\\\xfbt-il quelque animal, quelle chance avons-nous de l'apercevoir ? Est-ce que nous ne courons pas a l'aventure ? On a revu, dit-on, cette b\\\\xeate introuvable dans les hautes mers du Pacifique, je veux bien l'admettre ; mais deux mois deja se sont ecoules depuis cette rencontre, et a s'en rapporter au temperament de votre narwal, il n'aime point a moisir longtemps dans les m\\\\xeames parages ! Il est doue d'une prodigieuse facilite de deplacement. Or, vous le savez mieux que moi, monsieur le professeur, la nature ne fait rien a contre sens, et elle ne donnerait pas a un animal lent de sa nature la faculte de se mouvoir rapidement, s'il n'avait pas besoin de s'en servir. Donc, si la b\\\\xeate existe, elle est deja loin ! \\\\xbb\",\n",
       " '',\n",
       " \"\\\\xc0 cela, je ne savais que repondre. Evidemment, nous marchions en aveugles. Mais le moyen de proceder autrement ? Aussi, nos chances etaient-elles fort limitees. Cependant, personne ne doutait encore du succes, et pas un matelot du bord n'e\\\\xfbt parie contre le narwal et contre sa prochaine apparition.\",\n",
       " '',\n",
       " \"Le 20 juillet, le tropique du Capricorne fut coupe par 105\\\\xb0 de longitude, et le 27 du m\\\\xeame mois, nous franchissions l'equateur sur le cent dixieme meridien. Ce relevement fait, la fregate prit une direction plus decidee vers l'ouest, et s'engagea dans les mers centrales du Pacifique. Le commandant Farragut pensait, avec raison, qu'il valait mieux frequenter les eaux profondes, et s'eloigner des continents ou des \\\\xeeles dont l'animal avait toujours paru eviter l'approche, \\\\xab sans doute parce qu'il n'y avait pas assez d'eau pour lui ! \\\\xbb disait le ma\\\\xeetre d'equipage. La fregate passa donc au large des Pomotou, des Marquises, des Sandwich, coupa le tropique du Cancer par 132\\\\xb0 de longitude, et se dirigea vers les mers de Chine.\",\n",
       " '',\n",
       " \"Nous etions enfin sur le the\\\\xe2tre des derniers ebats du monstre ! Et, pour tout dire, on ne vivait plus a bord. Les c\\\\u0153urs palpitaient effroyablement, et se preparaient pour l'avenir d'incurables anevrismes. L'equipage entier subissait une surexcitation nerveuse, dont je ne saurais donner l'idee. On ne mangeait pas, on ne dormait plus. Vingt fois par jour, une erreur d'appreciation, une illusion d'optique de quelque matelot perche sur les barres, causaient d'intolerables douleurs, et ces emotions, vingt fois repetees, nous maintenaient dans un etat d'erethisme trop violent pour ne pas amener une reaction prochaine.\",\n",
       " '',\n",
       " \"Et en effet, la reaction ne tarda pas a se produire. Pendant trois mois, trois mois dont chaque jour durait un siecle ! l'Abraham-Lincoln sillonna toutes les mers septentrionales du Pacifique, courant aux baleines signalees, faisant de brusques ecarts de route, virant subitement d'un bord sur l'autre, s'arr\\\\xeatant soudain, forcant ou renversant sa vapeur, coup sur coup, au risque de deniveler sa machine, et il ne laissa pas un point inexplore des rivages du Japon a la c\\\\xf4te americaine. Et rien ! rien que l'immensite des flots deserts ! rien qui ressembl\\\\xe2t a un narwal gigantesque, ni a un \\\\xeelot sous-marin, ni a une epave de naufrage, ni a un ecueil fuyant, ni a quoi que ce f\\\\xfbt de surnaturel !\",\n",
       " '',\n",
       " \"La reaction se fit donc. Le decouragement s'empara d'abord des esprits, et ouvrit une breche a l'incredulite. Un nouveau sentiment se produisit a bord, qui se composait de trois dixiemes de honte contre sept dixiemes de fureur. On etait \\\\xab tout b\\\\xeate \\\\xbb de s'\\\\xeatre laisse prendre a une chimere, mais encore plus furieux ! Les montagnes d'arguments entasses depuis un an s'ecroulerent a la fois, et chacun ne songea plus qu'a se rattraper aux heures de repas ou de sommeil du temps qu'il avait si sottement sacrifie.\",\n",
       " '',\n",
       " \"Avec la mobilite naturelle a l'esprit humain, d'un exces on se jeta dans un autre. Les plus chauds partisans de l'entreprise devinrent fatalement ses plus ardents detracteurs. La reaction monta des fonds du navire, du poste des soutiers jusqu'au carre de l'etat-major, et certainement, sans un ent\\\\xeatement tres-particulier du commandant Farragut, la fregate e\\\\xfbt definitivement remis le cap au sud.\",\n",
       " '',\n",
       " \"Cependant, cette recherche inutile ne pouvait se prolonger plus longtemps. L'Abraham-Lincoln n'avait rien a se reprocher, ayant tout fait pour reussir. Jamais equipage d'un b\\\\xe2timent de la marine americaine ne montra plus de patience et plus de zele ; son insucces ne saurait lui \\\\xeatre impute ; il ne restait plus qu'a revenir.\",\n",
       " '',\n",
       " \"Une representation dans ce sens fut faite au commandant. Le commandant tint bon. Les matelots ne cacherent point leur mecontentement, et le service en souffrit. Je ne veux pas dire qu'il y eut revolte a bord, mais apres une raisonnable periode d'obstination, le commandant Farragut comme autrefois Colomb, demanda trois jours de patience. Si dans le delai de trois jours, le monstre n'avait pas paru, l'homme de barre donnerait trois tours de roue, et l'Abraham-Lincoln ferait route vers les mers europeennes.\",\n",
       " '',\n",
       " \"Cette promesse fut faite le 2 novembre. Elle eut tout d'abord pour resultat de ranimer les defaillances de l'equipage. L'Ocean fut observe avec une nouvelle attention. Chacun voulait lui jeter ce dernier coup d'oeil dans lequel se resume tout le souvenir. Les lunettes fonctionnerent avec une activite fievreuse. C'etait un supr\\\\xeame defi porte au narwal geant, et celui-ci ne pouvait raisonnablement se dispenser de repondre a cette sommation \\\\xab a compara\\\\xeetre ! \\\\xbb\",\n",
       " '',\n",
       " 'Les embarcations rayonnerent autour de la fregate.',\n",
       " '',\n",
       " \"Deux jours se passerent. L'Abraham-Lincoln se tenait sous petite vapeur. On employait mille moyens pour eveiller l'attention ou stimuler l'apathie de l'animal, au cas o\\\\xf9 il se f\\\\xfbt rencontre dans ces parages. D'enormes quartiers de lard furent mis a la tra\\\\xeene pour la plus grande satisfaction des requins, je dois le dire. Les embarcations rayonnerent dans toutes les directions autour de l'Abraham-Lincoln, pendant qu'il mettait en panne, et ne laisserent pas un point de mer inexplore. Mais le soir du 4 novembre arriva sans que se f\\\\xfbt devoile ce mystere sous-marin.\",\n",
       " '',\n",
       " 'Le lendemain, 5 novembre, a midi, expirait le delai de rigueur. Apres le point, le commandant Farragut, fidele a sa promesse, devait donner la route au sud-est, et abandonner definitivement les regions septentrionales du Pacifique.',\n",
       " '',\n",
       " \"La fregate se trouvait alors par 31\\\\xb0 15\\\\u2032 de latitude nord et par 136\\\\xb0 42\\\\u2032 de longitude est. Les terres du Japon nous restaient a moins de deux cents milles sous le vent. La nuit approchait. On venait de piquer huit heures. De gros nuages voilaient le disque de la lune, alors dans son premier quartier. La mer ondulait paisiblement sous l'etrave de la fregate.\",\n",
       " '',\n",
       " \"En ce moment, j'etais appuye a l'avant, sur le bastingage de tribord. Conseil, poste pres de moi, regardait devant lui. L'equipage, juche dans les haubans, examinait l'horizon qui se retrecissait et s'obscurcissait peu a peu. Les officiers, armes de leur lorgnette de nuit, fouillaient l'obscurite croissante. Parfois le sombre Ocean etincelait sous un rayon que la lune dardait entre la frange de deux nuages. Puis, toute trace lumineuse s'evanouissait dans les tenebres.\",\n",
       " '',\n",
       " \"En observant Conseil, je constatai que ce brave garcon subissait tant soit peu l'influence generale. Du moins, je le crus ainsi. Peut-\\\\xeatre, et pour la premiere fois, ses nerfs vibraient-ils sous l'action d'un sentiment de curiosite.\",\n",
       " '',\n",
       " \"\\\\xab Allons, Conseil, lui dis-je, voila une derniere occasion d'empocher deux mille dollars.\",\n",
       " '',\n",
       " \"- Que monsieur me permette de le lui dire, repondit Conseil, je n'ai jamais compte sur cette prime, et le gouvernement de l'Union pouvait promettre cent mille dollars, il n'en aurait pas ete plus pauvre.\",\n",
       " '',\n",
       " \"- Tu as raison, Conseil. C'est une sotte affaire, apres tout, et dans laquelle nous nous sommes lances trop legerement. Que de temps perdu, que d'emotions inutiles ! Depuis six mois deja, nous serions rentres en France\\\\u2026\",\n",
       " '',\n",
       " \"- Dans le petit appartement de monsieur, repliqua Conseil, dans le Museum de monsieur ! Et j'aurais deja classe les fossiles de monsieur ! Et le babiroussa de monsieur serait installe dans sa cage du Jardin des Plantes, et il attirerait tous les curieux de la capitale !\",\n",
       " '',\n",
       " \"- Comme tu dis, Conseil, et sans compter, j'imagine, que l'on se moquera de nous !\",\n",
       " '',\n",
       " \"- Effectivement, repondit tranquillement Conseil, je pense que l'on se moquera de monsieur. Et, faut-il le dire\\\\u2026?\",\n",
       " '',\n",
       " '- Il faut le dire, Conseil.',\n",
       " '',\n",
       " \"- Eh bien, monsieur n'aura que ce qu'il merite !\",\n",
       " '',\n",
       " '- Vraiment !',\n",
       " '',\n",
       " \"- Quand on a l'honneur d'\\\\xeatre un savant comme monsieur, on ne s'expose pas\\\\u2026 \\\\xbb\",\n",
       " '',\n",
       " \"Conseil ne put achever son compliment. Au milieu du silence general, une voix venait de se faire entendre. C'etait la voix de Ned Land, et Ned Land s'ecriait :\",\n",
       " '',\n",
       " '\\\\xab Ohe ! la chose en question, sous le vent, par le travers a nous ! \\\\xbb',\n",
       " '',\n",
       " '',\n",
       " '',\n",
       " '',\n",
       " '',\n",
       " 'CHAPITRE VI',\n",
       " '',\n",
       " '',\n",
       " '',\n",
       " '\\\\xc0 TOUTE VAPEUR.',\n",
       " '',\n",
       " '',\n",
       " '',\n",
       " '',\n",
       " '',\n",
       " \"\\\\xc0 ce cri, l'equipage entier se precipita vers le harponneur, commandant, officiers, ma\\\\xeetres, matelots, mousses, jusqu'aux ingenieurs qui quitterent leur machine, jusqu'aux chauffeurs qui abandonnerent leurs fourneaux.\",\n",
       " '',\n",
       " \"L'ordre de stopper avait ete donne, et la fregate ne courait plus que sur son erre.\",\n",
       " '',\n",
       " \"L'obscurite etait profonde alors, et quelques bons que fussent les yeux du Canadien, je me demandais comment il avait vu et ce qu'il avait pu voir. Mon c\\\\u0153ur battait a se rompre.\",\n",
       " '',\n",
       " \"Mais Ned Land ne s'etait pas trompe, et tous, nous aperc\\\\xfbmes l'objet qu'il indiquait de la main.\",\n",
       " '',\n",
       " \"Le monstre immerge a quelques toises. \\\\xc0 deux encablures de l'Abraham-Lincoln et de sa hanche de tribord, la mer semblait \\\\xeatre illuminee par dessus. Ce n'etait point un simple phenomene de phosphorescence, et l'on ne pouvait s'y tromper. Le monstre, immerge a quelques toises de la surface des eaux, projetait cet eclat tres-intense, mais inexplicable, que mentionnaient les rapports de plusieurs capitaines. Cette magnifique irradiation devait \\\\xeatre produite par un agent d'une grande puissance eclairante. La partie lumineuse decrivait sur la mer un immense ovale tres-allonge, au centre duquel se condensait un foyer ardent dont l'insoutenable eclat s'eteignait par degradations successives.\",\n",
       " '',\n",
       " \"\\\\xab Ce n'est qu'une agglomeration de molecules phosphorescentes, s'ecria l'un des officiers.\",\n",
       " '',\n",
       " \"- Non, monsieur, repliquai-je avec conviction. Jamais les pholades ou les salpes ne produisent une si puissante lumiere. Cet eclat est de nature essentiellement electrique\\\\u2026 D'ailleurs, voyez, voyez ! il se deplace ! il se meut en avant, en arriere ! il s'elance sur nous ! \\\\xbb\",\n",
       " '',\n",
       " \"Un cri general s'eleva de la fregate.\",\n",
       " '',\n",
       " '\\\\xab Silence ! dit le commandant Farragut. La barre au vent, toute ! Machine en arriere ! \\\\xbb',\n",
       " '',\n",
       " \"Les matelots se precipiterent a la barre, les ingenieurs a leur machine. La vapeur fut immediatement renversee et l'Abraham-Lincoln, abattant sur b\\\\xe2bord, decrivit un demi-cercle.\",\n",
       " '',\n",
       " '\\\\xab La barre droite ! Machine en avant ! \\\\xbb cria le commandant Farragut.',\n",
       " '',\n",
       " \"Ces ordres furent executes, et la fregate s'eloigna rapidement du foyer lumineux.\",\n",
       " '',\n",
       " \"Je me trompe. Elle voulut s'eloigner, mais le surnaturel animal se rapprocha avec une vitesse double de la sienne.\",\n",
       " '',\n",
       " \"Nous etions haletants. La stupefaction, bien plus que la crainte nous tenait muets et immobiles. L'animal nous gagnait en se jouant. Il fit le tour de la fregate qui filait alors quatorze n\\\\u0153uds, et l'enveloppa de ses nappes electriques comme d'une poussiere lumineuse. Puis il s'eloigna de deux ou trois milles, laissant une tra\\\\xeenee phosphorescente comparable aux tourbillons de vapeur que jette en arriere la locomotive d'un express. Tout d'un coup, des obscures limites de l'horizon, o\\\\xf9 il alla prendre son elan, le monstre fonca subitement vers l'Abraham-Lincoln avec une effrayante rapidite, s'arr\\\\xeata brusquement a vingt pieds de ses precintes, s'eteignit, - non pas en s'ab\\\\xeemant sous les eaux, puisque son eclat ne subit aucune degradation, - mais soudainement et comme si la source de ce brillant effluve se f\\\\xfbt subitement tarie ! Puis, il reparut de l'autre c\\\\xf4te du navire, soit qu'il l'e\\\\xfbt tourne, soit qu'il e\\\\xfbt glisse sous sa coque. \\\\xc0 chaque instant une collision pouvait se produire, qui nous e\\\\xfbt ete fatale.\",\n",
       " '',\n",
       " \"Cependant, je m'etonnais des man\\\\u0153uvres de la fregate. Elle fuyait et n'attaquait pas. Elle etait poursuivie, elle qui devait poursuivre, et j'en fis l'observation au commandant Farragut. Sa figure, d'ordinaire si impassible, etait empreinte d'un indefinissable etonnement.\",\n",
       " '',\n",
       " \"\\\\xab Monsieur Aronnax, me repondit-il, je ne sais a quel \\\\xeatre formidable j'ai affaire, et je ne veux pas risquer imprudemment ma fregate au milieu de cette obscurite. D'ailleurs, comment attaquer l'inconnu, comment s'en defendre ? Attendons le jour et les r\\\\xf4les changeront.\",\n",
       " '',\n",
       " \"- Vous n'avez plus de doute, commandant, sur la nature de l'animal ?\",\n",
       " '',\n",
       " \"- Non, monsieur, c'est evidemment un narwal gigantesque, mais aussi un narwal electrique.\",\n",
       " '',\n",
       " \"- Peut-\\\\xeatre, ajoutai-je, ne peut-on pas plus l'approcher qu'une gymnote ou une torpille !\",\n",
       " '',\n",
       " \"- En effet, repondit le commandant, et s'il possede en lui une puissance foudroyante, c'est a coup s\\\\xfbr le plus terrible animal qui soit jamais sorti de la main du Createur. C'est pourquoi, monsieur, je me tiendrai sur mes gardes. \\\\xbb\",\n",
       " '',\n",
       " \"Tout l'equipage resta sur pied pendant la nuit. Personne ne songea a dormir. L'Abraham-Lincoln, ne pouvant lutter de vitesse, avait modere sa marche et se tenait sous petite vapeur. De son c\\\\xf4te, le narwal, imitant la fregate, se laissait bercer au gre des lames, et semblait decide a ne point abandonner le the\\\\xe2tre de la lutte.\",\n",
       " '',\n",
       " \"Vers minuit, cependant, il disparut, ou, pour employer une expression plus juste, il \\\\xab s'eteignit \\\\xbb comme un gros ver luisant. Avait-il fui ? Il fallait le craindre, non pas l'esperer. Mais a une heure moins sept minutes du matin, un sifflement assourdissant se fit entendre, semblable a celui que produit une colonne d'eau, chassee avec une extr\\\\xeame violence.\",\n",
       " '',\n",
       " \"Le commandant Farragut, Ned Land et moi, nous etions alors sur la dunette, jetant d'avides regards a travers les profondes tenebres.\",\n",
       " '',\n",
       " '\\\\xab Ned Land, demanda le commandant, vous avez souvent entendu rugir des baleines ?',\n",
       " '',\n",
       " \"- Souvent, monsieur, mais jamais de pareilles baleines dont la vue m'ait rapporte deux mille dollars.\",\n",
       " '',\n",
       " \"- En effet, vous avez droit a la prime. Mais, dites-moi, ce bruit n'est-il pas celui que font les cetaces rejetant l'eau par leurs events ?\",\n",
       " '',\n",
       " \"- Le m\\\\xeame bruit, monsieur, mais celui-ci est incomparablement plus fort. Aussi, ne peut-on s'y tromper. C'est bien un cetace qui se tient la dans nos eaux. Avec votre permission, monsieur, ajouta le harponneur, nous lui dirons deux mots demain au lever du jour.\",\n",
       " '',\n",
       " \"- S'il est d'humeur a vous entendre, ma\\\\xeetre Land, repondis-je d'un ton peu convaincu.\",\n",
       " '',\n",
       " \"- Que je l'approche a quatre longueurs de harpon, riposta le Canadien, et il faudra bien qu'il m'ecoute !\",\n",
       " '',\n",
       " \"- Mais pour l'approcher, reprit le commandant, je devrai mettre une baleiniere a votre disposition ?\",\n",
       " '',\n",
       " '- Sans doute, monsieur.',\n",
       " '',\n",
       " '- Ce sera jouer la vie de mes hommes ?',\n",
       " '',\n",
       " '- Et la mienne ! \\\\xbb repondit simplement le harponneur.',\n",
       " '',\n",
       " \"Vers deux heures du matin, le foyer lumineux reparut, non moins intense, a cinq milles au vent de l'Abraham-Lincoln. Malgre la distance, malgre le bruit du vent et de la mer, on entendait distinctement les formidables battements de queue de l'animal, et jusqu'a sa respiration haletante. Il semblait qu'au moment o\\\\xf9 l'enorme narwal venait respirer a la surface de l'ocean, l'air s'engouffrait dans ses poumons, comme fait la vapeur dans les vastes cylindres d'une machine de deux mille chevaux.\",\n",
       " '',\n",
       " \"\\\\xab Hum ! pensai-je, une baleine qui aurait la force d'un regiment de cavalerie, ce serait une jolie baleine ! \\\\xbb\",\n",
       " '',\n",
       " \"On resta sur le qui-vive jusqu'au jour, et l'on se prepara au combat. Les engins de p\\\\xeache furent disposes le long des bastingages. Le second fit charger ces espingoles qui lancent un harpon a une distance d'un mille, et de longues canardieres a balles explosives dont la blessure est mortelle, m\\\\xeame aux plus puissants animaux. Ned Land s'etait contente d'aff\\\\xfbter son harpon, arme terrible dans sa main.\",\n",
       " '',\n",
       " \"\\\\xc0 six heures, l'aube commenca a poindre, et avec les premieres lueurs de l'aurore disparut l'eclat electrique du narwal. \\\\xc0 sept heures, le jour etait suffisamment fait, mais une brume matinale tres-epaisse retrecissait l'horizon, et les meilleures lorgnettes ne pouvaient la percer. De la, desappointement et colere.\",\n",
       " '',\n",
       " \"Je me hissai jusqu'aux barres d'artimon. Quelques officiers s'etaient deja perches a la t\\\\xeate des m\\\\xe2ts.\",\n",
       " '',\n",
       " \"\\\\xc0 huit heures, la brume roula lourdement sur les flots, et ses grosses volutes se leverent peu a peu. L'horizon s'elargissait et se purifiait a la fois.\",\n",
       " '',\n",
       " 'Soudain, et comme la veille, la voix de Ned Land se fit entendre.',\n",
       " '',\n",
       " '\\\\xab La chose en question, par b\\\\xe2bord derriere ! \\\\xbb cria le harponneur.',\n",
       " '',\n",
       " 'Tous les regards se dirigerent vers le point indique.',\n",
       " '',\n",
       " \"La, a un mille et demi de la fregate, un long corps noir\\\\xe2tre emergeait d'un metre au-dessus des flots. Sa queue, violemment agitee, produisait un remous considerable. Jamais appareil caudal ne battit la mer avec une telle puissance. Un immense sillage, d'une blancheur eclatante, marquait le passage de l'animal et decrivait une courbe allongee.\",\n",
       " '',\n",
       " \"La fregate s'approcha du cetace. Je l'examinai en toute liberte d'esprit. Les rapports du Shannon et de l'Helvetia avaient un peu exagere ses dimensions, et j'estimai sa longueur a deux cent cinquante pieds seulement. Quant a sa grosseur, je ne pouvais que difficilement l'apprecier ; mais, en somme, l'animal me parut \\\\xeatre admirablement proportionne dans ses trois dimensions.\",\n",
       " '',\n",
       " \"Pendant que j'observais cet \\\\xeatre phenomenal, deux jets de vapeur et d'eau s'elancerent de ses events, et monterent a une hauteur de quarante metres, ce qui me fixa sur son mode de respiration. J'en conclus definitivement qu'il appartenait a l'embranchement des vertebres, classe des mammiferes, sous-classe des monodelphiens, groupe des pisciformes, ordre des cetaces, famille\\\\u2026 Ici, je ne pouvais encore me prononcer. L'ordre des cetaces comprend trois familles : les baleines, les cachalots et les dauphins, et c'est dans cette derniere que sont ranges les narwals. Chacune de ces familles se divise en plusieurs genres, chaque genre en especes, chaque espece en varietes. Variete, espece, genre et famille me manquaient encore, mais je ne doutais pas de completer ma classification avec l'aide du ciel et du commandant Farragut.\",\n",
       " '',\n",
       " \"L'equipage attendait impatiemment les ordres de son chef. Celui-ci, apres avoir attentivement observe l'animal, fit appeler l'ingenieur. L'ingenieur accourut.\",\n",
       " '',\n",
       " '\\\\xab Monsieur, dit le commandant, vous avez de la pression ?',\n",
       " '',\n",
       " \"- Oui, monsieur, repondit l'ingenieur.\",\n",
       " '',\n",
       " '- Bien. Forcez vos feux, et a toute vapeur ! \\\\xbb',\n",
       " '',\n",
       " \"Trois hurrahs accueillirent cet ordre. L'heure de la lutte avait sonne. Quelques instants apres, les deux cheminees de la fregate vomissaient des torrents de fumee noire, et le pont fremissait sous le tremblotement des chaudieres.\",\n",
       " '',\n",
       " \"L'Abraham-Lincoln, chasse en avant par sa puissante helice, se dirigea droit sur l'animal. Celui-ci le laissa indifferemment s'approcher a une demi-encablure ; puis dedaignant de plonger, il prit une petite allure de fuite, et se contenta de maintenir sa distance.\",\n",
       " '',\n",
       " \"Cette poursuite se prolongea pendant trois quarts d'heure environ, sans que la fregate gagn\\\\xe2t deux toises sur le cetace. Il etait donc evident qu'a marcher ainsi, on ne l'atteindrait jamais.\",\n",
       " '',\n",
       " \"Le commandant Farragut tordait avec rage l'epaisse touffe de poils qui foisonnait sous son menton.\",\n",
       " '',\n",
       " '\\\\xab Ned Land ? \\\\xbb cria-t-il.',\n",
       " '',\n",
       " \"Le Canadien vint a l'ordre.\",\n",
       " '',\n",
       " '\\\\xab Eh bien, ma\\\\xeetre Land, demanda le commandant, me conseillez-vous encore de mettre mes embarcations a la mer ?',\n",
       " '',\n",
       " '- Non, monsieur, repondit Ned Land, car cette b\\\\xeate-la ne se laissera prendre que si elle le veut bien.',\n",
       " '',\n",
       " '- Que faire alors ?',\n",
       " '',\n",
       " \"- Forcer de vapeur si vous le pouvez, monsieur. Pour moi, avec votre permission, s'entend, je vais m'installer sous les sous-barbes de beaupre, et si nous arrivons a longueur de harpon, je harponne.\",\n",
       " '',\n",
       " '- Allez, Ned, repondit le commandant Farragut. Ingenieur, cria-t-il, faites monter la pression. \\\\xbb',\n",
       " '',\n",
       " \"Ned Land se rendit a son poste. Les feux furent plus activement pousses ; l'helice donna quarante-trois tours a la minute, et la vapeur fusa par les soupapes. Le loch jete, on constata que l'Abraham-Lincoln marchait a raison de dix-huit milles cinq dixiemes a l'heure.\",\n",
       " '',\n",
       " 'Mais le maudit animal filait aussi avec une vitesse de dix-huit milles cinq dixiemes.',\n",
       " '',\n",
       " \"Pendant une heure encore, la fregate se maintint sous cette allure, sans gagner une toise ! C'etait humiliant pour l'un des plus rapides marcheurs de la marine americaine. Une sourde colere courait parmi l'equipage. Les matelots injuriaient le monstre, qui, d'ailleurs, dedaignait de leur repondre. Le commandant Farragut ne se contentait plus de tordre sa barbiche, il la mordait.\",\n",
       " '',\n",
       " \"L'ingenieur fut encore une fois appele.\",\n",
       " '',\n",
       " '\\\\xab Vous avez atteint votre maximum de pression ? Lui demanda le commandant.',\n",
       " '',\n",
       " \"- Oui, monsieur, repondit l'ingenieur.\",\n",
       " '',\n",
       " '- Et vos soupapes sont chargees ?\\\\u2026',\n",
       " '',\n",
       " '- \\\\xc0 six atmospheres et demie.',\n",
       " '',\n",
       " '- Chargez-les a dix atmospheres. \\\\xbb',\n",
       " '',\n",
       " \"Voila un ordre americain s'il en fut. On n'e\\\\xfbt pas mieux fait sur le Mississippi pour distancer une \\\\xab concurrence \\\\xbb !\",\n",
       " '',\n",
       " '\\\\xab Conseil, dis-je a mon brave serviteur qui se trouvait pres de moi, sais-tu bien que nous allons probablement sauter ?',\n",
       " '',\n",
       " '- Comme il plaira a monsieur ! \\\\xbb repondit Conseil.',\n",
       " '',\n",
       " \"Eh bien ! je l'avouerai, cette chance, il ne me deplaisait pas de la risquer.\",\n",
       " '',\n",
       " \"Les soupapes furent chargees. Le charbon s'engouffra dans les fourneaux. Les ventilateurs envoyerent des torrents d'air sur les brasiers. La rapidite de l'Abraham-Lincoln s'accrut. Ses m\\\\xe2ts tremblaient jusque dans leurs emplantures, et les tourbillons de fumee pouvaient a peine trouver passage par les cheminees trop etroites.\",\n",
       " '',\n",
       " 'On jeta le loch une seconde fois.',\n",
       " '',\n",
       " '\\\\xab Eh bien ! timonier ? demanda le commandant Farragut.',\n",
       " '',\n",
       " '- Dix neuf milles trois dixiemes, monsieur.',\n",
       " '',\n",
       " '- Forcez les feux. \\\\xbb',\n",
       " '',\n",
       " \"L'ingenieur obeit. Le manometre marqua dix atmospheres. Mais le cetace \\\\xab chauffa \\\\xbb lui aussi, sans doute, car, sans se g\\\\xeaner, il fila ses dix-neuf milles et trois dixiemes.\",\n",
       " '',\n",
       " \"Quelle poursuite ! Non, je ne puis decrire l'emotion qui faisait vibrer tout mon \\\\xeatre. Ned Land se tenait a son poste, le harpon a la main. Plusieurs fois, l'animal se laissa approcher.\",\n",
       " '',\n",
       " \"\\\\xab Nous le gagnons ! nous le gagnons ! \\\\xbb s'ecria le Canadien.\",\n",
       " '',\n",
       " \"Puis, au moment o\\\\xf9 il se disposait a frapper, le cetace se derobait avec une rapidite que je ne puis estimer a moins de trente milles a l'heure. Et m\\\\xeame, pendant notre maximum de vitesse, ne se permit-il pas de narguer la fregate en en faisant le tour ! Un cri de fureur s'echappa de toutes les poitrines !\",\n",
       " '',\n",
       " \"\\\\xc0 midi, nous n'etions pas plus avances qu'a huit heures du matin.\",\n",
       " '',\n",
       " 'Le commandant Farragut se decida alors a employer des moyens plus directs.',\n",
       " '',\n",
       " \"\\\\xab Ah ! dit-il, cet animal-la va plus vite que l'Abraham-Lincoln ! Eh bien ! nous allons voir s'il distancera ses boulets coniques. Ma\\\\xeetre, des hommes a la piece de l'avant. \\\\xbb\",\n",
       " '',\n",
       " 'Le canon de gaillard fut immediatement charge et braque. Le coup partit, mais le boulet passa a quelques pieds au-dessus du cetace, qui se tenait a un demi-mille.',\n",
       " '',\n",
       " '\\\\xab A un autre plus adroit ! cria le commandant, et cinq cents dollars a qui percera cette infernale b\\\\xeate ! \\\\xbb',\n",
       " '',\n",
       " \"Un vieux canonnier a barbe grise. Un vieux canonnier a barbe grise, - que je vois encore, - l'\\\\u0153il calme, la physionomie froide, s'approcha de sa piece, la mit en position et visa longtemps. Une forte detonation eclata, a laquelle se m\\\\xealerent les hurrahs de l'equipage.\",\n",
       " '',\n",
       " \"Le boulet atteignit son but, il frappa l'animal, mais non pas normalement, et glissant sur sa surface arrondie, il alla se perdre a deux milles en mer.\",\n",
       " '',\n",
       " '\\\\xab Ah ca ! dit le vieux canonnier, rageant, ce gueux-la est donc blinde avec des plaques de six pouces !',\n",
       " '',\n",
       " \"- Malediction ! \\\\xbb s'ecria le commandant Farragut.\",\n",
       " '',\n",
       " 'La chasse recommenca, et le commandant Farragut se penchant vers moi, me dit :',\n",
       " '',\n",
       " \"\\\\xab Je poursuivrai l'animal jusqu'a ce que ma fregate eclate !\",\n",
       " '',\n",
       " '- Oui, repondis-je, et vous aurez raison ! \\\\xbb',\n",
       " '',\n",
       " \"On pouvait esperer que l'animal s'epuiserait, et qu'il ne serait pas\",\n",
       " '',\n",
       " \"indifferent a la fatigue comme une machine a vapeur. Mais il n'en fut rien. Les heures s'ecoulerent, sans qu'il donn\\\\xe2t aucun signe d'epuisement.\",\n",
       " '',\n",
       " \"Cependant, il faut dire a la louange de l'Abraham-Lincoln qu'il lutta avec une infatigable tenacite. Je n'estime pas a moins de cinq cents kilometres la distance qu'il parcourut pendant cette malencontreuse journee du 6 novembre ! Mais la nuit vint et enveloppa de ses ombres le houleux ocean.\",\n",
       " '',\n",
       " 'En ce moment, je crus que notre expedition etait terminee, et que nous ne reverrions plus jamais le fantastique animal. Je me trompais.',\n",
       " '',\n",
       " '\\\\xc0 dix heures cinquante minutes du soir, la clarte electrique reapparut, a trois milles au vent de la fregate, aussi pure, aussi intense que pendant la nuit derniere.',\n",
       " '',\n",
       " \"Le narwal semblait immobile. Peut-\\\\xeatre, fatigue de sa journee, dormait-il, se laissant aller a l'ondulation des lames ? Il y avait la une chance dont le commandant Farragut resolut de profiter.\",\n",
       " '',\n",
       " \"Il donna ses ordres. L'Abraham-Lincoln fut tenu sous petite vapeur, et s'avanca prudemment pour ne pas eveiller son adversaire. Il n'est pas rare de rencontrer en plein ocean des baleines profondement endormies que l'on attaque alors avec succes, et Ned Land en avait harponne plus d'une pendant son sommeil. Le Canadien alla reprendre son poste dans les sous-barbes du beaupre.\",\n",
       " '',\n",
       " \"La fregate s'approcha sans bruit, stoppa a deux encablures de l'animal, et courut sur son erre. On ne respirait plus a bord. Un silence profond regnait sur le pont. Nous n'etions pas a cent pieds du foyer ardent, dont l'eclat grandissait et eblouissait nos yeux.\",\n",
       " '',\n",
       " \"En ce moment, penche sur la lisse du gaillard d'avant, je voyais au-dessous de moi Ned Land, accroche d'une main a la martingale, de l'autre brandissant son terrible harpon. Vingt pieds a peine le separaient de l'animal immobile.\",\n",
       " '',\n",
       " \"Tout d'un coup, son bras se detendit violemment, et le harpon fut lance. J'entendis le choc sonore de l'arme, qui semblait avoir heurte un corps dur.\",\n",
       " '',\n",
       " \"La clarte electrique s'eteignit soudain, et deux enormes trombes d'eau s'abattirent sur le pont de la fregate, courant comme un torrent de l'avant a l'arriere, renversant les hommes, brisant les saisines des dromes.\",\n",
       " '',\n",
       " 'Un choc effroyable se produisit, et, lance par-dessus la lisse, sans avoir le temps de me retenir, je fus precipite a la mer.',\n",
       " '',\n",
       " '',\n",
       " '',\n",
       " '',\n",
       " '',\n",
       " 'CHAPITRE VII',\n",
       " '',\n",
       " '',\n",
       " '',\n",
       " \"UNE BALEINE D'ESPECE INCONNUE.\",\n",
       " '',\n",
       " '',\n",
       " '',\n",
       " '',\n",
       " '',\n",
       " \"Bien que j'eusse ete surpris par cette chute inattendue, je n'en conservai pas moins une impression tres-nette de mes sensations.\",\n",
       " '',\n",
       " \"Je fus d'abord entra\\\\xeene a une profondeur de vingt pieds environ. Je suis bon nageur, sans pretendre egaler Byron et Edgar Poe, qui sont des ma\\\\xeetres, et ce plongeon ne me fit point perdre la t\\\\xeate. Deux vigoureux coups de talons me ramenerent a la surface de la mer.\",\n",
       " '',\n",
       " \"Mon premier soin fut de chercher des yeux la fregate. L'equipage s'etait-il apercu de ma disparition ? L'Abraham-Lincoln avait-il vire de bord ? Le commandant Farragut mettait-il une embarcation a la mer ? Devais-je esperer d'\\\\xeatre sauve ?\",\n",
       " '',\n",
       " \"Les tenebres etaient profondes. J'entrevis une masse noire qui disparaissait vers l'est, et dont les feux de position s'eteignirent dans l'eloignement. C'etait la fregate. Je me sentis perdu.\",\n",
       " '',\n",
       " \"\\\\xab \\\\xc0 moi ! a moi ! \\\\xbb criai-je, en nageant vers l'Abraham-Lincoln d'un bras desespere.\",\n",
       " '',\n",
       " \"Mes v\\\\xeatements m'embarrassaient. L'eau les collait a mon corps, ils paralysaient mes mouvements. Je coulais ! je suffoquais !\\\\u2026\",\n",
       " '',\n",
       " '\\\\xab \\\\xc0 moi ! \\\\xbb',\n",
       " '',\n",
       " \"Ce fut le dernier cri que je jetai. Ma bouche s'emplit d'eau. Je me debattis, entra\\\\xeene dans l'ab\\\\xeeme\\\\u2026\",\n",
       " '',\n",
       " \"Soudain, mes habits furent saisis par une main vigoureuse, je me sentis violemment ramene a la surface de la mer, et j'entendis, oui, j'entendis ces paroles prononcees a mon oreille :\",\n",
       " '',\n",
       " \"\\\\xab Si monsieur veut avoir l'extr\\\\xeame obligeance de s'appuyer sur mon epaule, monsieur nagera beaucoup plus a son aise. \\\\xbb\",\n",
       " '',\n",
       " \"Je saisis d'une main le bras de mon fidele Conseil.\",\n",
       " '',\n",
       " '\\\\xab Toi ! dis-je, toi !',\n",
       " '',\n",
       " '- Moi-m\\\\xeame, repondit Conseil, et aux ordres de monsieur.',\n",
       " '',\n",
       " \"- Et ce choc t'a precipite en m\\\\xeame temps que moi a la mer ?\",\n",
       " '',\n",
       " \"- Nullement. Mais etant au service de monsieur, j'ai suivi monsieur ! \\\\xbb\",\n",
       " '',\n",
       " 'Le digne garcon trouvait cela tout naturel !',\n",
       " '',\n",
       " '\\\\xab Et la fregate ? demandai-je.',\n",
       " '',\n",
       " '- La fregate ! repondit Conseil en se retournant sur le dos, je crois que monsieur fera bien de ne pas trop compter sur elle !',\n",
       " '',\n",
       " '- Tu dis ?',\n",
       " '',\n",
       " \"- Je dis qu'au moment o\\\\xf9 je me precipitai a la mer, j'entendis les hommes de barre s'ecrier : \\\\xab L'helice et le gouvernail sont brises\\\\u2026 \\\\xbb\",\n",
       " '',\n",
       " '- Brises ?',\n",
       " '',\n",
       " \"- Oui ! brises par la dent du monstre. C'est la seule avarie, je pense, que l'Abraham-Lincoln ait eprouvee. Mais, circonstance f\\\\xe2cheuse pour nous, il ne gouverne plus.\",\n",
       " '',\n",
       " '- Alors, nous sommes perdus !',\n",
       " '',\n",
       " '- Peut-\\\\xeatre, repondit tranquillement Conseil. Cependant, nous avons encore quelques heures devant nous, et en quelques heures, on fait bien des choses ! \\\\xbb',\n",
       " '',\n",
       " \"L'imperturbable sang-froid de Conseil me remonta. Je nageai plus vigoureusement ; mais, g\\\\xeane par mes v\\\\xeatements qui me serraient comme une chape de plomb, j'eprouvais une extr\\\\xeame difficulte a me soutenir. Conseil s'en apercut.\",\n",
       " '',\n",
       " '\\\\xab Que monsieur me permette de lui faire une incision \\\\xbb, dit-il.',\n",
       " '',\n",
       " \"Et glissant un couteau ouvert sous mes habits, il les fendit de haut en bas d'un coup rapide. Puis, il m'en debarrassa lestement, tandis que je nageais pour tous deux.\",\n",
       " '',\n",
       " \"\\\\xc0 mon tour, je rendis le m\\\\xeame service a Conseil, et nous continu\\\\xe2mes de \\\\xab naviguer \\\\xbb l'un pres de l'autre.\",\n",
       " '',\n",
       " \"Cependant, la situation n'en etait pas moins terrible. Peut-\\\\xeatre notre disparition n'avait-elle pas ete remarquee, et l'e\\\\xfbt-elle ete, la fregate ne pouvait revenir sous le vent a nous, etant demontee de son gouvernail. Il ne fallait donc compter que sur ses embarcations.\",\n",
       " '',\n",
       " 'Conseil raisonna froidement dans cette hypothese et fit son plan en consequence. Etonnante nature ! Ce phlegmatique garcon etait la comme chez lui !',\n",
       " '',\n",
       " \"Pendant que l'un de nous, etendu sur le dos.\",\n",
       " '',\n",
       " \"Il fut donc decide que notre seule chance de salut etant d'\\\\xeatre recueillis par les embarcations de l'Abraham-Lincoln, nous devions nous organiser de maniere a les attendre le plus longtemps possible. Je resolus alors de diviser nos forces afin de ne pas les epuiser simultanement, et voici ce qui fut convenu : pendant que l'un de nous, etendu sur le dos, se tiendrait, immobile, les bras croises, les jambes allongees, l'autre nagerait et le pousserait en avant. Ce r\\\\xf4le de remorqueur ne devait pas durer plus de dix minutes, et nous relayant ainsi, nous pouvions surnager pendant quelques heures, et peut-\\\\xeatre jusqu'au lever du jour.\",\n",
       " '',\n",
       " \"Faible chance ! mais l'espoir est si fortement enracine au c\\\\u0153ur de l'homme ! Puis, nous etions deux. Enfin je l'affirme bien que cela paraisse improbable, - si je cherchais a detruire en moi toute illusion, si je voulais \\\\xab desesperer \\\\xbb, je ne le pouvais pas !\",\n",
       " '',\n",
       " \"La collision de la fregate et du cetace s'etait produite vers onze heures du soir environ. Je comptais donc sur huit heures de nage jusqu'au lever du soleil. Operation rigoureusement praticable, en nous relayant. La mer assez belle, nous fatiguait peu. Parfois, je cherchais a percer du regard ces epaisses tenebres que rompait seule la phosphorescence provoquee par nos mouvements. Je regardais ces ondes lumineuses qui se brisaient sur ma main et dont la nappe miroitante se tachait de plaques livides. On e\\\\xfbt dit que nous etions plonges dans un bain de mercure.\",\n",
       " '',\n",
       " \"Vers une heure du matin, je fus pris d'une extr\\\\xeame fatigue. Mes membres se raidirent sous l'etreinte de crampes violentes. Conseil dut me soutenir, et le soin de notre conservation reposa sur lui seul. J'entendis bient\\\\xf4t haleter le pauvre garcon ; sa respiration devint courte et pressee. Je compris qu'il ne pouvait resister longtemps.\",\n",
       " '',\n",
       " '\\\\xab Laisse-moi ! laisse-moi ! lui dis-je.',\n",
       " '',\n",
       " '- Abandonner monsieur ! jamais ! repondit-il. Je compte bien me noyer avant lui ! \\\\xbb',\n",
       " '',\n",
       " \"En ce moment, la lune apparut a travers les franges d'un gros nuage que le vent entra\\\\xeenait dans l'est. La surface de la mer etincela sous ses rayons. Cette bienfaisante lumiere ranima nos forces. Ma t\\\\xeate se redressa. Mes regards se porterent a tous les points de l'horizon. J'apercus la fregate. Elle etait a cinq mille de nous, et ne formait plus qu'une masse sombre, a peine appreciable ! Mais d'embarcations, point !\",\n",
       " '',\n",
       " \"Je voulus crier. \\\\xc0 quoi bon, a pareille distance ! Mes levres gonflees ne laisserent passer aucun son. Conseil put articuler quelques mots, et je l'entendis repeter a plusieurs reprises :\",\n",
       " '',\n",
       " '\\\\xab \\\\xc0 nous ! a nous ! \\\\xbb',\n",
       " '',\n",
       " \"Nos mouvements un instant suspendus, nous ecout\\\\xe2mes. Et, f\\\\xfbt-ce un de ces bourdonnements dont le sang oppresse emplit l'oreille, mais il me sembla qu'un cri repondait au cri de Conseil.\",\n",
       " '',\n",
       " '\\\\xab As-tu entendu ? murmurai-je.',\n",
       " '',\n",
       " '- Oui ! oui ! \\\\xbb',\n",
       " '',\n",
       " \"Et Conseil jeta dans l'espace un nouvel appel desespere.\",\n",
       " '',\n",
       " \"Cette fois, pas d'erreur possible ! Une voix humaine repondait a la n\\\\xf4tre ! Etait-ce la voix de quelque infortune, abandonne au milieu de l'Ocean, quelque autre victime du choc eprouve par le navire ? Ou plut\\\\xf4t une embarcation de la fregate ne nous helait-elle pas dans l'ombre ?\",\n",
       " '',\n",
       " \"Conseil fit un supr\\\\xeame effort, et, s'appuyant sur mon epaule, tandis que je resistais dans une derniere convulsion, il se dressa a demi hors de l'eau et retomba epuise.\",\n",
       " '',\n",
       " \"\\\\xab Qu'as-tu vu ?\",\n",
       " '',\n",
       " \"- J'ai vu\\\\u2026 murmura-t-il, j'ai vu\\\\u2026 mais ne parlons pas\\\\u2026 gardons toutes nos forces !\\\\u2026 \\\\xbb\",\n",
       " '',\n",
       " \"Qu'avait-il vu ? Alors, je ne sais pourquoi, la pensee du monstre me vint pour la premiere fois a l'esprit !\\\\u2026 Mais cette voix cependant ?\\\\u2026 Les temps ne sont plus o\\\\xf9 les Jonas se refugient dans le ventre des baleines !\",\n",
       " '',\n",
       " \"Pourtant, Conseil me remorquait encore. Il relevait parfois la t\\\\xeate, regardait devant lui, et jetait un cri de reconnaissance auquel repondait une voix de plus en plus rapprochee. Je l'entendais a peine. Mes forces etaient a bout ; mes doigts s'ecartaient ; ma main ne me fournissait plus un point d'appui ; ma bouche, convulsivement ouverte, s'emplissait d'eau salee ; le froid m'envahissait. Je relevai la t\\\\xeate une derniere fois, puis, je m'ab\\\\xeemai\\\\u2026\",\n",
       " '',\n",
       " \"En cet instant, un corps dur me heurta. Je m'y cramponnai. Puis, je sentis qu'on me retirait, qu'on me ramenait a la surface de l'eau, que ma poitrine se degonflait, et je m'evanouis\\\\u2026\",\n",
       " '',\n",
       " \"Il est certain que je revins promptement a moi, gr\\\\xe2ce a de vigoureuses frictions qui me sillonnerent le corps. J'entr'ouvris les yeux\\\\u2026\",\n",
       " '',\n",
       " '\\\\xab Conseil ! murmurai-je.',\n",
       " '',\n",
       " \"- Monsieur m'a sonne ? \\\\xbb repondit Conseil.\",\n",
       " '',\n",
       " \"En ce moment, aux dernieres clartes de la lune qui s'abaissait vers l'horizon, j'apercus une figure qui n'etait pas celle de Conseil, et que je reconnus aussit\\\\xf4t.\",\n",
       " '',\n",
       " \"\\\\xab Ned ! m'ecriai-je.\",\n",
       " '',\n",
       " ...]"
      ]
     },
     "execution_count": 596,
     "metadata": {},
     "output_type": "execute_result"
    }
   ],
   "source": [
    "sanlines"
   ]
  },
  {
   "cell_type": "code",
   "execution_count": 45,
   "id": "fc5738c4-53f3-4032-be67-542062bee298",
   "metadata": {},
   "outputs": [],
   "source": [
    "reflowedBook = []"
   ]
  },
  {
   "cell_type": "code",
   "execution_count": 46,
   "id": "41eaea18-ce02-4715-9dde-b0c134e634cd",
   "metadata": {
    "scrolled": true
   },
   "outputs": [],
   "source": [
    "lenDisplay = 58\n",
    "\n",
    "for line in sanlines:\n",
    "    lenLine = len(line)\n",
    "    \n",
    "    if len(line) < lenDisplay:\n",
    "        reflowedBook.append(line)\n",
    "    else:\n",
    "        sublines = [ line[i:i+lenDisplay] for i in range(0, lenLine, lenDisplay) ]\n",
    "        for subline in sublines:\n",
    "            reflowedBook.append(subline)"
   ]
  },
  {
   "cell_type": "code",
   "execution_count": 618,
   "id": "de2b4c42-d32a-4072-b734-53491c6f0985",
   "metadata": {
    "collapsed": true,
    "jupyter": {
     "outputs_hidden": true
    },
    "scrolled": true
   },
   "outputs": [
    {
     "data": {
      "text/plain": [
       "['Vingt mille lieues sous les mers',\n",
       " '',\n",
       " '',\n",
       " 'Jules Verne',\n",
       " '',\n",
       " '',\n",
       " '',\n",
       " '',\n",
       " '',\n",
       " 'J. Hetzel, Paris, 1870',\n",
       " '',\n",
       " '',\n",
       " '',\n",
       " '',\n",
       " '',\n",
       " 'Exporte de Wikisource le 22 octobre 2023',\n",
       " '',\n",
       " '',\n",
       " '',\n",
       " '',\n",
       " '',\n",
       " 'VINGT MILLE LIEUES',\n",
       " '',\n",
       " '',\n",
       " '',\n",
       " 'SOUS',\n",
       " '',\n",
       " '',\n",
       " '',\n",
       " 'LES MERS',\n",
       " '',\n",
       " '',\n",
       " '',\n",
       " '- LES VOYAGES EXTRAORDINAIRES -',\n",
       " '',\n",
       " '',\n",
       " '',\n",
       " '',\n",
       " '',\n",
       " '- J. HETZEL, EDITEUR -',\n",
       " '',\n",
       " \"Ouvrage couronne par l'Academie francaise.\",\n",
       " '',\n",
       " '',\n",
       " '',\n",
       " '* * *',\n",
       " '',\n",
       " '',\n",
       " '',\n",
       " '',\n",
       " '',\n",
       " 'JULES VERNE',\n",
       " '',\n",
       " '',\n",
       " '',\n",
       " '',\n",
       " '',\n",
       " '* * *',\n",
       " '',\n",
       " '',\n",
       " '',\n",
       " '',\n",
       " '',\n",
       " 'vingt mille lieues',\n",
       " '',\n",
       " '',\n",
       " '',\n",
       " '',\n",
       " '',\n",
       " 'SOUS',\n",
       " '',\n",
       " '',\n",
       " '',\n",
       " '',\n",
       " '',\n",
       " 'LES MERS',\n",
       " '',\n",
       " '',\n",
       " '',\n",
       " '',\n",
       " '',\n",
       " 'ILLUSTRE DE',\n",
       " '',\n",
       " '',\n",
       " '',\n",
       " '',\n",
       " '',\n",
       " '111 DESSINS PAR DE NEUVILLE ET RIOU',\n",
       " '',\n",
       " '',\n",
       " '',\n",
       " '',\n",
       " '',\n",
       " 'GRAVES PAR HILDIBRAND.',\n",
       " '',\n",
       " '',\n",
       " '',\n",
       " '',\n",
       " '',\n",
       " 'BIBLIOTHEQUE',\n",
       " '',\n",
       " '',\n",
       " '',\n",
       " '',\n",
       " '',\n",
       " \"D'EDUCATION ET DE RECREATION\",\n",
       " '',\n",
       " '',\n",
       " '',\n",
       " '',\n",
       " '',\n",
       " 'J. HETZEL ET CIE, 18, RUE JACOB',\n",
       " '',\n",
       " '',\n",
       " '',\n",
       " '',\n",
       " '',\n",
       " 'PARIS',\n",
       " '',\n",
       " '',\n",
       " '',\n",
       " '* * *',\n",
       " '',\n",
       " '',\n",
       " '',\n",
       " '',\n",
       " 'Tous droits de traduction et de reproduction reserves.',\n",
       " '',\n",
       " '',\n",
       " '',\n",
       " '',\n",
       " '',\n",
       " 'CHAPITRE PREMIER',\n",
       " '',\n",
       " '',\n",
       " '',\n",
       " 'UN ECUEIL FUYANT.',\n",
       " '',\n",
       " '',\n",
       " '',\n",
       " '',\n",
       " '',\n",
       " \"L'annee 1866 fut marquee par un evenement bizarre, un phen\",\n",
       " \"omene inexplique et inexplicable que personne n'a sans dou\",\n",
       " 'te oublie. Sans parler des rumeurs qui agitaient les popul',\n",
       " \"ations des ports et surexcitaient l'esprit public a l'inte\",\n",
       " 'rieur des continents, les gens de mer furent particulierem',\n",
       " 'ent emus. Les negociants, armateurs, capitaines de navires',\n",
       " \", skippers et masters de l'Europe et de l'Amerique, offici\",\n",
       " 'ers des marines militaires de tous pays, et, apres eux, le',\n",
       " 's gouvernements des divers Etats des deux continents, se p',\n",
       " 'reoccuperent de ce fait au plus haut point.',\n",
       " '',\n",
       " \"En effet, depuis quelque temps, plusieurs navires s'etaien\",\n",
       " 't rencontres sur mer avec \\\\xab une chose enorme, \\\\xbb un o',\n",
       " 'bjet long, fusiforme, parfois phosphorescent, infiniment p',\n",
       " \"lus vaste et plus rapide qu'une baleine.\",\n",
       " '',\n",
       " 'Les faits relatifs a cette apparition, consignes aux diver',\n",
       " \"s livres de bord, s'accordaient assez exactement sur la st\",\n",
       " \"ructure de l'objet ou de l'\\\\xeatre en question, la vitesse\",\n",
       " ' inou\\\\xefe de ses mouvements, la puissance surprenante de ',\n",
       " 'sa locomotion, la vie particuliere dont il semblait doue. ',\n",
       " \"Si c'etait un cetace, il surpassait en volume tous ceux qu\",\n",
       " \"e la science avait classes jusqu'alors. Ni Cuvier, ni Lace\",\n",
       " \"pede, ni M. Dumeril, ni M. de Quatrefages n'eussent admis \",\n",
       " \"l'existence d'un tel monstre - a moins de l'avoir vu, ce q\",\n",
       " \"ui s'appelle vu de leurs propres yeux de savants.\",\n",
       " '',\n",
       " '\\\\xc0 prendre la moyenne des observations faites a diverses',\n",
       " ' reprises, - en rejetant les evaluations timides qui assig',\n",
       " 'naient a cet objet une longueur de deux cents pieds, et en',\n",
       " ' repoussant les opinions exagerees qui le disaient large d',\n",
       " \"'un mille et long de trois, - on pouvait affirmer, cependa\",\n",
       " 'nt, que cet \\\\xeatre phenomenal depassait de beaucoup toute',\n",
       " \"s les dimensions admises jusqu'a ce jour par les ichthyolo\",\n",
       " \"gistes, - s'il existait toutefois.\",\n",
       " '',\n",
       " \"Or, il existait, le fait en lui-m\\\\xeame n'etait plus niabl\",\n",
       " 'e, et, avec ce penchant qui pousse au merveilleux la cerve',\n",
       " \"lle humaine, on comprendra l'emotion produite dans le mond\",\n",
       " 'e entier par cette surnaturelle apparition. Quant a la rej',\n",
       " 'eter au rang des fables, il fallait y renoncer.',\n",
       " '',\n",
       " 'En effet, le 20 juillet 1866, le steamer Governor-Higginso',\n",
       " 'n, de Calcutta and Burnach steam navigation Company, avait',\n",
       " \" rencontre cette masse mouvante a cinq milles dans l'est d\",\n",
       " \"es c\\\\xf4tes de l'Australie. Le capitaine Baker se crut, to\",\n",
       " \"ut d'abord, en presence d'un ecueil inconnu ; il se dispos\",\n",
       " 'ait m\\\\xeame a en determiner la situation exacte, quand deu',\n",
       " \"x colonnes d'eau, projetees par l'inexplicable objet, s'el\",\n",
       " \"ancerent en sifflant a cent cinquante pieds dans l'air. Do\",\n",
       " 'nc, a moins que cet ecueil ne f\\\\xfbt soumis aux expansions',\n",
       " \" intermittentes d'un geyser, le Governor-Higginson avait a\",\n",
       " 'ffaire bel et bien a quelque mammifere aquatique, inconnu ',\n",
       " \"jusque-la, qui rejetait par ses events des colonnes d'eau,\",\n",
       " \" melangees d'air et de vapeur.\",\n",
       " '',\n",
       " 'Pareil fait fut egalement observe le 23 juillet de la m\\\\xe',\n",
       " 'ame annee, dans les mers du Pacifique, par le Cristobal-Co',\n",
       " 'lon, de West India and Pacific steam navigation Company. D',\n",
       " \"onc, ce cetace extraordinaire pouvait se transporter d'un \",\n",
       " 'endroit a un autre avec une velocite surprenante, puisque ',\n",
       " \"a trois jours d'intervalle, le Governor-Higginson et le Cr\",\n",
       " \"istobal-Colon l'avaient observe en deux points de la carte\",\n",
       " ' separes par une distance de plus de sept cents lieues mar',\n",
       " 'ines.',\n",
       " '',\n",
       " \"Quinze jours plus tard, a deux mille lieues de la, l'Helve\",\n",
       " 'tia, de la Compagnie Nationale, et le Shannon, du Royal-Ma',\n",
       " \"il, marchant a contrebord dans cette portion de l'Atlantiq\",\n",
       " \"ue comprise entre les Etats-Unis et l'Europe, se signalere\",\n",
       " 'nt respectivement le monstre par 42\\\\xb0 15\\\\u2032 de latitu',\n",
       " \"de nord, et 60\\\\xb0 35\\\\u2032 de longitude a l'ouest du meri\",\n",
       " 'dien de Greenwich. Dans cette observation simultanee, on c',\n",
       " 'rut pouvoir evaluer la longueur minimum du mammifere a plu',\n",
       " 's de trois cent cinquante pieds anglais [1], puisque le Sh',\n",
       " \"annon et l'Helvetia etaient de dimension inferieure a lui,\",\n",
       " \" bien qu'ils mesurassent cent metres de l'etrave a l'etamb\",\n",
       " 'ot. Or, les plus vastes baleines, celles qui frequentent l',\n",
       " \"es parages des \\\\xeeles Aleoutiennes, le Kulammak et l'Umgu\",\n",
       " \"llick, n'ont jamais depasse la longueur de cinquante-six m\",\n",
       " \"etres, - si m\\\\xeame elles l'atteignent.\",\n",
       " '',\n",
       " 'Ces rapports arrives coup sur coup, de nouvelles observati',\n",
       " 'ons faites a bord du transatlantique le Pereire, un aborda',\n",
       " \"ge entre l'Etna, de la ligne Inman, et le monstre, un proc\",\n",
       " 'es-verbal dresse par les officiers de la fregate francaise',\n",
       " \" la Normandie, un tres serieux relevement obtenu par l'eta\",\n",
       " 't-major du commodore Fitz-James a bord du Lord-Clyde, emur',\n",
       " \"ent profondement l'opinion publique. Dans les pays d'humeu\",\n",
       " 'r legere, on plaisanta le phenomene, mais les pays graves ',\n",
       " \"et pratiques, l'Angleterre, l'Amerique, l'Allemagne, s'en \",\n",
       " 'preoccuperent vivement.',\n",
       " '',\n",
       " 'Partout dans les grands centres, le monstre devint a la mo',\n",
       " 'de ; on le chanta dans les cafes, on le bafoua dans les jo',\n",
       " 'urnaux, on le joua sur les the\\\\xe2tres. Les canards eurent',\n",
       " ' la une belle occasion de pondre des \\\\u0153ufs de toute co',\n",
       " 'uleur. On vit reappara\\\\xeetre dans les journaux - a court ',\n",
       " 'de copie - tous les \\\\xeatres imaginaires et gigantesques, ',\n",
       " 'depuis la baleine blanche, le terrible \\\\xab Moby Dick \\\\xbb',\n",
       " \" des regions hyperboreennes, jusqu'au Kraken demesure, don\",\n",
       " 't les tentacules peuvent enlacer un b\\\\xe2timent de cinq ce',\n",
       " \"nts tonneaux et l'entra\\\\xeener dans les ab\\\\xeemes de l'Oce\",\n",
       " 'an. On reproduisit m\\\\xeame les proces-verbaux des temps an',\n",
       " \"ciens les opinions d'Aristote et de Pline, qui admettaient\",\n",
       " \" l'existence de ces monstres, puis les recits norwegiens d\",\n",
       " \"e l'ev\\\\xeaque Pontoppidan, les relations de Paul Heggede, \",\n",
       " 'et enfin les rapports de M. Harrington, dont la bonne foi ',\n",
       " 'ne peut \\\\xeatre soupconnee, quand il affirme avoir vu, eta',\n",
       " \"nt a bord du Castillan, en 1857, cet enorme serpent qui n'\",\n",
       " \"avait jamais frequente jusqu'alors que les mers de l'ancie\",\n",
       " 'n Constitutionnel.',\n",
       " '',\n",
       " \"Alors eclata l'interminable polemique des credules et des \",\n",
       " 'incredules dans les societes savantes et les journaux scie',\n",
       " 'ntifiques. La \\\\xab question du monstre \\\\xbb enflamma les e',\n",
       " 'sprits. Les journalistes, qui font profession de science e',\n",
       " \"n lutte avec ceux qui font profession d'esprit, verserent \",\n",
       " \"des flots d'encre pendant cette memorable campagne ; quelq\",\n",
       " 'ues-uns m\\\\xeame, deux ou trois gouttes de sang, car du ser',\n",
       " 'pent de mer, ils en vinrent aux personnalites les plus off',\n",
       " 'ensantes.',\n",
       " '',\n",
       " 'Six mois durant, la guerre se poursuivit avec des chances ',\n",
       " \"diverses. Aux articles de fond de l'Institut geographique \",\n",
       " \"du Bresil, de l'Academie royale des sciences de Berlin, de\",\n",
       " \" l'Association Britannique, de l'Institution Smithsonnienn\",\n",
       " 'e de Washington, aux discussions du The Indian Archipelago',\n",
       " \", du Cosmos de l'abbe Moigno, des Mittheilungen de Peterma\",\n",
       " 'nn, aux chroniques scientifiques des grands journaux de la',\n",
       " \" France et de l'etranger, la petite presse ripostait avec \",\n",
       " 'une verve intarissable. Ses spirituels ecrivains parodiant',\n",
       " ' un mot de Linne, cite par les adversaires du monstre, sou',\n",
       " 'tinrent en effet que \\\\xab la nature ne faisait pas de sots',\n",
       " ' \\\\xbb, et ils adjurerent leurs contemporains de ne point d',\n",
       " \"onner un dementi a la nature, en admettant l'existence des\",\n",
       " ' Krakens, des serpents de mer, des \\\\xab Moby Dick \\\\xbb, et',\n",
       " ' autres elucubrations de marins en delire. Enfin, dans un ',\n",
       " \"article d'un journal satirique tres-redoute, le plus aime \",\n",
       " 'de ses redacteurs, brochant sur le tout, poussa au monstre',\n",
       " \", comme Hippolyte, lui porta un dernier coup et l'acheva a\",\n",
       " \"u milieu d'un eclat de rire universel. L'esprit avait vain\",\n",
       " 'cu la science.',\n",
       " '',\n",
       " \"Pendant les premiers mois de l'annee 1867, la question par\",\n",
       " 'ut \\\\xeatre enterree, et elle ne semblait pas devoir rena\\\\x',\n",
       " 'eetre, quand de nouveaux faits furent portes a la connaiss',\n",
       " \"ance du public. Il ne s'agit plus alors d'un probleme scie\",\n",
       " \"ntifique a resoudre, mais bien d'un danger reel, serieux a\",\n",
       " ' eviter. La question prit une tout autre face. Le monstre ',\n",
       " 'redevint \\\\xeelot, rocher, ecueil, mais ecueil fuyant, inde',\n",
       " 'terminable, insaisissable.',\n",
       " '',\n",
       " 'Le 5 mars 1867, le Moravian, de Montreal Ocean Company, se',\n",
       " ' trouvant pendant la nuit par 27\\\\xb0 30\\\\u2032 de latitude ',\n",
       " 'et 72\\\\xb0 15\\\\u2032 de longitude, heurta de sa hanche de tr',\n",
       " \"ibord un roc qu'aucune carte ne marquait dans ces parages.\",\n",
       " \" Sous l'effort combine du vent et de ses quatre cents chev\",\n",
       " 'aux-vapeur, il marchait a la vitesse de treize n\\\\u0153uds.',\n",
       " ' Nul doute que sans la qualite superieure de sa coque, le ',\n",
       " 'Moravian, ouvert au choc, ne se f\\\\xfbt englouti avec les d',\n",
       " \"eux cent trente-sept passagers qu'il ramenait du Canada.\",\n",
       " '',\n",
       " \"L'accident etait arrive vers cinq heures du matin, lorsque\",\n",
       " ' le jour commencait a poindre. Les officiers de quart se p',\n",
       " \"recipiterent a l'arriere du b\\\\xe2timent. Ils examinerent l\",\n",
       " \"'Ocean avec la plus scrupuleuse attention. Ils ne virent r\",\n",
       " \"ien, si ce n'est un fort remous qui brisait a trois encabl\",\n",
       " 'ures, comme si les nappes liquides eussent ete violemment ',\n",
       " 'battues. Le relevement du lieu fut exactement pris, et le ',\n",
       " 'Moravian continua sa route sans avaries apparentes. Avait-',\n",
       " 'il heurte une roche sous-marine, ou quelque enorme epave d',\n",
       " \"'un naufrage ? On ne put le savoir ; mais, examen fait de \",\n",
       " \"sa carene dans les bassins de radoub, il fut reconnu qu'un\",\n",
       " 'e partie de la quille avait ete brisee.',\n",
       " '',\n",
       " 'Ce fait, extr\\\\xeamement grave en lui-m\\\\xeame, e\\\\xfbt peut-',\n",
       " \"\\\\xeatre ete oublie comme tant d'autres, si, trois semaines\",\n",
       " ' apres, il ne se f\\\\xfbt reproduit dans des conditions iden',\n",
       " 'tiques. Seulement, gr\\\\xe2ce a la nationalite du navire vic',\n",
       " 'time de ce nouvel abordage, gr\\\\xe2ce a la reputation de la',\n",
       " \" Compagnie a laquelle ce navire appartenait, l'evenement e\",\n",
       " 'ut un retentissement immense.',\n",
       " '',\n",
       " \"Personne n'ignore le nom du celebre armateur anglais Cunar\",\n",
       " 'd. Cet intelligent industriel fonda, en 1840, un service p',\n",
       " 'ostal entre Liverpool et Halifax, avec trois navires en bo',\n",
       " \"is et a roues d'une force de quatre cents chevaux, et d'un\",\n",
       " 'e jauge de onze cent soixante-deux tonneaux. Huit ans apre',\n",
       " \"s, le materiel de la Compagnie s'accroissait de quatre nav\",\n",
       " 'ires de six cent cinquante chevaux et de dix-huit cent vin',\n",
       " 'gt tonnes, et, deux ans plus tard, de deux autres b\\\\xe2tim',\n",
       " 'ents superieurs en puissance et en tonnage. En 1853, la co',\n",
       " 'mpagnie Cunard, dont le privilege pour le transport des de',\n",
       " \"p\\\\xeaches venait d'\\\\xeatre renouvele, ajouta successivemen\",\n",
       " \"t a son materiel l'Arabia, le Persia, le China, le Scotia,\",\n",
       " ' le Java, le Russia, tous navires de premiere marche, et l',\n",
       " 'es plus vastes qui, apres le Great-Eastern, eussent jamais',\n",
       " ' sillonne les mers. Ainsi donc, en 1867, la Compagnie poss',\n",
       " 'edait douze navires, dont huit a roues et quatre a helices',\n",
       " '.',\n",
       " '',\n",
       " \"Si je donne ces details tres succincts, c'est afin que cha\",\n",
       " \"cun sache bien quelle est l'importance de cette compagnie \",\n",
       " 'de transports maritimes, connue du monde entier pour son i',\n",
       " 'ntelligente gestion. Nulle entreprise de navigation transo',\n",
       " \"ceanienne n'a ete conduite avec plus d'habilete ; nulle af\",\n",
       " \"faire n'a ete couronnee de plus de succes. Depuis vingt-si\",\n",
       " \"x ans, les navires Cunard ont traverse deux mille fois l'A\",\n",
       " \"tlantique, et jamais un voyage n'a ete manque, jamais un r\",\n",
       " \"etard n'a eu lieu, jamais ni une lettre, ni un homme, ni u\",\n",
       " \"n b\\\\xe2timent n'ont ete perdus. Aussi, les passagers chois\",\n",
       " 'issent-ils encore, malgre la concurrence puissante que lui',\n",
       " ' fait la France, la ligne Cunard de preference a toute aut',\n",
       " \"re, ainsi qu'il appert d'un releve fait sur les documents \",\n",
       " \"officiels des dernieres annees. Ceci dit, personne ne s'et\",\n",
       " \"onnera du retentissement que provoqua l'accident arrive a \",\n",
       " \"l'un de ses plus beaux steamers.\",\n",
       " '',\n",
       " 'Le 13 avril 1867, la mer etant belle, la brise maniable, l',\n",
       " 'e Scotia se trouvait par 15\\\\xb0 12\\\\u2032 de longitude et 4',\n",
       " '5\\\\xb0 37\\\\u2032 de latitude. Il marchait avec une vitesse d',\n",
       " 'e treize n\\\\u0153uds quarante-trois centiemes sous la pouss',\n",
       " 'ee de ses mille chevaux-vapeur. Ses roues battaient la mer',\n",
       " \" avec une regularite parfaite. Son tirant d'eau etait alor\",\n",
       " 's de six metres soixante-dix centimetres, et son deplaceme',\n",
       " 'nt de six mille six cent vingt-quatre metres cubes.',\n",
       " '',\n",
       " '\\\\xc0 quatre heures dix-sept minutes du soir, pendant le lu',\n",
       " 'nch des passagers reunis dans le grand salon, un choc, peu',\n",
       " ' sensible, en somme, se produisit sur la coque du Scotia, ',\n",
       " 'par sa hanche et un peu en arriere de la roue de b\\\\xe2bord',\n",
       " '.',\n",
       " '',\n",
       " \"Le Scotia n'avait pas heurte, il avait ete heurte, et plut\",\n",
       " '\\\\xf4t par un instrument tranchant ou perforant que contond',\n",
       " \"ant. L'abordage avait semble si leger que personne ne s'en\",\n",
       " ' f\\\\xfbt inquiete a bord, sans le cri des caliers qui remon',\n",
       " \"terent sur le pont en s'ecriant :\",\n",
       " '',\n",
       " '\\\\xab Nous coulons ! nous coulons ! \\\\xbb',\n",
       " '',\n",
       " \"Tout d'abord, les passagers furent tres-effrayes ; mais le\",\n",
       " ' capitaine Anderson se h\\\\xe2ta de les rassurer. En effet, ',\n",
       " 'le danger ne pouvait \\\\xeatre imminent. Le Scotia, divise e',\n",
       " 'n sept compartiments par des cloisons etanches, devait bra',\n",
       " \"ver impunement une voie d'eau.\",\n",
       " '',\n",
       " 'Le capitaine Anderson se rendit immediatement dans la cale',\n",
       " '. Il reconnut que le cinquieme compartiment avait ete enva',\n",
       " \"hi par la mer, et la rapidite de l'envahissement prouvait \",\n",
       " \"que la voie d'eau etait considerable. Fort heureusement, c\",\n",
       " 'e compartiment ne renfermait pas les chaudieres, car les f',\n",
       " 'eux se fussent subitement eteints.',\n",
       " '',\n",
       " \"Le capitaine Anderson fit stopper immediatement, et l'un d\",\n",
       " \"es matelots plongea pour reconna\\\\xeetre l'avarie. Quelques\",\n",
       " \" instants apres, on constatait l'existence d'un trou large\",\n",
       " ' de deux metres dans la carene du steamer. Une telle voie ',\n",
       " \"d'eau ne pouvait \\\\xeatre aveuglee, et le Scotia, ses roues\",\n",
       " ' a demi noyees, dut continuer ainsi son voyage. Il se trou',\n",
       " 'vait alors a trois cent mille du cap Clear, et apres trois',\n",
       " \" jours d'un retard qui inquieta vivement Liverpool, il ent\",\n",
       " 'ra dans les bassins de la Compagnie.',\n",
       " '',\n",
       " 'Les ingenieurs procederent alors a la visite du Scotia, qu',\n",
       " 'i fut mis en cale seche. Ils ne purent en croire leurs yeu',\n",
       " \"x. \\\\xc0 deux metres et demi au-dessous de la flottaison s'\",\n",
       " 'ouvrait une dechirure reguliere, en forme de triangle isoc',\n",
       " \"ele. La cassure de la t\\\\xf4le etait d'une nettete parfaite\",\n",
       " \", et elle n'e\\\\xfbt pas ete frappee plus s\\\\xfbrement a l'em\",\n",
       " \"porte-piece. Il fallait donc que l'outil perforant qui l'a\",\n",
       " \"vait produite f\\\\xfbt d'une trempe peu commune - et apres a\",\n",
       " 'voir ete lance avec une force prodigieuse, ayant ainsi per',\n",
       " 'ce une t\\\\xf4le de quatre centimetres, il avait d\\\\xfb se re',\n",
       " 'tirer de lui-m\\\\xeame par un mouvement retrograde et vraime',\n",
       " 'nt inexplicable.',\n",
       " '',\n",
       " 'Les ingenieurs procederent a la visite du Scotia Tel etait',\n",
       " ' ce dernier fait, qui eut pour resultat de passionner a no',\n",
       " \"uveau l'opinion publique. Depuis ce moment, en effet, les \",\n",
       " \"sinistres maritimes qui n'avaient pas de cause determinee \",\n",
       " 'furent mis sur le compte du monstre. Ce fantastique animal',\n",
       " ' endossa la responsabilite de tous ces naufrages, dont le ',\n",
       " 'nombre est malheureusement considerable ; car sur trois mi',\n",
       " 'lle navires dont la perte est annuellement relevee au Bure',\n",
       " 'au-Veritas, le chiffre des navires a vapeur ou a voiles, s',\n",
       " \"upposes perdus corps et biens par suite d'absence de nouve\",\n",
       " \"lles, ne s'eleve pas a moins de deux cents !\",\n",
       " '',\n",
       " 'Or, ce fut le \\\\xab monstre \\\\xbb qui, justement ou injustem',\n",
       " 'ent, fut accuse de leur disparition, et, gr\\\\xe2ce a lui, l',\n",
       " 'es communications entre les divers continents devenant de ',\n",
       " 'plus en plus dangereuses, le public se declara et demanda ',\n",
       " 'categoriquement que les mers fussent enfin debarrassees et',\n",
       " ' a tout prix de ce formidable cetace.',\n",
       " '',\n",
       " '',\n",
       " '',\n",
       " '',\n",
       " '',\n",
       " 'CHAPITRE II',\n",
       " '',\n",
       " '',\n",
       " '',\n",
       " 'LE POUR ET LE CONTRE.',\n",
       " '',\n",
       " '',\n",
       " '',\n",
       " '',\n",
       " '',\n",
       " \"\\\\xc0 l'epoque o\\\\xf9 ces evenements se produisirent, je rev\",\n",
       " \"enais d'une exploration scientifique entreprise dans les m\",\n",
       " 'auvaises terres du Nebraska, aux Etats-Unis. En ma qualite',\n",
       " \" de professeur-suppleant au Museum d'histoire naturelle de\",\n",
       " \" Paris, le gouvernement francais m'avait joint a cette exp\",\n",
       " 'edition. Apres six mois passes dans le Nebraska, charge de',\n",
       " \" precieuses collections, j'arrivai a New York vers la fin \",\n",
       " 'de mars. Mon depart pour la France etait fixe aux premiers',\n",
       " \" jours de mai. Je m'occupais donc, en attendant, de classe\",\n",
       " 'r mes richesses mineralogiques, botaniques et zoologiques,',\n",
       " \" quand arriva l'incident du Scotia.\",\n",
       " '',\n",
       " \"J'etais parfaitement au courant de la question a l'ordre d\",\n",
       " \"u jour, et comment ne l'aurais-je pas ete ? J'avais lu et \",\n",
       " 'relu tous les journaux americains et europeens sans \\\\xeatr',\n",
       " \"e plus avance. Ce mystere m'intriguait. Dans l'impossibili\",\n",
       " \"te de me former une opinion, je flottais d'un extr\\\\xeame a\",\n",
       " \" l'autre. Qu'il y eut quelque chose, cela ne pouvait \\\\xeat\",\n",
       " 're douteux, et les incredules etaient invites a mettre le ',\n",
       " 'doigt sur la plaie du Scotia.',\n",
       " '',\n",
       " \"\\\\xc0 mon arrivee a New York, la question br\\\\xfblait. L'hyp\",\n",
       " \"othese de l'\\\\xeelot flottant, de l'ecueil insaisissable, s\",\n",
       " 'outenue par quelques esprits peu competents, etait absolum',\n",
       " \"ent abandonnee. Et, en effet, a moins que cet ecueil n'e\\\\x\",\n",
       " 'fbt une machine dans le ventre, comment pouvait-il se depl',\n",
       " 'acer avec une rapidite si prodigieuse ?',\n",
       " '',\n",
       " \"De m\\\\xeame fut repoussee l'existence d'une coque flottante\",\n",
       " \", d'une enorme epave, et toujours a cause de la rapidite d\",\n",
       " 'u deplacement.',\n",
       " '',\n",
       " 'Restaient donc deux solutions possibles de la question, qu',\n",
       " \"i creaient deux clans tres-distincts de partisans : d'un c\",\n",
       " \"\\\\xf4te, ceux qui tenaient pour un monstre d'une force colo\",\n",
       " \"ssale ; de l'autre, ceux qui tenaient pour un bateau \\\\xab \",\n",
       " \"sous-marin \\\\xbb d'une extr\\\\xeame puissance motrice.\",\n",
       " '',\n",
       " 'Or, cette derniere hypothese, admissible apres tout, ne pu',\n",
       " 't resister aux enqu\\\\xeates qui furent poursuivies dans les',\n",
       " \" deux mondes. Qu'un simple particulier e\\\\xfbt a sa disposi\",\n",
       " \"tion un tel engin mecanique, c'etait peu probable. O\\\\xf9 e\",\n",
       " \"t quand l'eut-il fait construire, et comment aurait-il ten\",\n",
       " 'u cette construction secrete ?',\n",
       " '',\n",
       " 'Seul, un gouvernement pouvait posseder une pareille machin',\n",
       " \"e destructive et, en ces temps desastreux o\\\\xf9 l'homme s'\",\n",
       " 'ingenie a multiplier la puissance des armes de guerre, il ',\n",
       " \"etait possible qu'un Etat essay\\\\xe2t a l'insu des autres c\",\n",
       " 'e formidable engin. Apres les chassepots, les torpilles, a',\n",
       " 'pres les torpilles, les beliers sous-marins, puis, - la re',\n",
       " \"action. Du moins, je l'espere.\",\n",
       " '',\n",
       " \"Mais l'hypothese d'une machine de guerre tomba encore deva\",\n",
       " \"nt la declaration des gouvernements. Comme il s'agissait l\",\n",
       " \"a d'un inter\\\\xeat public, puisque les communications trans\",\n",
       " 'oceaniennes en souffraient, la franchise des gouvernements',\n",
       " \" ne pouvait \\\\xeatre mise en doute. D'ailleurs, comment adm\",\n",
       " 'ettre que la construction de ce bateau sous-marin e\\\\xfbt e',\n",
       " 'chappe aux yeux du public ? Garder le secret dans ces circ',\n",
       " 'onstances est tres-difficile pour un particulier, et certa',\n",
       " 'inement impossible pour un Etat dont tous les actes sont o',\n",
       " 'bstinement surveilles par les puissances rivales.',\n",
       " '',\n",
       " 'Donc, apres enqu\\\\xeates faites en Angleterre, en France, e',\n",
       " 'n Russie, en Prusse, en Espagne, en Italie, en Amerique, v',\n",
       " \"oire m\\\\xeame en Turquie, l'hypothese d'un Monitor sous-mar\",\n",
       " 'in fut definitivement rejetee.',\n",
       " '',\n",
       " 'Le monstre revint donc a flots, en depit des incessantes p',\n",
       " 'laisanteries dont le lardait la petite presse, et dans cet',\n",
       " 'te voie, les imaginations se laisserent bient\\\\xf4t aller a',\n",
       " \"ux plus absurdes r\\\\xeaveries d'une ichthyologie fantastiqu\",\n",
       " 'e.',\n",
       " '',\n",
       " \"\\\\xc0 mon arrivee a New-York, plusieurs personnes m'avaient\",\n",
       " \" fait l'honneur de me consulter sur le phenomene en questi\",\n",
       " \"on. J'avais publie en France un ouvrage in-quarto en deux \",\n",
       " 'volumes intitule : Les Mysteres des grands fonds sous-mari',\n",
       " 'ns. Ce livre, particulierement go\\\\xfbte du monde savant, f',\n",
       " 'aisait de moi un specialiste dans cette partie assez obscu',\n",
       " \"re de l'histoire naturelle. Mon avis me fut demande. Tant \",\n",
       " 'que je pus nier la realite du fait, je me renfermai dans u',\n",
       " 'ne absolue negation. Mais bient\\\\xf4t, colle au mur, je dus',\n",
       " \" m'expliquer categoriquement. Et m\\\\xeame, \\\\xab l'honorable\",\n",
       " ' Pierre Aronnax, professeur au Museum de Paris \\\\xbb, fut m',\n",
       " 'is en demeure par le New-York-Herald de formuler une opini',\n",
       " 'on quelconque.',\n",
       " '',\n",
       " \"Je m'executai. Je parlai faute de pouvoir me taire. Je dis\",\n",
       " 'cutai la question sous toutes ses faces, politiquement et ',\n",
       " \"scientifiquement, et je donne ici un extrait d'un article \",\n",
       " 'tres-nourri que je publiai dans le numero du 30 avril.',\n",
       " '',\n",
       " '\\\\xab Ainsi donc, disais-je, apres avoir examine une a une ',\n",
       " 'les diverses hypotheses, toute autre supposition etant rej',\n",
       " \"etee, il faut necessairement admettre l'existence d'un ani\",\n",
       " \"mal marin d'une puissance excessive.\",\n",
       " '',\n",
       " \"\\\\xab Les grandes profondeurs de l'Ocean nous sont totaleme\",\n",
       " \"nt inconnues. La sonde n'a su les atteindre. Que se passe-\",\n",
       " 't-il dans ces ab\\\\xeemes recules ? Quels \\\\xeatres habitent ',\n",
       " 'et peuvent habiter a douze ou quinze milles au-dessous de ',\n",
       " \"la surface des eaux ? Quel est l'organisme de ces animaux \",\n",
       " '? On saurait a peine le conjecturer.',\n",
       " '',\n",
       " \"\\\\xab Cependant, la solution du probleme qui m'est soumis p\",\n",
       " 'eut affecter la forme du dilemme.',\n",
       " '',\n",
       " \"\\\\xab Ou nous connaissons toutes les varietes d'\\\\xeatres qu\",\n",
       " 'i peuplent notre planete, ou nous ne les connaissons pas.',\n",
       " '',\n",
       " '\\\\xab Si nous ne les connaissons pas toutes, si la nature a',\n",
       " ' encore des secrets pour nous en ichthyologie, rien de plu',\n",
       " \"s acceptable que d'admettre l'existence de poissons ou de \",\n",
       " \"cetaces, d'especes ou m\\\\xeame de genres nouveaux, d'une or\",\n",
       " 'ganisation essentiellement \\\\xab fondriere \\\\xbb, qui habite',\n",
       " \"nt les couches inaccessibles a la sonde, et qu'un evenemen\",\n",
       " \"t quelconque, une fantaisie, un caprice, si l'on veut, ram\",\n",
       " \"ene a de longs intervalles vers le niveau superieur de l'O\",\n",
       " 'cean.',\n",
       " '',\n",
       " '\\\\xab Si, au contraire, nous connaissons toutes les especes',\n",
       " \" vivantes, il faut necessairement chercher l'animal en que\",\n",
       " 'stion parmi les \\\\xeatres marins deja catalogues, et dans c',\n",
       " \"e cas, je serai dispose a admettre l'existence d'un Narwal\",\n",
       " ' geant.',\n",
       " '',\n",
       " '\\\\xab Le narwal vulgaire ou licorne de mer atteint souvent ',\n",
       " 'une longueur de soixante pieds. Quintuplez, decuplez m\\\\xea',\n",
       " 'me cette dimension, donnez a ce cetace une force proportio',\n",
       " 'nnelle a sa taille, accroissez ses armes offensives, et vo',\n",
       " \"us obtenez l'animal voulu. Il aura les proportions determi\",\n",
       " \"nees par les Officiers du Shannon, l'instrument exige par \",\n",
       " 'la perforation du Scotia, et la puissance necessaire pour ',\n",
       " \"entamer la coque d'un steamer.\",\n",
       " '',\n",
       " \"\\\\xab En effet, le narwal est arme d'une sorte d'epee d'ivo\",\n",
       " \"ire, d'une hallebarde, suivant l'expression de certains na\",\n",
       " \"turalistes. C'est une dent principale qui a la durete de l\",\n",
       " \"'acier. On a trouve quelques-unes de ces dents implantees \",\n",
       " 'dans le corps des baleines que le narwal attaque toujours ',\n",
       " \"avec succes. D'autres ont ete arrachees, non sans peine, d\",\n",
       " \"e carenes de vaisseaux qu'elles avaient percees d'outre en\",\n",
       " ' outre, comme un foret perce un tonneau. Le musee de la Fa',\n",
       " 'culte de medecine de Paris possede une de ces defenses lon',\n",
       " 'gue de deux metres vingt-cinq centimetres, et large de qua',\n",
       " 'rante-huit centimetres a sa base !',\n",
       " '',\n",
       " \"\\\\xab Eh bien ! supposez l'arme dix fois plus forte, et l'a\",\n",
       " 'nimal dix fois plus puissant, lancez-le avec une rapidite ',\n",
       " \"de vingt milles a l'heure, multipliez sa masse par sa vite\",\n",
       " 'sse, et vous obtenez un choc capable de produire la catast',\n",
       " 'rophe demandee.',\n",
       " '',\n",
       " \"\\\\xab Donc, jusqu'a plus amples informations, j'opinerais p\",\n",
       " 'our une licorne de mer, de dimensions colossales, armee, n',\n",
       " \"on plus d'une hallebarde, mais d'un veritable eperon comme\",\n",
       " ' les fregates cuirassees ou les \\\\xab rams \\\\xbb de guerre, ',\n",
       " 'dont elle aurait a la fois la masse et la puissance motric',\n",
       " 'e.',\n",
       " '',\n",
       " \"\\\\xab Ainsi s'expliquerait ce phenomene inexplicable - a mo\",\n",
       " \"ins qu'il n'y ait rien, en depit de ce qu'on a entrevu, vu\",\n",
       " ', senti et ressenti - ce qui est encore possible ! \\\\xbb',\n",
       " '',\n",
       " 'Ces derniers mots etaient une l\\\\xe2chete de ma part ; mais',\n",
       " \" je voulais jusqu'a un certain point couvrir ma dignite de\",\n",
       " ' professeur, et ne pas trop pr\\\\xeater a rire aux Americain',\n",
       " 's, qui rient bien, quand ils rient. Je me reservais une ec',\n",
       " \"happatoire. Au fond, j'admettais l'existence du \\\\xab monst\",\n",
       " 're \\\\xbb.',\n",
       " '',\n",
       " 'Mon article fut chaudement discute, ce qui lui valut un gr',\n",
       " 'and retentissement. Il rallia un certain nombre de partisa',\n",
       " \"ns. La solution qu'il proposait, d'ailleurs, laissait libr\",\n",
       " \"e carriere a l'imagination. L'esprit humain se pla\\\\xeet a \",\n",
       " \"ces conceptions grandioses d'\\\\xeatres surnaturels. Or la m\",\n",
       " 'er est precisement leur meilleur vehicule, le seul milieu ',\n",
       " 'o\\\\xf9 ces geants, - pres desquels les animaux terrestres, ',\n",
       " 'elephants ou rhinoceros, ne sont que des nains - puissent ',\n",
       " 'se produire et se developper. Les masses liquides transpor',\n",
       " 'tent les plus grandes especes connues de mammiferes, et pe',\n",
       " \"ut-\\\\xeatre recelent-elles des mollusques d'une incomparabl\",\n",
       " 'e taille, des crustaces effrayants a contempler, tels que ',\n",
       " 'seraient des homards de cent metres ou des crabes pesant d',\n",
       " 'eux cents tonnes ! Pourquoi non ? Autrefois, les animaux t',\n",
       " 'errestres, contemporains des epoques geologiques, les quad',\n",
       " 'rupedes, les quadrumanes, les reptiles, les oiseaux etaien',\n",
       " 't construits sur des gabarits gigantesques. Le Createur le',\n",
       " 's avait jetes dans un moule colossal que le temps a reduit',\n",
       " ' peu a peu. Pourquoi la mer, dans ses profondeurs ignorees',\n",
       " \", n'aurait-elle pas garde ces vastes echantillons de la vi\",\n",
       " \"e d'un autre \\\\xe2ge, elle qui ne se modifie jamais. alors \",\n",
       " 'que le noyau terrestre change presque incessamment ? Pourq',\n",
       " 'uoi ne cacherait-elle pas dans son sein les dernieres vari',\n",
       " 'etes de ces especes titanesques, dont les annees sont des ',\n",
       " 'siecles, et les siecles des millenaires ?',\n",
       " '',\n",
       " \"Mais je me laisse entra\\\\xeener a des r\\\\xeaveries qu'il ne \",\n",
       " \"m'appartient plus d'entretenir ! Tr\\\\xeave a ces chimeres q\",\n",
       " 'ue le temps a changees pour moi en realites terribles. Je ',\n",
       " \"le repete, l'opinion se fit alors sur la nature du phenome\",\n",
       " \"ne, et le public admit sans conteste l'existence d'un \\\\xea\",\n",
       " \"tre prodigieux qui n'avait rien de commun avec les fabuleu\",\n",
       " 'x serpents de mer.',\n",
       " '',\n",
       " \"Mais si les uns ne virent la qu'un probleme purement scien\",\n",
       " 'tifique a resoudre, les autres, plus positifs, surtout en ',\n",
       " \"Amerique et en Angleterre, furent d'avis de purger l'Ocean\",\n",
       " ' de ce redoutable monstre, afin de rassurer les communicat',\n",
       " 'ions transoceaniennes. Les journaux industriels et commerc',\n",
       " 'iaux traiterent la question principalement a ce point de v',\n",
       " 'ue. La Shipping and Mercantile Gazette, le Lloyd, le Paque',\n",
       " 'bot, la Revue maritime et coloniale, toutes les feuilles d',\n",
       " \"evouees aux Compagnies d'assurances qui menacaient d'eleve\",\n",
       " 'r le taux de leurs primes, furent unanimes sur ce point.',\n",
       " '',\n",
       " \"L'opinion publique s'etant prononcee, les Etats de l'Union\",\n",
       " ' se declarerent les premiers. On fit a New York les prepar',\n",
       " \"atifs d'une expedition destinee a poursuivre le narwal. Un\",\n",
       " \"e fregate de grande marche, l'Abraham-Lincoln, se mit en m\",\n",
       " 'esure de prendre la mer au plus t\\\\xf4t. Les arsenaux furen',\n",
       " \"t ouverts au commandant Farragut, qui pressa activement l'\",\n",
       " 'armement de sa fregate.',\n",
       " '',\n",
       " \"La fregate l'Abraham Lincoln Precisement, et ainsi que cel\",\n",
       " \"a arrive toujours, du moment que l'on se fut decide a pour\",\n",
       " 'suivre le monstre, le monstre ne reparut plus. Pendant deu',\n",
       " \"x mois, personne n'en entendit parler. Aucun navire ne le \",\n",
       " 'rencontra. Il semblait que cette Licorne e\\\\xfbt connaissan',\n",
       " 'ce des complots qui se tramaient contre elle. On en avait ',\n",
       " 'tant cause, et m\\\\xeame par le c\\\\xe2ble transatlantique ! A',\n",
       " 'ussi les plaisants pretendaient-ils que cette fine mouche ',\n",
       " 'avait arr\\\\xeate au passage quelque telegramme dont elle fa',\n",
       " 'isait maintenant son profit.',\n",
       " '',\n",
       " 'Donc, la fregate armee pour une campagne lointaine et pour',\n",
       " 'vue de formidables engins de p\\\\xeache, on ne savait plus o',\n",
       " \"\\\\xf9 la diriger. Et l'impatience allait croissant, quand, \",\n",
       " \"le 2 juillet, on apprit qu'un steamer de la ligne de San-F\",\n",
       " \"rancisco de Californie a Shanga\\\\xef avait revu l'animal, t\",\n",
       " 'rois semaines auparavant, dans les mers septentrionales du',\n",
       " ' Pacifique.',\n",
       " '',\n",
       " \"L'emotion causee par cette nouvelle fut extr\\\\xeame. On n'a\",\n",
       " 'ccorda pas vingt-quatre heures de repit au commandant Farr',\n",
       " 'agut. Ses vivres etaient embarques. Ses soutes regorgeaien',\n",
       " \"t de charbon. Pas un homme ne manquait a son r\\\\xf4le d'equ\",\n",
       " \"ipage. Il n'avait qu'a allumer ses fourneaux, a chauffer, \",\n",
       " 'a demarrer ! On ne lui e\\\\xfbt pas pardonne une demi-journe',\n",
       " \"e de retard ! D'ailleurs, le commandant Farragut ne demand\",\n",
       " \"ait qu'a partir.\",\n",
       " '',\n",
       " \"Trois heures avant que l'Abraham-Lincoln ne quitt\\\\xe2t la \",\n",
       " 'pier de Brooklyn, je recus une lettre libellee en ces term',\n",
       " 'es :',\n",
       " '',\n",
       " '\\\\xab Monsieur Aronnax, professeur au Museum de Paris,',\n",
       " '',\n",
       " 'Fifth Avenue hotel.',\n",
       " '',\n",
       " '',\n",
       " '',\n",
       " '',\n",
       " '',\n",
       " 'New York.',\n",
       " '',\n",
       " 'Monsieur,',\n",
       " '',\n",
       " \"Si vous voulez vous joindre a l'expedition de l'Abraham-Li\",\n",
       " \"ncoln, le gouvernement de l'Union verra avec plaisir que l\",\n",
       " 'a France soit representee par vous dans cette entreprise. ',\n",
       " 'Le commandant Farragut tient une cabine a votre dispositio',\n",
       " 'n.',\n",
       " '',\n",
       " 'Tres-cordialement, votre',\n",
       " '',\n",
       " 'J.-B. Hobson,',\n",
       " '',\n",
       " 'Secretaire de la marine. \\\\xbb',\n",
       " '',\n",
       " '',\n",
       " '',\n",
       " '',\n",
       " '',\n",
       " 'CHAPITRE III',\n",
       " '',\n",
       " '',\n",
       " '',\n",
       " 'COMME IL PLAIRA \\\\xc0 MONSIEUR.',\n",
       " '',\n",
       " '',\n",
       " '',\n",
       " '',\n",
       " '',\n",
       " \"Trois secondes avant l'arrivee de la lettre de J.-B. Hobso\",\n",
       " \"n, je ne songeais pas plus a poursuivre la Licorne qu'a te\",\n",
       " 'nter le passage du Nord-Ouest. Trois secondes apres avoir ',\n",
       " \"lu la lettre de l'honorable secretaire de la marine, je co\",\n",
       " \"mprenais enfin que ma veritable vocation, l'unique but de \",\n",
       " \"ma vie, etait de chasser ce monstre inquietant et d'en pur\",\n",
       " 'ger le monde.',\n",
       " '',\n",
       " \"Cependant, je revenais d'un penible voyage, fatigue, avide\",\n",
       " \" de repos. Je n'aspirais plus qu'a revoir mon pays, mes am\",\n",
       " 'is, mon petit logement du Jardin des Plantes, mes cheres e',\n",
       " \"t precieuses collections ! Mais rien ne put me retenir. J'\",\n",
       " \"oubliai tout, fatigues, amis, collections, et j'acceptai s\",\n",
       " \"ans plus de reflexions l'offre du gouvernement americain.\",\n",
       " '',\n",
       " \"\\\\xab D'ailleurs, pensai-je, tout chemin ramene en Europe, \",\n",
       " \"et la Licorne sera assez aimable pour m'entra\\\\xeener vers \",\n",
       " 'les c\\\\xf4tes de France ! Ce digne animal se laissera prend',\n",
       " \"re dans les mers d'Europe, - pour mon agrement personnel, \",\n",
       " \"- et je ne veux pas rapporter moins d'un demi metre de sa \",\n",
       " \"hallebarde d'ivoire au Museum d'histoire naturelle. \\\\xbb\",\n",
       " '',\n",
       " 'Mais, en attendant, il me fallait chercher ce narwal dans ',\n",
       " \"le nord de l'ocean Pacifique ; ce qui, pour revenir en Fra\",\n",
       " 'nce, etait prendre le chemin des antipodes.',\n",
       " '',\n",
       " \"\\\\xab Conseil ! \\\\xbb criai-je d'une voix impatiente.\",\n",
       " '',\n",
       " \"Conseil etait mon domestique. Un garcon devoue qui m'accom\",\n",
       " \"pagnait dans tous mes voyages ; un brave Flamand que j'aim\",\n",
       " 'ais et qui me le rendait bien, un \\\\xeatre phlegmatique par',\n",
       " \" nature, regulier par principe, zele par habitude, s'etonn\",\n",
       " 'ant peu des surprises de la vie, tres-adroit de ses mains,',\n",
       " ' apte a tout service, et, en depit de son nom, ne donnant ',\n",
       " 'jamais de conseils, - m\\\\xeame quand on ne lui en demandait',\n",
       " ' pas.',\n",
       " '',\n",
       " '\\\\xc0 se frotter aux savants de notre petit monde du Jardin',\n",
       " ' des Plantes, Conseil en etait venu a savoir quelque chose',\n",
       " \". J'avais en lui un specialiste, tres-ferre sur la classif\",\n",
       " 'ication en histoire naturelle, parcourant avec une agilite',\n",
       " \" d'acrobate toute l'echelle des embranchements, des groupe\",\n",
       " 's, des classes, des sous-classes, des ordres, des familles',\n",
       " ', des genres, des sous-genres, des especes et des varietes',\n",
       " \". Mais sa science s'arr\\\\xeatait la. Classer, c'etait sa vi\",\n",
       " \"e, et il n'en savait pas davantage. Tres verse dans la the\",\n",
       " \"orie de la classification, peu dans la pratique, il n'e\\\\xf\",\n",
       " \"bt pas distingue, je crois, un cachalot d'une baleine ! Et\",\n",
       " ' cependant, quel brave et digne garcon !',\n",
       " '',\n",
       " \"Conseil, jusqu'ici et depuis dix ans, m'avait suivi partou\",\n",
       " \"t o\\\\xf9 m'entra\\\\xeenait la science. Jamais une reflexion d\",\n",
       " \"e lui sur la longueur ou la fatigue d'un voyage. Nulle obj\",\n",
       " 'ection a boucler sa valise pour un pays quelconque, Chine ',\n",
       " \"ou Congo, si eloigne qu'il f\\\\xfbt. Il allait la comme ici,\",\n",
       " \" sans en demander davantage. D'ailleurs d'une belle sante \",\n",
       " 'qui defiait toutes les maladies ; des muscles solides, mai',\n",
       " \"s pas de nerfs, pas l'apparence de nerfs, - au moral, s'en\",\n",
       " 'tend.',\n",
       " '',\n",
       " 'Ce garcon avait trente ans, et son \\\\xe2ge etait a celui de',\n",
       " \" son ma\\\\xeetre comme quinze est a vingt. Qu'on m'excuse de\",\n",
       " \" dire ainsi que j'avais quarante ans.\",\n",
       " '',\n",
       " 'Seulement, Conseil avait un defaut. Formaliste enrage, il ',\n",
       " \"ne me parlait jamais qu'a la troisieme personne - au point\",\n",
       " \" d'en \\\\xeatre agacant.\",\n",
       " '',\n",
       " \"\\\\xab Conseil ! \\\\xbb repetai-je, tout en commencant d'une m\",\n",
       " 'ain febrile mes preparatifs de depart.',\n",
       " '',\n",
       " \"Certainement, j'etais s\\\\xfbr de ce garcon si devoue. D'ord\",\n",
       " \"inaire, je ne lui demandais jamais s'il lui convenait ou n\",\n",
       " \"on de me suivre dans mes voyages ; mais cette fois, il s'a\",\n",
       " \"gissait d'une expedition qui pouvait indefiniment se prolo\",\n",
       " \"nger, d'une entreprise hasardeuse, a la poursuite d'un ani\",\n",
       " 'mal capable de couler une fregate comme une coque de noix ',\n",
       " \"! Il y avait la matiere a reflexion, m\\\\xeame pour l'homme \",\n",
       " \"le plus impassible du monde ! Qu'allait dire Conseil ?\",\n",
       " '',\n",
       " '\\\\xab Conseil ! \\\\xbb criai-je une troisieme fois.',\n",
       " '',\n",
       " 'Conseil parut.',\n",
       " '',\n",
       " \"\\\\xab Monsieur m'appelle ? dit-il en entrant.\",\n",
       " '',\n",
       " '- Oui, mon garcon. Prepare-moi, prepare-toi. Nous partons ',\n",
       " 'dans deux heures.',\n",
       " '',\n",
       " '- Comme il plaira a monsieur, repondit tranquillement Cons',\n",
       " 'eil.',\n",
       " '',\n",
       " '- Pas un instant a perdre. Serre dans ma malle tous mes us',\n",
       " 'tensiles de voyage, des habits, des chemises, des chausset',\n",
       " 'tes, sans compter, mais le plus que tu pourras, et h\\\\xe2te',\n",
       " '-toi !',\n",
       " '',\n",
       " '- Et les collections de monsieur ? fit observer Conseil.',\n",
       " '',\n",
       " \"- On s'en occupera plus tard.\",\n",
       " '',\n",
       " '- Quoi ! les archiotherium, les hyracotherium, les oreodon',\n",
       " 's, les cheropotamus et autres carcasses de monsieur ?',\n",
       " '',\n",
       " \"- On les gardera a l'h\\\\xf4tel.\",\n",
       " '',\n",
       " '- Et le babiroussa vivant de monsieur ?',\n",
       " '',\n",
       " \"- On le nourrira pendant notre absence. D'ailleurs, je don\",\n",
       " \"nerai l'ordre de nous expedier en France notre menagerie.\",\n",
       " '',\n",
       " '- Nous ne retournons donc pas a Paris ? demanda Conseil.',\n",
       " '',\n",
       " '- Si\\\\u2026 certainement\\\\u2026 repondis-je evasivement, mai',\n",
       " 's en faisant un crochet.',\n",
       " '',\n",
       " '- Le crochet qui plaira a monsieur.',\n",
       " '',\n",
       " '- Oh ! ce sera peu de chose ! Un chemin un peu moins direc',\n",
       " \"t, voila tout. Nous prenons passage sur l'Abraham-Lincoln\\\\\",\n",
       " 'u2026',\n",
       " '',\n",
       " '- Comme il conviendra a monsieur, repondit paisiblement Co',\n",
       " 'nseil.',\n",
       " '',\n",
       " \"- Tu sais, mon ami, il s'agit du monstre\\\\u2026 du fameux n\",\n",
       " \"arwal\\\\u2026 Nous allons en purger les mers !\\\\u2026 L'auteu\",\n",
       " \"r d'un ouvrage in-quarto en deux volumes sur les Mysteres \",\n",
       " \"des grands fonds sous-marins ne peut se dispenser de s'emb\",\n",
       " 'arquer avec le commandant Farragut. Mission glorieuse, mai',\n",
       " \"s\\\\u2026 dangereuse aussi ! On ne sait pas o\\\\xf9 l'on va ! \",\n",
       " 'Ces b\\\\xeates-la peuvent \\\\xeatre tres-capricieuses ! Mais n',\n",
       " \"ous irons quand m\\\\xeame ! Nous avons un commandant qui n'a\",\n",
       " ' pas froid aux yeux !\\\\u2026',\n",
       " '',\n",
       " '- Comme fera monsieur, je ferai, repondit Conseil.',\n",
       " '',\n",
       " \"- Et songes-y bien ! car je ne veux rien te cacher. C'est \",\n",
       " 'la un de ces voyages dont on ne revient pas toujours !',\n",
       " '',\n",
       " '- Comme il plaira a monsieur. \\\\xbb',\n",
       " '',\n",
       " \"\\\\xab Comme il plaira a monsieur. \\\\xbb Un quart d'heure apr\",\n",
       " 'es, nos malles etaient pr\\\\xeates. Conseil avait fait en un',\n",
       " \" tour de main, et j'etais s\\\\xfbr que rien ne manquait, car\",\n",
       " ' ce garcon classait les chemises et les habits aussi bien ',\n",
       " 'que les oiseaux ou les mammiferes.',\n",
       " '',\n",
       " \"L'ascenseur de l'h\\\\xf4tel nous deposa au grand vestibule d\",\n",
       " \"e l'entresol. Je descendis les quelques marches qui condui\",\n",
       " 'saient au rez-de-chaussee. Je reglai ma note a ce vaste co',\n",
       " 'mptoir toujours assiege par une foule considerable. Je don',\n",
       " \"nai l'ordre d'expedier pour Paris (France) mes ballots d'a\",\n",
       " 'nimaux empailles et de plantes dessechees. Je fis ouvrir u',\n",
       " 'n credit suffisant au babiroussa, et, Conseil me suivant, ',\n",
       " 'je sautai dans une voiture.',\n",
       " '',\n",
       " 'Le vehicule a vingt francs la course descendit Broadway ju',\n",
       " \"squ'a Union-square, suivit Fourth-avenue jusqu'a sa joncti\",\n",
       " \"on avec Bowery-street, prit Katrin-street et s'arr\\\\xeata a\",\n",
       " ' la trente-quatrieme pier[2]. La, le Katrin-ferry-boat nou',\n",
       " 's transporta, hommes, chevaux et voiture, a Brooklyn, la g',\n",
       " 'rande annexe de New York, situee sur la rive gauche de la ',\n",
       " \"riviere de l'Est, et en quelques minutes, nous arrivions a\",\n",
       " \"u quai pres duquel l'Abraham-Lincoln vomissait par ses deu\",\n",
       " 'x cheminees des torrents de fumee noire.',\n",
       " '',\n",
       " 'Le cortege suivant toujours la fregate. Nos bagages furent',\n",
       " ' immediatement transbordes sur le pont de la fregate. Je m',\n",
       " 'e precipitai a bord. Je demandai le commandant Farragut. U',\n",
       " 'n des matelots me conduisit sur la dunette, o\\\\xf9 je me tr',\n",
       " \"ouvai en presence d'un officier de bonne mine qui me tendi\",\n",
       " 't la main.',\n",
       " '',\n",
       " '\\\\xab Monsieur Pierre Aronnax ? me dit-il.',\n",
       " '',\n",
       " '- Lui-m\\\\xeame, repondis-je. Le commandant Farragut ?',\n",
       " '',\n",
       " '- En personne. Soyez le bienvenu, monsieur le professeur. ',\n",
       " 'Votre cabine vous attend. \\\\xbb',\n",
       " '',\n",
       " 'Je saluai, et laissant le commandant aux soins de son appa',\n",
       " \"reillage, je me fis conduire a la cabine qui m'etait desti\",\n",
       " 'nee.',\n",
       " '',\n",
       " \"L'Abraham-Lincoln avait ete parfaitement choisi et amenage\",\n",
       " \" pour sa destination nouvelle. C'etait une fregate de gran\",\n",
       " \"de marche, munie d'appareils surchauffeurs, qui permettaie\",\n",
       " 'nt de porter a sept atmospheres la tension de sa vapeur. S',\n",
       " \"ous cette pression, l'Abraham-Lincoln atteignait une vites\",\n",
       " \"se moyenne de dix-huit milles et trois dixiemes a l'heure,\",\n",
       " ' vitesse considerable, mais cependant insuffisante pour lu',\n",
       " 'tter avec le gigantesque cetace.',\n",
       " '',\n",
       " 'Les amenagements interieurs de la fregate repondaient a se',\n",
       " 's qualites nautiques. Je fus tres-satisfait de ma cabine, ',\n",
       " \"situee a l'arriere, qui s'ouvrait sur le carre des officie\",\n",
       " 'rs.',\n",
       " '',\n",
       " '\\\\xab Nous serons bien ici, dis-je a Conseil.',\n",
       " '',\n",
       " \"- Aussi bien, n'en deplaise a monsieur, repondit Conseil, \",\n",
       " \"qu'un bernard-l'hermite dans la coquille d'un buccin. \\\\xbb\",\n",
       " '',\n",
       " 'Je laissai Conseil arrimer convenablement nos malles, et j',\n",
       " 'e remontai sur le pont afin de suivre les preparatifs de l',\n",
       " \"'appareillage.\",\n",
       " '',\n",
       " '\\\\xc0 ce moment, le commandant Farragut faisait larguer les',\n",
       " \" dernieres amarres qui retenaient l'Abraham-Lincoln a la p\",\n",
       " \"ier de Brooklyn. Ainsi donc, un quart d'heure de retard, m\",\n",
       " 'oins m\\\\xeame, et la fregate partait sans moi, et je manqua',\n",
       " 'is cette expedition extraordinaire, surnaturelle, invraise',\n",
       " 'mblable, dont le recit veridique pourra bien trouver cepen',\n",
       " 'dant quelques incredules.',\n",
       " '',\n",
       " 'Mais le commandant Farragut ne voulait perdre ni un jour, ',\n",
       " \"ni une heure pour rallier les mers dans lesquelles l'anima\",\n",
       " \"l venait d'\\\\xeatre signale. Il fit venir son ingenieur.\",\n",
       " '',\n",
       " '\\\\xab Sommes-nous en pression ? lui demanda-t-il.',\n",
       " '',\n",
       " \"- Oui, monsieur, repondit l'ingenieur.\",\n",
       " '',\n",
       " '- Go ahead \\\\xbb, cria le commandant Farragut.',\n",
       " '',\n",
       " \"\\\\xc0 cet ordre, qui fut transmis a la machine au moyen d'a\",\n",
       " 'ppareils a air comprime, les mecaniciens firent agir la ro',\n",
       " 'ue de la mise en train. La vapeur siffla en se precipitant',\n",
       " \" dans les tiroirs entr'ouverts. Les longs pistons horizont\",\n",
       " \"aux gemirent et pousserent les bielles de l'arbre. Les bra\",\n",
       " \"nches de l'helice battirent les flots avec une rapidite cr\",\n",
       " \"oissante, et l'Abraham-Lincoln s'avanca majestueusement au\",\n",
       " \" milieu d'une centaine de ferry-boats et de tenders[3] cha\",\n",
       " 'rges de spectateurs, qui lui faisaient cortege.',\n",
       " '',\n",
       " 'Les quais de Brooklyn et toute la partie de New York qui b',\n",
       " \"orde la riviere de l'Est etaient couverts de curieux. Troi\",\n",
       " 's hurrahs, partis de cinq cent mille poitrines, eclaterent',\n",
       " \" successivement. Des milliers de mouchoirs s'agiterent au-\",\n",
       " \"dessus de la masse compacte et saluerent l'Abraham-Lincoln\",\n",
       " \" jusqu'a son arrivee dans les eaux de l'Hudson, a la point\",\n",
       " \"e de cette presqu'\\\\xeele allongee qui forme la ville de Ne\",\n",
       " 'w York.',\n",
       " '',\n",
       " \"Alors, la fregate, suivant du c\\\\xf4te de New-Jersey l'admi\",\n",
       " 'rable rive droite du fleuve toute chargee de villas, passa',\n",
       " ' entre les forts qui la saluerent de leurs plus gros canon',\n",
       " \"s. L'Abraham-Lincoln repondit en amenant et en hissant tro\",\n",
       " 'is fois le pavillon americain, dont les trente-neuf etoile',\n",
       " \"s resplendissaient a sa corne d'artimon ; puis, modifiant \",\n",
       " ...]"
      ]
     },
     "execution_count": 618,
     "metadata": {},
     "output_type": "execute_result"
    }
   ],
   "source": [
    "reflowedBook"
   ]
  },
  {
   "cell_type": "code",
   "execution_count": 47,
   "id": "73e9e104-df71-4719-82e5-4b2c2a4393df",
   "metadata": {},
   "outputs": [
    {
     "data": {
      "text/plain": [
       "True"
      ]
     },
     "execution_count": 47,
     "metadata": {},
     "output_type": "execute_result"
    }
   ],
   "source": [
    "clear()\n",
    "\n",
    "firstLine = 168\n",
    "for i in range(0, 14):\n",
    "    drawText(20, 20 + i * 40, reflowedBook[firstLine + i])\n",
    "\n",
    "refresh()"
   ]
  },
  {
   "cell_type": "markdown",
   "id": "9ad62ece-f15c-4cb8-b425-5cc8ab659704",
   "metadata": {},
   "source": [
    "### Essai avec livre pré traité pour être ASCII"
   ]
  },
  {
   "cell_type": "code",
   "execution_count": 53,
   "id": "741fa9e8-e2a5-4788-809d-233be64cd06c",
   "metadata": {},
   "outputs": [],
   "source": [
    "lines = []\n",
    "with open('Verne_Vingtmillelieuessouslesmers.txt') as book:\n",
    "    lines = [line for line in book]"
   ]
  },
  {
   "cell_type": "code",
   "execution_count": 59,
   "id": "1c0b2ede-87dd-4973-a99e-481d51149a85",
   "metadata": {},
   "outputs": [],
   "source": [
    "def sanitize(line):\n",
    "    lineNoWhitespace = line.split()\n",
    "    lineSimpleWhitespace = ' '.join(lineNoWhitespace)\n",
    "    \n",
    "    return lineSimpleWhitespace"
   ]
  },
  {
   "cell_type": "code",
   "execution_count": 60,
   "id": "cff85690-cbf7-4bc2-9d06-3f50af3c967f",
   "metadata": {},
   "outputs": [],
   "source": [
    "sanlines = [ sanitize(line) for line in lines ]"
   ]
  },
  {
   "cell_type": "code",
   "execution_count": 67,
   "id": "099d03b4-b187-4e7d-af5d-5c342a60d871",
   "metadata": {},
   "outputs": [],
   "source": [
    "reflowedBook = []\n",
    "\n",
    "lenDisplay = 60\n",
    "\n",
    "for line in sanlines:\n",
    "    lenLine = len(line)\n",
    "    \n",
    "    if len(line) < lenDisplay:\n",
    "        reflowedBook.append(line)\n",
    "    else:\n",
    "        sublines = [ line[i:i+lenDisplay] for i in range(0, lenLine, lenDisplay) ]\n",
    "        for subline in sublines:\n",
    "            reflowedBook.append(subline)"
   ]
  },
  {
   "cell_type": "code",
   "execution_count": 68,
   "id": "2129016e-23b8-456a-9489-c9da5a8d206f",
   "metadata": {},
   "outputs": [
    {
     "data": {
      "text/plain": [
       "True"
      ]
     },
     "execution_count": 68,
     "metadata": {},
     "output_type": "execute_result"
    }
   ],
   "source": [
    "clear()\n",
    "\n",
    "firstLine = 169+14\n",
    "for i in range(0, 14):\n",
    "    drawText(20, 20 + i * 40, reflowedBook[firstLine + i])\n",
    "\n",
    "refresh()"
   ]
  },
  {
   "cell_type": "markdown",
   "id": "4f7ccd5d-1237-4a8a-bf4b-f9d46dcc563b",
   "metadata": {},
   "source": [
    "## Reset / Wakeup avec IO"
   ]
  },
  {
   "cell_type": "code",
   "execution_count": 3,
   "id": "c3032dde-fc40-4834-91f9-4660664a1c27",
   "metadata": {},
   "outputs": [],
   "source": [
    "import RPi.GPIO as GPIO"
   ]
  },
  {
   "cell_type": "code",
   "execution_count": 4,
   "id": "b9e20a40-c1f5-4f1a-bac2-1daba72d96cc",
   "metadata": {},
   "outputs": [],
   "source": [
    "GPIO.setmode(GPIO.BCM) # Système basé sur les # de GPIOs\n",
    "                       # L'alternative (GPIO.BOARD) serait basé sur position sur header"
   ]
  },
  {
   "cell_type": "code",
   "execution_count": 5,
   "id": "4d0ab970-f8f5-4f03-9d9e-069d722445a6",
   "metadata": {},
   "outputs": [],
   "source": [
    "GPIO.setup(22, GPIO.OUT)"
   ]
  },
  {
   "cell_type": "code",
   "execution_count": 7,
   "id": "187c4f2f-1f96-4c4e-988e-a1e960f44ef7",
   "metadata": {},
   "outputs": [],
   "source": [
    "GPIO.output(22, 0) # Wakeup off"
   ]
  },
  {
   "cell_type": "code",
   "execution_count": 6,
   "id": "15997256-8df3-4f8e-a428-aab2148182c7",
   "metadata": {},
   "outputs": [],
   "source": [
    "GPIO.output(22, 1) # Wakeup on"
   ]
  },
  {
   "cell_type": "code",
   "execution_count": 52,
   "id": "e3f6fa6b-6f21-4396-a12d-01e9fcc522bc",
   "metadata": {},
   "outputs": [],
   "source": [
    "GPIO.setup(24, GPIO.IN)"
   ]
  },
  {
   "cell_type": "code",
   "execution_count": 7,
   "id": "f9162fa7-d29d-4764-afe2-f7585311ce73",
   "metadata": {},
   "outputs": [
    {
     "data": {
      "text/plain": [
       "1"
      ]
     },
     "execution_count": 7,
     "metadata": {},
     "output_type": "execute_result"
    }
   ],
   "source": [
    "GPIO.input(24)"
   ]
  },
  {
   "cell_type": "code",
   "execution_count": 70,
   "id": "f1fc7bb6-f4a5-4aed-aef7-511aaad323fc",
   "metadata": {},
   "outputs": [],
   "source": [
    "GPIO.cleanup()"
   ]
  },
  {
   "cell_type": "code",
   "execution_count": 11,
   "id": "a009ba6b-1fce-4c4f-92b1-a805927bd2b7",
   "metadata": {},
   "outputs": [
    {
     "data": {
      "text/plain": [
       "24"
      ]
     },
     "execution_count": 11,
     "metadata": {},
     "output_type": "execute_result"
    }
   ],
   "source": [
    "GPIO.wait_for_edge(24, GPIO.FALLING)"
   ]
  },
  {
   "cell_type": "code",
   "execution_count": 23,
   "id": "75c46060-8879-485e-9b03-edcbc37554e9",
   "metadata": {},
   "outputs": [],
   "source": [
    "import time\n",
    "time.sleep(1.5)"
   ]
  },
  {
   "cell_type": "markdown",
   "id": "5ff12a02-0704-400e-b013-4a818b792d6e",
   "metadata": {
    "jp-MarkdownHeadingCollapsed": true
   },
   "source": [
    "## Short et long presses avec callback :"
   ]
  },
  {
   "cell_type": "code",
   "execution_count": 76,
   "id": "9469ec10-b5f3-4bd7-98fa-5b05e18fb769",
   "metadata": {},
   "outputs": [],
   "source": [
    "GPIO.remove_event_detect(24)"
   ]
  },
  {
   "cell_type": "code",
   "execution_count": 78,
   "id": "2206ae38-99d5-49a0-8d50-9119fa196437",
   "metadata": {},
   "outputs": [
    {
     "ename": "RuntimeError",
     "evalue": "Conflicting edge detection already enabled for this GPIO channel",
     "output_type": "error",
     "traceback": [
      "\u001b[0;31m---------------------------------------------------------------------------\u001b[0m",
      "\u001b[0;31mRuntimeError\u001b[0m                              Traceback (most recent call last)",
      "Cell \u001b[0;32mIn[78], line 18\u001b[0m\n\u001b[1;32m     13\u001b[0m             time\u001b[38;5;241m.\u001b[39msleep(\u001b[38;5;241m0.1\u001b[39m)\n\u001b[1;32m     15\u001b[0m     \u001b[38;5;28mprint\u001b[39m(\u001b[38;5;124m'\u001b[39m\u001b[38;5;124mloool\u001b[39m\u001b[38;5;124m'\u001b[39m)\n\u001b[0;32m---> 18\u001b[0m \u001b[43mGPIO\u001b[49m\u001b[38;5;241;43m.\u001b[39;49m\u001b[43madd_event_detect\u001b[49m\u001b[43m(\u001b[49m\u001b[38;5;241;43m24\u001b[39;49m\u001b[43m,\u001b[49m\u001b[43m \u001b[49m\u001b[43mGPIO\u001b[49m\u001b[38;5;241;43m.\u001b[39;49m\u001b[43mFALLING\u001b[49m\u001b[43m,\u001b[49m\u001b[43m \u001b[49m\u001b[43mcallback\u001b[49m\u001b[38;5;241;43m=\u001b[39;49m\u001b[43mmy_callback\u001b[49m\u001b[43m,\u001b[49m\u001b[43m \u001b[49m\u001b[43mbouncetime\u001b[49m\u001b[38;5;241;43m=\u001b[39;49m\u001b[38;5;241;43m1500\u001b[39;49m\u001b[43m)\u001b[49m\n",
      "\u001b[0;31mRuntimeError\u001b[0m: Conflicting edge detection already enabled for this GPIO channel"
     ]
    }
   ],
   "source": [
    "def my_callback(channel):\n",
    "    print('in')\n",
    "    misses = 0\n",
    "    for i in range(10):\n",
    "        if GPIO.input(channel) == 1:\n",
    "            misses += 1\n",
    "            \n",
    "        if misses >= 2:\n",
    "            print('misses == ', misses)\n",
    "            print('lel')\n",
    "            return\n",
    "        else:\n",
    "            time.sleep(0.1)\n",
    "\n",
    "    print('loool')\n",
    "        \n",
    "\n",
    "GPIO.add_event_detect(24, GPIO.FALLING, callback=my_callback, bouncetime=1500)"
   ]
  },
  {
   "cell_type": "markdown",
   "id": "df05fa2e-153d-4c5c-9975-56f8450b4114",
   "metadata": {},
   "source": [
    "## Préparer image dans GIMP"
   ]
  },
  {
   "cell_type": "markdown",
   "id": "1abaa28a-8968-41df-899b-fd81334fde52",
   "metadata": {},
   "source": [
    "Il faut :\n",
    "\n",
    "- Réduire à 800 x 600\n",
    "- Désaturer\n",
    "- Sauvegarder en \"Indexed\", mais sans utiliser ma palette mais plutôt \"Generate optimum\" (première option) avec 4.\n",
    "- Créer un nom à 10 char max, incluant point et bmp (exemple : MARDIG.BMP)"
   ]
  },
  {
   "cell_type": "markdown",
   "id": "5d83a168-48ac-40fe-9590-755f16b204b8",
   "metadata": {},
   "source": [
    "## Interface utilisateur prototype"
   ]
  },
  {
   "cell_type": "code",
   "execution_count": 24,
   "id": "77da5b3a-8e4f-4e9e-9713-be26c7574d4f",
   "metadata": {},
   "outputs": [
    {
     "data": {
      "text/plain": [
       "True"
      ]
     },
     "execution_count": 24,
     "metadata": {},
     "output_type": "execute_result"
    }
   ],
   "source": [
    "clear()\n",
    "refresh()"
   ]
  },
  {
   "cell_type": "code",
   "execution_count": 69,
   "id": "e5dd7d39-4e33-4780-a4d3-e0ad3454a27f",
   "metadata": {},
   "outputs": [
    {
     "data": {
      "text/plain": [
       "True"
      ]
     },
     "execution_count": 69,
     "metadata": {},
     "output_type": "execute_result"
    }
   ],
   "source": [
    "clear()\n",
    "setFontSize(3)\n",
    "drawText(150, 50, \"Prototype de livre\")\n",
    "drawText(230, 120, \"electronique\")\n",
    "drawCircle(250, 300, 30)\n",
    "drawCircle(390, 375, 30)\n",
    "drawCircle(250, 450, 30)\n",
    "setFontSize(1)\n",
    "drawText(300, 285, \"Livre\")\n",
    "drawText(440, 360, \"Demo images\")\n",
    "drawText(300, 435, \"Eteindre (Tenir)\")\n",
    "refresh()"
   ]
  },
  {
   "cell_type": "code",
   "execution_count": null,
   "id": "b4cca625-61f0-431f-8d53-d2fa8529d58c",
   "metadata": {},
   "outputs": [],
   "source": []
  }
 ],
 "metadata": {
  "kernelspec": {
   "display_name": "Python 3 (ipykernel)",
   "language": "python",
   "name": "python3"
  },
  "language_info": {
   "codemirror_mode": {
    "name": "ipython",
    "version": 3
   },
   "file_extension": ".py",
   "mimetype": "text/x-python",
   "name": "python",
   "nbconvert_exporter": "python",
   "pygments_lexer": "ipython3",
   "version": "3.11.2"
  }
 },
 "nbformat": 4,
 "nbformat_minor": 5
}
